{
 "cells": [
  {
   "cell_type": "markdown",
   "id": "d374e982",
   "metadata": {},
   "source": [
    "# Quiz - 3 @aninda\n",
    "\n"
   ]
  },
  {
   "cell_type": "markdown",
   "id": "3b883229",
   "metadata": {},
   "source": [
    "# Question - 1\n",
    "Write a python program that will take a string as input from the user.  The\\\n",
    "input string should have a combination of BOTH the alphabets and the\\\n",
    "digits. Then, your task is to identify the digits and alphabets from that\\\n",
    "input string and make separate groups that classify it into two categories:\\\n",
    "digits(0-9) and the alphabets. Consider the alphabets to be NOT\\\n",
    "case-sensitive.\n",
    "\n",
    "Then make a dictionary with the two separated groups where digits(0-9)’s\\\n",
    "key will be 1, and alphabet’s key will be 2. Then, finally, print the\\\n",
    "dictionary to the user.\n",
    "\n",
    "**<font color='red'>[Make sure when grouping the characters, NO DUPLICATE values are added]</font>**\n",
    "\n",
    "================================================\n",
    "\n",
    "**Sample Input 1:**\\\n",
    "CSE110 cse490 CsE258\n",
    "\n",
    "**Sample Output 1:**\\\n",
    "{1: ['1', '0', '4', '9', '2', '5', '8'], 2: ['c', 's', 'e']}\n",
    "\n",
    "**Explanation 1:**\\\n",
    "Here, '1', '0', '4', '9', '2', '5' , '8'  falls under the 1st category\\\n",
    "and 'c', 's', 'e' falls under the 2nd category.\n",
    "\n",
    "================================================\n",
    "\n",
    "**Sample Input 2:**\\\n",
    "this is cse110 quiz\n",
    "\n",
    "**Sample Output 2:**\\\n",
    "{1: ['1', '0'], 2: ['t', 'h', 'i', 's', 'c', 'e', 'q', 'u', 'z']}\n",
    "\n",
    "**Explanation 2:**\\\n",
    "Here, '1', '0' falls under the 1st category\\\n",
    "and  't', 'h', 'i', 's', 'c', 'e', 'q', 'u', 'z' falls under the 2nd\\\n",
    "category."
   ]
  },
  {
   "cell_type": "code",
   "execution_count": 9,
   "id": "54925e74",
   "metadata": {},
   "outputs": [
    {
     "name": "stdout",
     "output_type": "stream",
     "text": [
      "{1: ['1', '0', '4', '9', '2', '5', '8'], 2: ['t', 'h', 'e', 'c', 'o', 'u', 'r', 's', 'i', 'a', 'v', 'k', 'n', 'd']}\n"
     ]
    }
   ],
   "source": [
    "#TODO\n"
   ]
  },
  {
   "cell_type": "code",
   "execution_count": 28,
   "id": "5b62025e",
   "metadata": {},
   "outputs": [
    {
     "name": "stdout",
     "output_type": "stream",
     "text": [
      "nan\n"
     ]
    }
   ],
   "source": []
  },
  {
   "cell_type": "code",
   "execution_count": null,
   "id": "4b6804ba",
   "metadata": {},
   "outputs": [],
   "source": [
    "import mglearn\n",
    "mglearn.plots.plot_knn_classification(n_neighbors=3)"
   ]
  },
  {
   "cell_type": "markdown",
   "id": "c78ff4e2",
   "metadata": {},
   "source": [
    "# Question - 2\n",
    "Write a python program that takes a sentence as an input from the user.\\\n",
    "Create a dictionary with all the numbers where the keys will be the\\\n",
    "corresponding string lengths. You should ignore all the signs.\n",
    "\n",
    "================================================\n",
    "\n",
    "**Sample Input 1:**\\\n",
    "The two cats approached Bob with fear, but once they saw that Bob was\\\n",
    "harmless, they bonded with him quickly.\n",
    "\n",
    "**Sample Output 1:**\\\n",
    "{3: ['The', 'two', 'Bob', 'but', 'saw', 'Bob', 'was', 'him'], 4:\\\n",
    "['cats', 'with', 'fear', 'once', 'they', 'that', 'they', 'with'], 10:\\\n",
    "['approached'], 8: ['harmless'], 6: ['bonded'], 7: ['quickly']}\n",
    "\n",
    "**Explanation1:**\\\n",
    "Each word belongs to a key corresponding to its length.\n",
    "\n",
    "================================================\n",
    "\n",
    "**Sample Input 2:**\\\n",
    "Hard work is a key to achieving success.\n",
    "\n",
    "**Sample Output 2:**\\\n",
    "{4: ['Hard', 'work'], 2: ['is', 'to'], 1: ['a'], 3: ['key'], 9:\\\n",
    "['achieving'], 7: ['success']}\n",
    "\n",
    "\n",
    "**Explanation2:**\\\n",
    "Each word belongs to a key corresponding to its length."
   ]
  },
  {
   "cell_type": "code",
   "execution_count": 5,
   "id": "638d4a0d",
   "metadata": {},
   "outputs": [
    {
     "name": "stdout",
     "output_type": "stream",
     "text": [
      "{3: ['The', 'two', 'Bob', 'but', 'saw', 'Bob', 'was'], 4: ['cats', 'with', 'once', 'they', 'that'], 10: ['approached'], 5: ['fear,'], 8: ['harmless']}\n"
     ]
    }
   ],
   "source": [
    "#TODO\n",
    "\n",
    "    \n"
   ]
  },
  {
   "cell_type": "markdown",
   "id": "b11f1a17",
   "metadata": {},
   "source": [
    "# Question - 3\n",
    "Write a Python program that will take N Student IDs from the user.\\\n",
    "[First, take N, then take N number of student IDs as input from the user.]\\\n",
    "Create a dictionary from the N IDs that will hold the IDs in separate keys based on the admitting year.\n",
    "\n",
    "**Explanation: First 2 digits of the ID denotes the year.**\n",
    "\n",
    "================================================\n",
    "\n",
    "**Sample Input1:**\\\n",
    "5\\\n",
    "18101202\\\n",
    "18104354\\\n",
    "20101457\\\n",
    "19103372\\\n",
    "20301021\n",
    "\n",
    "**Sample Output1:**\\\n",
    "{'18th': ['18101202', '18104354'], '20th': ['20101457', '20301021'], '19th': ['19103372']}\n",
    "\n",
    "================================================\n",
    "\n",
    "**Sample Input2:**\\\n",
    "6\\\n",
    "10101202\\\n",
    "12104354\\\n",
    "13101457\\\n",
    "13103372\\\n",
    "20301021\\\n",
    "10101457\n",
    "\n",
    "**Sample Output2:**\\\n",
    "{'10th': ['10101202', '10101457'], '12th': ['12104354'], '13th': ['13101457', '13103372'], '20th': ['20301021']}"
   ]
  },
  {
   "cell_type": "code",
   "execution_count": 4,
   "id": "acee5eed",
   "metadata": {},
   "outputs": [
    {
     "name": "stdout",
     "output_type": "stream",
     "text": [
      "Enter the number6\n",
      "Enter the ids number: 10101202\n",
      "Enter the ids number: 12104354\n",
      "Enter the ids number: 13101457\n",
      "Enter the ids number: 13103372\n",
      "Enter the ids number: 20301021\n",
      "Enter the ids number: 10101457\n",
      "{'10th': ['10101202', '10101457'], '12th': ['12104354'], '13th': ['13101457', '13103372'], '20th': ['20301021']}\n"
     ]
    }
   ],
   "source": [
    "#TODO2\n",
    "\n",
    "            \n",
    "\n",
    "\n",
    "    "
   ]
  },
  {
   "cell_type": "code",
   "execution_count": 16,
   "id": "c94b56cb",
   "metadata": {},
   "outputs": [
    {
     "name": "stdout",
     "output_type": "stream",
     "text": [
      "Enter the number2\n",
      "Enter the ids number: 21301233\n",
      "Enter the ids number: 2130829\n",
      "{'21th': []}\n"
     ]
    }
   ],
   "source": [
    "\n"
   ]
  },
  {
   "cell_type": "markdown",
   "id": "19ac4468",
   "metadata": {},
   "source": [
    "# Question - 4\n",
    "Write a program that takes an integer as input and then constructs a\\\n",
    "dictionary. The dictionary should have nine keys at the end, representing\\\n",
    "numbers from 2 to 10 (inclusive). For each key, the value should be True,\\\n",
    "if the user input is divisible by the key. Otherwise, False.\n",
    "\n",
    "================================================\n",
    "\n",
    "**Sample Input 1:**\\\n",
    "40\n",
    "\n",
    "**Sample Output 1:**\\\n",
    "{2: True, 3: False, 4: True, 5: True, 6: False, 7: False, 8: True, 9:\\\n",
    "False, 10: True}\n",
    "\n",
    "**Explanation1:**\\\n",
    "40 is divisible by 2, 4, 5, 8, and 10, so the values for those keys are\\\n",
    "True. 40 is not divisible by 3, 6, 7, or 9, so the values for those keys\\\n",
    "are False.\n",
    "\n",
    "================================================\n",
    "\n",
    "**Sample Input 2:**\\\n",
    "11\n",
    "\n",
    "**Sample Output 2:**\\\n",
    "{2: False, 3: False, 4: False, 5: False, 6: False, 7: False, 8: False, 9:\\\n",
    " False, 10: False}\n",
    "\n",
    "**Explanation2:**\\\n",
    "11 is not divisible by any number from 2 to 10, so the values for all keys\\\n",
    "are False.\n",
    "\n",
    "================================================\n",
    "\n",
    "**Sample Input 3:**\\\n",
    "15\n",
    "\n",
    "**Sample Output 3:**\\\n",
    "{2: False, 3: True, 4: False, 5: True, 6: False, 7: False, 8: False, 9:\\\n",
    " False, 10: False}\n",
    "\n",
    "**Explanation3:**\\\n",
    "15 is divisible by 3 and 5, so the values for those keys are True. 15 is\\\n",
    "not divisible by 2, 4, 6, 7, 8 or 9, so the values for those keys are False."
   ]
  },
  {
   "cell_type": "code",
   "execution_count": 25,
   "id": "56d53fb5",
   "metadata": {},
   "outputs": [
    {
     "name": "stdout",
     "output_type": "stream",
     "text": [
      "Enter the number: 15\n",
      "{2: False, 3: True, 4: False, 5: True, 6: False, 7: False, 8: False, 9: False, 10: False}\n"
     ]
    }
   ],
   "source": [
    "#TODO\n"
   ]
  },
  {
   "cell_type": "markdown",
   "id": "b596135f",
   "metadata": {},
   "source": [
    "# Question - 5\n",
    "Take a single string as an input from the user where few numbers are\\\n",
    "separated by commas. Now, you have to check the divisibility of each of the\\\n",
    "numbers by 2, 3, or 5.\\\n",
    "Write a Python program that constructs a dictionary with keys “Divisible by\\\n",
    "2”, “Divisible by 3”, “Divisible by 5”, and “None”, with values as lists of\\\n",
    "elements satisfying the respective condition.\n",
    "\n",
    "================================================\n",
    "\n",
    "**Sample Input1:**\\\n",
    "15, 5, 3, 12, 14, 24, 49, 42\n",
    "\n",
    "**Sample Output1:**\\\n",
    "{'Divisible by 2': [12, 14, 24, 42], 'Divisible by 3': [15, 3, 12, 24,\\\n",
    "42], 'Divisible by 5': [15, 5], 'None': [49]}\n",
    "\n",
    "**Explanation1:**\\\n",
    "12, 14, 24, and 42 are divisible by 2, so they belong to the key named\\\n",
    "“Divisible by 2”. 15, 3, 12, 24, and 42 are divisible by 3, so they belong\\\n",
    "to the key named “Divisible by 3”. 15 and 5 are divisible by 5, so they\\\n",
    "belong to the key named “Divisible by 5”. 49 is not divisible by 2,3 or 5,\\\n",
    "so it belongs to the key named “None”."
   ]
  },
  {
   "cell_type": "code",
   "execution_count": 28,
   "id": "3cd604c5",
   "metadata": {},
   "outputs": [
    {
     "name": "stdout",
     "output_type": "stream",
     "text": [
      "{'Divisible by 2': [12, 14, 24, 42], 'Divisible by 3': [15, 3], 'Divisible by 5': [5], 'None': [49]}\n"
     ]
    }
   ],
   "source": [
    "#TODO\n"
   ]
  },
  {
   "cell_type": "markdown",
   "id": "40930c21",
   "metadata": {},
   "source": [
    "# Question - 6\n",
    "Write a python program that asks the user for a range (a starting\\\n",
    "number(inclusive) and an ending number(inclusive)). Make a dictionary with\\\n",
    "all the numbers that DO NOT end with 1, 2, and 7 within that range.\\\n",
    "Here in the dictionary, all the digits except 1, 2& 7 are the keys, and\\\n",
    "numbers that do not end with 1, 2 & 7 are the values. Finally, print the\\\n",
    "dictionary.\n",
    "\n",
    "================================================\n",
    "\n",
    "**Sample Input 1:**\\\n",
    "30\\\n",
    "50\n",
    "\n",
    "**Sample Output 1:**\\\n",
    "{0: [30, 40], 3: [33, 43], 4: [34, 44], 5: [35, 45], 6: [36, 46], 8: [38,\\\n",
    "48], 9: [39, 49]}\n",
    "\n",
    "================================================\n",
    "\n",
    "**Sample Input 2:**\\\n",
    "370\\\n",
    "385\n",
    "\n",
    "**Sample Output 2:**\\\n",
    "{0: [370, 380], 3: [373, 383], 4: [374, 384], 5: [375], 6: [376], 8: [378],\\\n",
    "9: [379]}"
   ]
  },
  {
   "cell_type": "code",
   "execution_count": 7,
   "id": "84093fc4",
   "metadata": {},
   "outputs": [
    {
     "name": "stdout",
     "output_type": "stream",
     "text": [
      "n1 nput30\n",
      "n2 input50\n",
      "{0: ['30', '40'], 3: ['33', '43'], 4: ['34', '44'], 5: ['35', '45'], 6: ['36', '46'], 8: ['38', '48'], 9: ['39', '49']}\n"
     ]
    }
   ],
   "source": [
    "#TODO\n"
   ]
  },
  {
   "cell_type": "markdown",
   "id": "1e782ce9",
   "metadata": {},
   "source": [
    "# 𝗤𝘂𝗲𝘀𝘁𝗶𝗼𝗻 - 7\n",
    "Write a Python program that will take N Student IDs from the user.\\\n",
    "[First, take N, then take N number of student IDs as input from the user.]\\\n",
    "Create a dictionary from the N IDs that will hold the IDs in separate keys based on\\\n",
    "the admitting semester.\n",
    "\n",
    "**Explanation: 3rd digit of the ID denotes semester.**\n",
    "\n",
    "            1 = Spring\n",
    "            3 = Summer\n",
    "            2 = Fall\n",
    "\n",
    "For example, 18101202 is from the Spring semester because the 3rd digit is 1.\n",
    "\n",
    "================================================\n",
    "\n",
    "**Sample Input1:**\\\n",
    "18101202\\\n",
    "18204354\\\n",
    "20101457\\\n",
    "19303372\\\n",
    "20201999\\\n",
    "STOP\n",
    "\n",
    "**Sample Output1:**\\\n",
    "{'Spring': ['18101202', '20101457'], 'Fall':\\\n",
    "['18204354', '20201999'], 'Summer': ['19303372']}\n",
    "\n",
    "================================================\n",
    "\n",
    "**Sample Input2:**\\\n",
    "18201202\\\n",
    "18104354\\\n",
    "20101457\\\n",
    "19203372\\\n",
    "STOP\n",
    "\n",
    "**Sample Output2:**\\\n",
    "{'Fall': ['18201202', '19203372'], 'Spring': ['18104354', '20101457']}"
   ]
  },
  {
   "cell_type": "code",
   "execution_count": 11,
   "id": "f443b7f3",
   "metadata": {},
   "outputs": [
    {
     "name": "stdout",
     "output_type": "stream",
     "text": [
      "Enter the number: 5\n",
      "enter the id number: 18101202\n",
      "enter the id number: 18204354\n",
      "enter the id number: 20101457\n",
      "enter the id number: 19303372\n",
      "enter the id number: 20201999\n",
      "{'Spring': ['18101202', '20101457'], 'Fall': ['18204354', '20201999'], 'Summer': ['19303372']}\n"
     ]
    }
   ],
   "source": [
    "\n",
    "        \n",
    "        "
   ]
  },
  {
   "cell_type": "code",
   "execution_count": null,
   "id": "47260ae7",
   "metadata": {},
   "outputs": [],
   "source": []
  }
 ],
 "metadata": {
  "kernelspec": {
   "display_name": "Python 3",
   "language": "python",
   "name": "python3"
  },
  "language_info": {
   "codemirror_mode": {
    "name": "ipython",
    "version": 3
   },
   "file_extension": ".py",
   "mimetype": "text/x-python",
   "name": "python",
   "nbconvert_exporter": "python",
   "pygments_lexer": "ipython3",
   "version": "3.8.8"
  }
 },
 "nbformat": 4,
 "nbformat_minor": 5
}
