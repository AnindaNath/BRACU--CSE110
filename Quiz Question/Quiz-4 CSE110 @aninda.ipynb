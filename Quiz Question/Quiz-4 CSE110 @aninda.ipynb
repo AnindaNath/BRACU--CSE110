{
 "cells": [
  {
   "cell_type": "markdown",
   "id": "ccb06ee4",
   "metadata": {},
   "source": [
    "# Quiz - 4 @aninda\n"
   ]
  },
  {
   "cell_type": "markdown",
   "id": "5f1a60aa",
   "metadata": {},
   "source": [
    "## 𝗤𝘂𝗲𝘀𝘁𝗶𝗼𝗻 - 1\n",
    "Write a python function that takes a list of numbers(integer) and a\\\n",
    "number(integer) as arguments. Your task is to identify pairs of numbers\\\n",
    "from the list whose ABSOLUTE difference is equal to the 2nd\\\n",
    "argument(number). If such a pair of numbers don’t exist in the list, then\\\n",
    "print ‘Not Possible’. Otherwise, print those pairs in a list format INSIDE\\\n",
    "the function.\n",
    "\n",
    "<font color='darkcyan'>Note:  You need to use the built-in function abs(number1, number2) to get\\\n",
    "the difference between two numbers.</font>\n",
    "\n",
    "================================================\n",
    "\n",
    "**Function Call1:**\\\n",
    "function_name([1, 17, 22, 38, 5, 11], 5)\n",
    "\n",
    "**Sample Output1:**\\\n",
    "[[17, 22]]\n",
    "\n",
    "**Explanation1:**\\\n",
    "The difference between 17 and 22 is 5.  17- 22 = 5(absolute value). So, the\\\n",
    "output pair is [17, 22]. Since there are no other pairs, only [17, 22] is\\\n",
    "printed in the answer list.\n",
    "\n",
    "================================================\n",
    "\n",
    "**Function Call2:**\\\n",
    "function_name([1, 5, 9, 15, 74], 4)\n",
    "\n",
    "**Sample Output2:**\\\n",
    "[[1, 5], [5, 9]]\n",
    "\n",
    "**Explanation2:**\\\n",
    "The difference between 1 and 5 is 4.\\\n",
    "1- 5 = 4(absolute value). So, the output pair is [1, 5].\n",
    "\n",
    "Again, The difference between 5 and 9 is 4.\\\n",
    "5- 9 = 4(absolute value). So, the output pair is [5, 9].\n",
    "\n",
    "Since, there are no other pairs, except  [1, 5] and [5, 9]. So, these are\\\n",
    "added and printed in the answer list.\n",
    "\n",
    "================================================\n",
    "**Function Call3:**\\\n",
    "function_name([1, 5, 9, 13], 5)\n",
    "\n",
    "**Sample Output3:**\\\n",
    "Not Possible\n",
    "\n",
    "**Explanation3:**\\\n",
    "In this case, there is no pair that gives a difference of 5. So, “NotPossible” is printed."
   ]
  },
  {
   "cell_type": "code",
   "execution_count": 24,
   "id": "fbcda25f",
   "metadata": {},
   "outputs": [
    {
     "name": "stdout",
     "output_type": "stream",
     "text": [
      "[[1, 5], [5, 9]]\n"
     ]
    }
   ],
   "source": [
    "#Todo\n"
   ]
  },
  {
   "cell_type": "markdown",
   "id": "399de570",
   "metadata": {},
   "source": [
    "## 𝗤𝘂𝗲𝘀𝘁𝗶𝗼𝗻 - 2\n",
    "Write a python function that takes a string as an argument. Then converts\\\n",
    "this string using the following three rules and finally RETURNS a new\\\n",
    "string to the function call.\n",
    "\n",
    "If the string is one character long, leave it alone.\\\n",
    "If the string ends with a vowel (a, e, i, o, u), just add ‘yay’ to the\\\n",
    "beginning of the string. (e.g., “apple” => “yayapple”)\\\n",
    "Otherwise, the last letter of the string is moved to the front and ‘ay’ is\\\n",
    "appended to the end (e.g., “dalek” => “kdaleay”)\n",
    "\n",
    "Assume, the argument string will always be in lowercase letters without any\\\n",
    "spaces.\\\n",
    "**<font color='red'>[ You cannot use slicing. You cannot use any built-in functions\\\n",
    "except input(), len(), split(), list.append(). ]</font>**\n",
    "\n",
    "================================================\n",
    "\n",
    "**Function call1:**\\\n",
    "function_name(\"b\")\n",
    "\n",
    "**Sample Output 1:**\\\n",
    "b\n",
    "\n",
    "**Explanation 1:**\\\n",
    "Here, the length of the string is 1, so no modification was done to it.\n",
    "\n",
    "================================================\n",
    "\n",
    "**Function call2:**\\\n",
    "function_name(\"apple\")\n",
    "\n",
    "**Sample Output 2:**\\\n",
    "yayapple\n",
    "\n",
    "**Explanation 2:**\\\n",
    "Here, the length of the string is greater than 1, and it ends with a vowel.\\\n",
    "So, “yay” was added at the beginning of the string.\n",
    "\n",
    "================================================\n",
    "\n",
    "**Function call3:**\\\n",
    "function_name(\"dalek\")\n",
    "\n",
    "**Sample Output 3:**\\\n",
    "kdaleay\n",
    "\n",
    "**Explanation 3:**\\\n",
    "Here, the length of the string is greater than 1, and it does not end with\\\n",
    "a vowel. So, the last character ‘k’ was moved to the beginning of the\\\n",
    "string, and ‘ay’ was added at the end."
   ]
  },
  {
   "cell_type": "code",
   "execution_count": 7,
   "id": "0798e669",
   "metadata": {},
   "outputs": [
    {
     "name": "stdout",
     "output_type": "stream",
     "text": [
      "enter the string_1: dalek\n",
      "kdaleay\n"
     ]
    }
   ],
   "source": [
    "#Todo\n",
    "\n"
   ]
  },
  {
   "cell_type": "markdown",
   "id": "861336b4",
   "metadata": {},
   "source": [
    "## 𝗤𝘂𝗲𝘀𝘁𝗶𝗼𝗻 - 3\n",
    "Write a function that takes a list as an argument. The list will contain a\\\n",
    "mixture of integers and letters. Your function should return a modified\\\n",
    "list so that --\\\n",
    "If the number of integers is twice the number of letters, then the list\\\n",
    "should contain 2 integers followed by 1 letter consecutively.\\\n",
    "If the number of letters is 3 times the number of integers (the ratio is 3:1),\\\n",
    "then the list should contain 3 letters followed by 1 integer consecutively.\\\n",
    "For other cases, arrange the integers and letters alternatively.\n",
    "\n",
    "================================================\n",
    "\n",
    "**Function Call1:**\\\n",
    "function_name(['2', 'r', '6', '7', 'a', '4', 'b', '7', '9', 'c', 'd', '5', '3', '7', '0'])\n",
    "\n",
    "**Sample Output1:**\\\n",
    "['2', '6', 'r', '7', '4', 'a', '7', '9', 'b', '5', '3', 'c', '7', '0', 'd']\n",
    "\n",
    "**Explanation1:**\\\n",
    "Since there are 10 integers and 5 letters, the list has been arranged\\\n",
    "according to condition 1.\n",
    "\n",
    "================================================\n",
    "\n",
    "**Function Call2:**\\\n",
    "function_name(['r', 'g', '3', 'u', 's', 'f', '8', '6', 's', 'a', 'f', 'i'])\n",
    "\n",
    "**Sample Output2:**\\\n",
    "['r', 'g', 'u', '3', 's', 'f', 's', '8', 'a', 'f', 'i', '6']\n",
    "\n",
    "**Explanation2:**\\\n",
    "Since there are 3 integers and 9 letters, the list has been arranged\\\n",
    "according to condition 2.\n",
    "\n",
    "================================================\n",
    "**Function Call3:**\\\n",
    "function_name(['2', '6', 't', '5', 'a', 'd', 's', 'f', '7', 'i', 'j', '9', 'a', '4', 'b'])\n",
    "\n",
    "**Sample Output3:**\\\n",
    "['2', 't', '6', 'a', '5', 'd', '7', 's', '9', 'f', '4', 'i', 'j', 'a', 'b']\n",
    "\n",
    "**Explanation3:**\\\n",
    "Since there are 6 integers and 9 letters, the list has been arranged\\\n",
    "according to condition 3. The extra letters at the end are left as it was.\n",
    "\n",
    "============================================="
   ]
  },
  {
   "cell_type": "code",
   "execution_count": 3,
   "id": "602dbe9b",
   "metadata": {},
   "outputs": [
    {
     "name": "stdout",
     "output_type": "stream",
     "text": [
      "['r', 'a', 'b', 'c', 'd']\n",
      "['2', '6', '7', '4', '7', '9', '5', '3', '7', '0']\n",
      "['2', '6', 'r', '7', '4', 'a', '7', '9', 'b', '5', '3', 'c', '7', '0', 'd']\n"
     ]
    }
   ],
   "source": [
    "#Todo\n"
   ]
  },
  {
   "cell_type": "code",
   "execution_count": 36,
   "id": "8902e237",
   "metadata": {},
   "outputs": [
    {
     "name": "stdout",
     "output_type": "stream",
     "text": [
      "26r26a26b26c26d\n",
      "['2', '6', 'r', '2', '6', 'a', '2', '6', 'b', '2', '6', 'c', '2', '6', 'd']\n"
     ]
    }
   ],
   "source": []
  },
  {
   "cell_type": "markdown",
   "id": "dc4664d8",
   "metadata": {},
   "source": [
    "## 𝗤𝘂𝗲𝘀𝘁𝗶𝗼𝗻 - 4\n",
    "Write a python function that takes a dictionary as an argument. In that\\\n",
    "dictionary,  the name of the students will be the key and a list of courses\\\n",
    "will be the value.\\\n",
    "Inside the function, you have to take a course name as input until the user\\\n",
    "gives 'STOP' in the input. Your task is to display the list of the students\\\n",
    "taken that course after each input.\n",
    "\n",
    "================================================\n",
    "\n",
    "Given Dictionary:\n",
    "\n",
    "    given_dict = { 'Mike' : ['CSE110','ENG101','MAT110'],              \n",
    "                  'Simon' : ['CSE111','PHY111','MAT110', 'CSE230'],\n",
    "                  'Shawn' : ['CSE110','ENG101','MAT120','CSE230'],\n",
    "                  'Alice' : ['CSE110','ENG091','MAT092']  }\n",
    "  \n",
    "================================================\n",
    "\n",
    "**Function call1:**\\\n",
    "function_name(given_dict)\n",
    "\n",
    "**Sample Input 1:**\\\n",
    "CSE110\\\n",
    "MAT110\\\n",
    "CSE260\\\n",
    "STOP\n",
    "\n",
    "**Sample Output 1:**\\\n",
    "[ 'Mike', 'Shawn', 'Alice' ]\\\n",
    "[ 'Mike', 'Simon']\\\n",
    "[ ]\n",
    "\n",
    "**Explanation 1:**\\\n",
    "Mike, Shawn, and Alice are doing CSE110.\\\n",
    "Mike and Simon are doing MAT110.\\\n",
    "No student is doing CSE260.\\\n",
    "\n",
    "================================================\n",
    "\n",
    "**Function call2:**\\\n",
    "function_name(given_dict)\n",
    "\n",
    "**Sample Input 2:**\\\n",
    "CSE111\\\n",
    "MAT110\\\n",
    "STOP\n",
    "\n",
    "**Sample Output 2:**\\\n",
    "[ 'Simon' ]\\\n",
    "[ 'Mike', 'Simon']\n",
    "\n",
    "**Explanation 2:**\\\n",
    "Simon is doing CSE111\\\n",
    "Mike and Simon are doing MAT110"
   ]
  },
  {
   "cell_type": "code",
   "execution_count": 1,
   "id": "dc222a1e",
   "metadata": {},
   "outputs": [
    {
     "name": "stdout",
     "output_type": "stream",
     "text": [
      "Enter the course name: CSE110\n",
      "['Mike', 'Shawn', 'Alice']\n",
      "Enter the couser name: ENG101\n",
      "['Mike', 'Shawn']\n",
      "Enter the couser name: ENG091\n",
      "['Alice']\n",
      "Enter the couser name: STOP\n"
     ]
    }
   ],
   "source": [
    "#Todo\n"
   ]
  },
  {
   "cell_type": "markdown",
   "id": "a4f5b160",
   "metadata": {},
   "source": [
    "## 𝗤𝘂𝗲𝘀𝘁𝗶𝗼𝗻 - 5\n",
    "Write a python function that takes a string as an argument where multiple\\\n",
    "numbers are separated by commas. Your task is to create a dictionary that\\\n",
    "will have the index of the list as key and summation from start to that\\\n",
    "index as value. Finally, Return the dictionary.\n",
    "\n",
    "================================================\n",
    "\n",
    "**Function Call1:**\\\n",
    "function_name(\"3,1,5,4,6,7,8\")\n",
    "\n",
    "**Sample Output 1:**\\\n",
    "{0: 3, 1: 4, 2: 9, 3: 13, 4: 19, 5: 26, 6: 34}\n",
    "\n",
    "**Explanation 1:**\\\n",
    "key 0 → value 3\\\n",
    "key 1 → value 3+1\\\n",
    "key 2 → value 3+1+5\\\n",
    "key 3 → value 3+1+5+4\\\n",
    "and so on...\n",
    "\n",
    "================================================\n",
    "\n",
    "**Function Call2:**\\\n",
    "function_name(\"5,1,3,7,4,8\")\n",
    "\n",
    "**Sample Output 2:**\\\n",
    "{0:5, 1:6, 2:9, 3:16, 4:20, 5:28}\n",
    "\n",
    "**Explanation 2:**\\\n",
    "key 0 → value 5\\\n",
    "key 1 → value 5+1\\\n",
    "key 2 → value 5+1+3\\\n",
    "and so on..."
   ]
  },
  {
   "cell_type": "code",
   "execution_count": 33,
   "id": "9b6cd21d",
   "metadata": {},
   "outputs": [
    {
     "name": "stdout",
     "output_type": "stream",
     "text": [
      "{0: 3, 1: 4, 2: 9, 3: 13, 4: 19, 5: 26, 6: 34}\n"
     ]
    }
   ],
   "source": [
    "#Todo\n"
   ]
  },
  {
   "cell_type": "markdown",
   "id": "4081f293",
   "metadata": {},
   "source": [
    "## Que𝘀𝘁𝗶𝗼𝗻 - 6\n",
    "\n",
    "Assume on a planet called **<font color='Chocolate'>“Chocolatey”</font>**, 1 month = 20 days and 1 year = 240\\\n",
    "days = 12 months.  Write a function Days that takes 2 arguments: a start\\\n",
    "date and the last date. Then calculates the number of days between these\\\n",
    "two dates(inclusive) and returns it to the function call.\\\n",
    "Assume, the start and last date will be given in dd/mm/yyyy format.\n",
    "\n",
    "================================\n",
    "\n",
    "**Function Call1:**\\\n",
    "function_name(\"3/8/2018\", \"12/12/2020\")\n",
    "\n",
    "**Sample Output1:**\\\n",
    "570\n",
    "\n",
    "================================\n",
    "\n",
    "**Function Call2:**\\\n",
    "function_name(\"3/8/2020\", \"12/12/2020\")\\\n",
    "\n",
    "**Sample Output2:**\\\n",
    "90\n",
    "\n",
    "================================\n",
    "\n",
    "**Function Call3:**\\\n",
    "function_name(\"3/8/2018\", \"3/9/2020\")\n",
    "\n",
    "**Sample Output3:**\\\n",
    "501\n",
    "\n",
    "================================\n",
    "\n",
    "**Function Call4:**\\\n",
    "function_name(\"3/8/2018\", \"10/8/2020\")\n",
    "\n",
    "**Sample Output4:**\\\n",
    "488"
   ]
  },
  {
   "cell_type": "code",
   "execution_count": 8,
   "id": "3d4d0069",
   "metadata": {},
   "outputs": [
    {
     "name": "stdout",
     "output_type": "stream",
     "text": [
      "240\n"
     ]
    }
   ],
   "source": [
    "#Todo\n"
   ]
  },
  {
   "cell_type": "code",
   "execution_count": 49,
   "id": "393a6db6",
   "metadata": {},
   "outputs": [
    {
     "name": "stdout",
     "output_type": "stream",
     "text": [
      "117\n"
     ]
    }
   ],
   "source": []
  },
  {
   "cell_type": "markdown",
   "id": "553c0585",
   "metadata": {},
   "source": [
    "## 𝗤𝘂𝗲𝘀𝘁𝗶𝗼𝗻 - 7\n",
    "Write a python function that takes a string as an argument and searches all\\\n",
    "the characters having multiple occurrences (except the spaces) in that\\\n",
    "string. Then, prepare and RETURN a dictionary where the keys will be the\\\n",
    "characters and values will be the positions of those characters in the string.\n",
    "\n",
    "================================================\n",
    "\n",
    "**Function Call1:**\\\n",
    "function_name(\"this is my first semester.\")\n",
    "\n",
    "**Sample Output 1:**\\\n",
    "{‘t’: [0, 15, 22],‘h’:[1], ‘i’: [2, 5, 12], ‘s’:[3, 6, 14, 17, 21],\\\n",
    " ‘m’: [8,19], ‘y’: [9], ‘f’:[11], ‘r’: [13, 24], ‘e’: [18, 20, 23]}\n",
    "\n",
    "**Explanation1:**\\\n",
    "Here, the character ‘t’ has appeared in indexes 0, 15, and 22. The\\\n",
    "character ‘h’ has appeared in index 1.  The character ‘i’ has appeared in\\\n",
    "indexes 2, 5, and 12. And so on.\n",
    "\n",
    "================================================\n",
    "\n",
    "**Function Call2:**\\\n",
    "function_name(\"my student id is 010101.\")\n",
    "\n",
    "**Sample Output 2:**\\\n",
    "{‘m’:[0],’y’:[1],‘s’: [3, 15], ‘t’: [4, 9],’u’:[5],’e’:[7],’n’:[8],\\\n",
    " ‘d’: [6, 12], ‘i’: [11, 14], ‘0’: [17,19,21],’1’: [18,20,22]}\n",
    "\n",
    "**Explanation2:**\\\n",
    "The character ‘m’ has appeared in index 0. The character ‘s’ has appeared\\\n",
    "in indexes 3 and 15.  The character ‘1’ has appeared in indexes 18, 20, and\\\n",
    "22. And so on."
   ]
  },
  {
   "cell_type": "code",
   "execution_count": 36,
   "id": "ec3fa8db",
   "metadata": {},
   "outputs": [
    {
     "name": "stdout",
     "output_type": "stream",
     "text": [
      "{'t': [0, 15, 22], 'h': [1], 'i': [2, 5, 12], 's': [3, 6, 14, 17, 21], 'm': [8, 19], 'y': [9], 'f': [11], 'r': [13, 24], 'e': [18, 20, 23]}\n"
     ]
    }
   ],
   "source": [
    "#Todo\n"
   ]
  },
  {
   "cell_type": "code",
   "execution_count": null,
   "id": "c885de33",
   "metadata": {},
   "outputs": [],
   "source": []
  }
 ],
 "metadata": {
  "kernelspec": {
   "display_name": "Python 3",
   "language": "python",
   "name": "python3"
  },
  "language_info": {
   "codemirror_mode": {
    "name": "ipython",
    "version": 3
   },
   "file_extension": ".py",
   "mimetype": "text/x-python",
   "name": "python",
   "nbconvert_exporter": "python",
   "pygments_lexer": "ipython3",
   "version": "3.8.8"
  }
 },
 "nbformat": 4,
 "nbformat_minor": 5
}
