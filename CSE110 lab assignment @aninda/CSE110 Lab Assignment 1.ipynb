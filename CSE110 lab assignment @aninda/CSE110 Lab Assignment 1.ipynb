{
 "cells": [
  {
   "cell_type": "markdown",
   "metadata": {
    "id": "uyPy6C3yGxw7"
   },
   "source": [
    "# CSE110 Lab Assignment 1\n",
    "\n",
    "This assignment is to guide you to solve basic programming problems in Python. Since this is the first assignment, the first problem is solved for you with explanations. Some problems are partially solved to help you. Go through them and try to understand each statment. If you can understand the problems and the solutions done for you, you can solve the rest of the tasks by yourself. \n",
    "\n",
    "**<font color='red'>[MUST MAINTAIN VARIABLE NAMING CONVENTIONS FOR ALL THE TASKS]</font>**\n",
    "\n",
    "## Write the Python code of the following problems:\n"
   ]
  },
  {
   "cell_type": "code",
   "execution_count": 1,
   "metadata": {},
   "outputs": [
    {
     "name": "stdout",
     "output_type": "stream",
     "text": [
      "I      love         Python          Programming\n"
     ]
    }
   ],
   "source": [
    "file=open(file=\"task 3 input 1.txt\",mode=\"r\")\n",
    "lines=file.read()\n",
    "print(lines)"
   ]
  },
  {
   "cell_type": "markdown",
   "metadata": {
    "id": "YuyYBntuGxxB"
   },
   "source": [
    "### Task 1\n",
    "\n",
    "Write Python code of a program that reads two numbers from the user, and prints their sum, product, and difference.\n",
    "\n",
    "==========================================================\n",
    "\n",
    "*hint: Subtract the second number from the first one*\n",
    "\n",
    "==========================================================\n",
    "\n",
    "**Example01:**\n",
    "\n",
    "Input:\\\n",
    " 4\\\n",
    " 5\n",
    "\n",
    "Output:\\\n",
    "Sum = 9\\\n",
    "Product = 20\\\n",
    "Difference = -1\n",
    "\n",
    "==========================================================\n",
    "\n",
    "**Example02:**\n",
    "\n",
    "Input:\\\n",
    " 30\\\n",
    " 2\n",
    "\n",
    "Output:\\\n",
    "Sum = 32\\\n",
    "Product = 60\\\n",
    "Difference = 28\n",
    "\n",
    "==========================================================\n",
    "\n",
    "For your explanation, the first question's code is done below. Try relating the block of code with the lesson you have learned and understand the significance of each line. You're most welcome to play around with the code. This will strengthen your understanding.\n"
   ]
  },
  {
   "cell_type": "code",
   "execution_count": null,
   "metadata": {
    "colab": {
     "base_uri": "https://localhost:8080/",
     "height": 144
    },
    "id": "Nm8cn6LGGxxB",
    "outputId": "30d3467d-eccb-4455-e945-37ded0a1a1de"
   },
   "outputs": [
    {
     "name": "stdout",
     "output_type": "stream",
     "text": [
      "Please Enter Your First Number30\n",
      "Please Enter Your Second Number2\n",
      "<class 'str'>\n",
      "<class 'str'>\n",
      "Sum = 32\n",
      "Product = 60\n",
      "Difference = 28\n"
     ]
    }
   ],
   "source": [
    "### Take input of 2 numbers from the user\n",
    "var_1 = input('Please Enter Your First Number')\n",
    "var_2 = input('Please Enter Your Second Number')\n",
    "\n",
    "#Since input() function converts everything to String,\n",
    "#for performing any kind of mathematical operation you need to convert them to int.\n",
    "#For this conversion, we need to use int() function\n",
    "\n",
    "\n",
    "# First, let's clarify whether the inputs are actually Strings or not. \n",
    "print(type(var_1))\n",
    "print(type(var_2))\n",
    "\n",
    "\n",
    "# Convert Strings to integer using the int() function\n",
    "var_3 = int(var_1)\n",
    "var_4 = int(var_2)\n",
    "\n",
    "#===============================================================\n",
    "#input taking and conversion can be done in a single sentense\n",
    "#var_1 = int(input('Please Enter Your First Number'))\n",
    "#var_2 = int(input('Please Enter Your Second Number'))\n",
    "\n",
    "#===============================================================\n",
    "\n",
    "# Perform Addition\n",
    "sum = var_3 + var_4\n",
    "\n",
    "# Perform Multiplication \n",
    "product = var_3 * var_4\n",
    "\n",
    "# Perform Substraction \n",
    "difference = var_3 - var_4\n",
    "\n",
    "# Print all the calculated results\n",
    "print(\"Sum =\", sum)\n",
    "print(\"Product =\", product)\n",
    "print(\"Difference =\", difference)"
   ]
  },
  {
   "cell_type": "markdown",
   "metadata": {
    "id": "RsWYzW1HGxxM"
   },
   "source": [
    "### Task 2\n",
    "\n",
    "Write Python code of a program that reads the radius of a circle and prints its circumference and area.\n",
    "\n",
    "==========================================================\n",
    "\n",
    "*hint(1): import math and then use **math.pi** for getting the value of pi.\\\n",
    "For details read from https://docs.python.org/3/library/math.html*\n",
    "\n",
    "*hints(2): You can import math and use math function for making squares math.pow(number, power)   Or you can simply write using power opeartor. For example:  S**2.*\n",
    "\n",
    "==========================================================\n",
    "\n",
    "**Example01:**\n",
    "\n",
    "Input: 4\n",
    "\n",
    "Output:\\\n",
    "Area is 50.26548245743669\\\n",
    "Circumference is 25.132741228718345\n",
    "\n",
    "==========================================================\n",
    "\n",
    "**Example02:**\n",
    "\n",
    "Input: 3.5\n",
    "\n",
    "Output:\\\n",
    "Area is 38.48451000647496\\\n",
    "Circumference is 21.991148575128552\n",
    "\n",
    "==========================================================\n",
    "\n",
    "For your explanation, the the first part of the question(area calculation) is done below."
   ]
  },
  {
   "cell_type": "code",
   "execution_count": 1,
   "metadata": {
    "id": "CsvW0BrsGxxM",
    "outputId": "7a4d33f7-4806-42fa-81b1-e7de132c7f47"
   },
   "outputs": [
    {
     "name": "stdout",
     "output_type": "stream",
     "text": [
      "please enter the radius value:10.5\n",
      "Area result is: 346.3605900582747\n"
     ]
    }
   ],
   "source": [
    "import math \n",
    "\n",
    "\n",
    "radius  = float(input(\"please enter the radius value:\")) \n",
    "\n",
    "area = math.pi * radius **2 \n",
    "print(\"Area result is:\", area)\n",
    "\n",
    "# area = math.pi * math.pow(radius, 2)\n",
    "# print(\"Area result is:\", area)\n",
    "\n",
    "# area = math.pi * radius * radius\n",
    "# print(\"Area result is:\", area)\n",
    "\n",
    "# TODO\n",
    "# calculate circumference"
   ]
  },
  {
   "cell_type": "markdown",
   "metadata": {
    "id": "_ix8TYCXGxxU"
   },
   "source": [
    "### Task 3\n",
    "\n",
    "Write Python code of a program that reads two numbers from the user. Your program should then print \"First is greater\" if the first number is greater, \"Second is greater\" if the second number is greater, and \"The numbers are equal\" otherwise.\n",
    "\n",
    "==========================================================\n",
    "\n",
    "**Example:**\n",
    "\n",
    "Input:\\\n",
    "-4\\\n",
    "-4\n",
    "\n",
    "Output:\\\n",
    "The numbers are equal\n",
    "\n",
    "==========================================================\n",
    "\n",
    "**Example:**\n",
    "\n",
    "Input:\\\n",
    "-40\\\n",
    "-4\n",
    "\n",
    "Output:\\\n",
    "Second is greater\n",
    "\n"
   ]
  },
  {
   "cell_type": "code",
   "execution_count": 2,
   "metadata": {
    "id": "0cXCOjm0GxxU"
   },
   "outputs": [
    {
     "name": "stdout",
     "output_type": "stream",
     "text": [
      "Enter the number: -4\n",
      "Enter the number: -4\n",
      "The numbers are equal\n"
     ]
    }
   ],
   "source": [
    "#Todo\n",
    "first_number=int(input(\"Enter the number: \"))\n",
    "second_number=int(input(\"Enter the number: \"))\n",
    "if(first_number>second_number):\n",
    "    print(\"First is greater\")\n",
    "elif(first_number<second_number):\n",
    "    print(\"Second is greater\")\n",
    "else:\n",
    "    print(\"The numbers are equal\")"
   ]
  },
  {
   "cell_type": "markdown",
   "metadata": {
    "id": "B-lEymPxGxxZ"
   },
   "source": [
    "### Task 4\n",
    "\n",
    "Write Python code of a program that reads two numbers, subtracts the smaller number from the larger one, and prints the result.\n",
    "\n",
    "*hint(1): First check which number is greater*\n",
    "\n",
    "==========================================================\n",
    "\n",
    "**Example:**\n",
    "\n",
    "Input:\\\n",
    "-40\\\n",
    "-4\n",
    "\n",
    "Output:\\\n",
    "36\n",
    "\n",
    "==========================================================\n",
    "\n",
    "**Example:**\n",
    "\n",
    "Input:\\\n",
    "6\\\n",
    "2\n",
    "\n",
    "Output:\\\n",
    "4\n"
   ]
  },
  {
   "cell_type": "code",
   "execution_count": null,
   "metadata": {
    "id": "XBdXtfEtGxxa"
   },
   "outputs": [],
   "source": [
    "#Todo\n",
    "num1=int(input(\"enter the first number: \"))\n",
    "num2=int(input(\"enter the second number: \"))\n",
    "\n",
    "if(num1>num2):\n",
    "    subtracts= num1 - num2\n",
    "    print(\" \",subtracts)\n",
    "elif(num1<num2):\n",
    "    subtracts= num2 - num1\n",
    "    print(\" \",subtracts)\n",
    "else:\n",
    "    print(\"Both qual\")"
   ]
  },
  {
   "cell_type": "markdown",
   "metadata": {
    "id": "jQEW8unEGxxf"
   },
   "source": [
    "### Task 5\n",
    "\n",
    "Write Python code of a program that reads a number, and prints \"The number is even\" or \"The number is odd\", depending on whether the number is even or odd. \n",
    "\n",
    "*hint(1): use the modulus (%) operator*\n",
    "\n",
    "*hint(2): You can consider the number to be an integer* \n",
    "\n",
    "==========================================================\n",
    "\n",
    "**Example:**\n",
    "\n",
    "Input:\\\n",
    "5\n",
    "\n",
    "Output:\\\n",
    "The number is odd\n",
    "\n",
    "\n",
    "==========================================================\n",
    "\n",
    "**Example:**\n",
    "\n",
    "Input:\\\n",
    "-44\n",
    "\n",
    "Output:\\\n",
    "The number is even\n"
   ]
  },
  {
   "cell_type": "code",
   "execution_count": null,
   "metadata": {
    "id": "SsjHXfW_Gxxg"
   },
   "outputs": [],
   "source": [
    "#Todo\n",
    "fnumber=int(input('Enter the number: '))\n",
    "if(fnumber%2==0):\n",
    "    print(\"The number is even\")\n",
    "else:\n",
    "    print(\"The number is odd\")"
   ]
  },
  {
   "cell_type": "markdown",
   "metadata": {
    "id": "bXNE8TTGGxxn"
   },
   "source": [
    "### Task 6\n",
    "\n",
    "Write Python code of a program that reads an integer, and prints the integer if it is a multiple of **either 2 or 5.**\n",
    "\n",
    "For example, 2, 4, 5, 6, 8, 10, 12, 14, 15, 16, 18, 20, 22 …\n",
    "\n",
    "==========================================================\n",
    "\n",
    "*hint(1): use the modulus (%) operator for checking the divisibility*\n",
    "\n",
    "*hint(2): You can consider the number to be an integer* \n",
    "\n",
    "\n",
    "==========================================================\n",
    "\n",
    "**Example01:**\n",
    "\n",
    "Input:\\\n",
    "5\n",
    "\n",
    "Output:\\\n",
    "5\n",
    "\n",
    "\n",
    "==========================================================\n",
    "\n",
    "**Example02:**\n",
    "\n",
    "Input:\\\n",
    "10\n",
    "\n",
    "Output:\\\n",
    "10\n",
    "\n",
    "==========================================================\n",
    "\n",
    "**Example03:**\n",
    "\n",
    "Input:\\\n",
    "3\n",
    "\n",
    "Output:\\\n",
    "Not a multiple\n"
   ]
  },
  {
   "cell_type": "code",
   "execution_count": null,
   "metadata": {
    "id": "J2siE5HRGxxo"
   },
   "outputs": [],
   "source": [
    "#Todo\n",
    "number=int(input(\"Enter the number: \"))\n",
    "if(number%2==0 or number%5==0):\n",
    "    print(\"\",number)\n",
    "else:\n",
    "    print(\"Not a multiple\")"
   ]
  },
  {
   "cell_type": "code",
   "execution_count": 2,
   "metadata": {},
   "outputs": [
    {
     "name": "stdout",
     "output_type": "stream",
     "text": [
      "3\n",
      "amar int value ta valid na \n"
     ]
    }
   ],
   "source": [
    "number=int(input(\"\"))\n",
    "# if number%2:\n",
    "#     print(number)\n",
    "# elif number%5==0:\n",
    "#     print(number)\n",
    "\n",
    "\n",
    "if number %2==0 or number%5==0:\n",
    "    print(number)\n",
    "else:\n",
    "    print(\"amar int value ta valid na \")\n",
    "    "
   ]
  },
  {
   "cell_type": "markdown",
   "metadata": {
    "id": "W0VUh6LyGxxr"
   },
   "source": [
    "### Task 7\n",
    "Write Python code of a program that reads an integer, and prints the integer  it is a multiple of **either 2 or 5 but not both.** \n",
    "\n",
    "For example, 2, 4, 5, 6, 8, 12, 14, 15, 16, 18, 22 …\n",
    "\n",
    "==========================================================\n",
    "\n",
    "*hint(1): use the modulus (%) operator for checking the divisibility*\n",
    "\n",
    "*hint(2): You can consider the number to be an integer* \n",
    "\n",
    "==========================================================\n",
    "\n",
    "**Example01:**\n",
    "\n",
    "Input:\\\n",
    "5\n",
    "\n",
    "Output:\\\n",
    "5\n",
    "\n",
    "==========================================================\n",
    "\n",
    "**Example02:**\n",
    "\n",
    "Input:\\\n",
    "10\n",
    "\n",
    "Output:\\\n",
    "multiple of 2 and 5 both\n",
    "\n",
    "==========================================================\n",
    "\n",
    "**Example02:**\n",
    "\n",
    "Input:\\\n",
    "44\n",
    "\n",
    "Output:\\\n",
    "44"
   ]
  },
  {
   "cell_type": "code",
   "execution_count": 2,
   "metadata": {
    "id": "O_kEf_WsGxxr"
   },
   "outputs": [
    {
     "name": "stdout",
     "output_type": "stream",
     "text": [
      "Enter the number: 3\n",
      "None of this\n"
     ]
    }
   ],
   "source": [
    "#Todo\n",
    "number=int(input(\"Enter the number: \"))\n",
    "if(number%2==0 and number%5==0):\n",
    "    print(\"multiple of 2 and 5 both\")\n",
    "elif(number%2==0):\n",
    "    print(\" \",number)\n",
    "elif(number%5==0):\n",
    "    print(\" \",number)\n",
    "else:\n",
    "    print(\"None of this\")"
   ]
  },
  {
   "cell_type": "markdown",
   "metadata": {
    "id": "w6Yoi7DfGxxw"
   },
   "source": [
    "### Task 8\n",
    "Write Python code of a program that reads an integer, and prints the integer if it is a multiple of **2 and 5.**\n",
    "\n",
    "\n",
    "==========================================================\n",
    "\n",
    "For example, 10, 20, 30, 40, 50 …\n",
    "\n",
    "*hint(1): use the modulus (%) operator for checking the divisibility*\n",
    "\n",
    "*hint(2): You can consider the number to be an integer* \n",
    "\n",
    "\n",
    "==========================================================\n",
    "\n",
    "**Example01:**\n",
    "\n",
    "Input:\\\n",
    "5\n",
    "\n",
    "Output:\\\n",
    "Not multiple of 2 and 5 both\n",
    "\n",
    "\n",
    "==========================================================\n",
    "\n",
    "**Example02:**\n",
    "\n",
    "Input:\\\n",
    "40\n",
    "\n",
    "Output:\\\n",
    "40\n",
    "\n",
    "==========================================================\n",
    "\n",
    "**Example02:**\n",
    "\n",
    "Input:\\\n",
    "40\n",
    "\n",
    "Output:\\\n",
    "40"
   ]
  },
  {
   "cell_type": "code",
   "execution_count": null,
   "metadata": {
    "id": "-Zjnff92Gxxx",
    "scrolled": true
   },
   "outputs": [],
   "source": [
    "#Todo\n",
    "number=int(input(\"enter the number: \"))\n",
    "if(number%2==0 and number%5==0):\n",
    "    print(\" \",number)\n",
    "else:\n",
    "    print(\"Not multiple of 2 and 5 both\")"
   ]
  },
  {
   "cell_type": "markdown",
   "metadata": {
    "id": "APBZn5NOGxx0"
   },
   "source": [
    "### Task 9\n",
    "\n",
    "\n",
    "Write Python code of a program that reads an integer, and prints the integer if it is a multiple of **NEITHER 2 NOR 5.** \n",
    "\n",
    "For example, 1, 3, 7, 9, 11, 13, 17, 19, 21, 23, 27, 29, 31, 33, 37, 39 …\n",
    "\n",
    "==========================================================\n",
    "\n",
    "*hint(1): use the modulus (%) operator for checking the divisibility*\n",
    "\n",
    "*hint(2): You can consider the number to be an integer* \n",
    "\n",
    "\n",
    "==========================================================\n",
    "\n",
    "**Example01:**\n",
    "\n",
    "Input:\\\n",
    "3\n",
    "\n",
    "Output:\\\n",
    "3\n",
    "\n",
    "\n",
    "==========================================================\n",
    "\n",
    "**Example02:**\n",
    "\n",
    "Input:\\\n",
    "19\n",
    "\n",
    "Output:\\\n",
    "19\n",
    "\n",
    "==========================================================\n",
    "\n",
    "**Example03:**\n",
    "\n",
    "Input:\\\n",
    "5\n",
    "\n",
    "Output:\\\n",
    "No\n",
    "\n",
    "==========================================================\n",
    "\n",
    "**Example04:**\n",
    "\n",
    "Input:\\\n",
    "12\n",
    "\n",
    "Output:\\\n",
    "No\n"
   ]
  },
  {
   "cell_type": "code",
   "execution_count": 8,
   "metadata": {
    "id": "3j7LKP26Gxx2"
   },
   "outputs": [
    {
     "name": "stdout",
     "output_type": "stream",
     "text": [
      "Enter the number: 19\n",
      "  19\n"
     ]
    }
   ],
   "source": [
    "#Todo\n",
    "number=int(input(\"Enter the number: \"))\n",
    "if(number%2!=0 and number%5!=0):\n",
    "    print(\" \",number)\n",
    "else:\n",
    "    print(\"No\")"
   ]
  },
  {
   "cell_type": "markdown",
   "metadata": {
    "id": "rhv6Zkj7Gxx5"
   },
   "source": [
    "### Task 10\n",
    "\n",
    "Write Python code of a program that reads an integer, and prints the integer if it is **NOT a multiple of 2** OR **NOT a multiple of 5.**\n",
    "\n",
    "For example, 1, 2, 3, 4, 5, 6, 7, 8, 9, 11, 12, 13, 14, 15, 16, 17, 18, 19, 21, 22\n",
    "\n",
    "==========================================================\n",
    "\n",
    "*hint(1): use the modulus (%) operator for checking the divisibility*\n",
    "\n",
    "*hint(2): You can consider the number to be an integer* \n",
    "\n",
    "\n",
    "==========================================================\n",
    "\n",
    "**Example01:**\n",
    "\n",
    "Input:\\\n",
    "3\n",
    "\n",
    "Output:\\\n",
    "3\n",
    "\n",
    "==========================================================\n",
    "\n",
    "**Example02:**\n",
    "\n",
    "Input:\\\n",
    "11\n",
    "\n",
    "Output:\\\n",
    "11\n",
    "\n",
    "==========================================================\n",
    "\n",
    "**Example03:**\n",
    "\n",
    "Input:\\\n",
    "20\n",
    "\n",
    "Output:\\\n",
    "No"
   ]
  },
  {
   "cell_type": "code",
   "execution_count": 6,
   "metadata": {
    "id": "mEjdHcbGGxx5"
   },
   "outputs": [
    {
     "name": "stdout",
     "output_type": "stream",
     "text": [
      "Enter the number: 20\n",
      "No\n"
     ]
    }
   ],
   "source": [
    "number=int(input(\"Enter the number: \"))\n",
    "if(not(number%2==0 or number%5==0)):\n",
    "    print(\" \", number)\n",
    "else:\n",
    "    print(\"No\")"
   ]
  },
  {
   "cell_type": "markdown",
   "metadata": {
    "id": "KV1hMmd2Gxx9"
   },
   "source": [
    "### Task 11\n",
    "\n",
    "Write Python code of a program that reads a student’s mark for a single subject, and prints out the corresponding grade for that mark. The mark ranges and corresponding grades are shown in the table below. You need to make sure that the marks are valid. For example, a student cannot receive -5 or 110. So the valid marks range is 0 to 100.\n",
    "\n",
    "*hint(1): You can consider the number to be an integer* \n",
    "\n",
    "*hint(2): This problem can be solved in two ways: top-down (starts from A) and bottom-up (starts from F)*\n",
    "\n",
    "\n",
    "| Marks | Grage|\n",
    "| --- | --- | \n",
    "|90 or above| A |\n",
    "|  |  | \n",
    "|80-89| B |\n",
    "|  |  | \n",
    "|70-79| C |\n",
    "|  |  | \n",
    "|60-69| D |\n",
    "|  |  | \n",
    "|50-59| E |\n",
    "|  |  | \n",
    "|Below 50| F |\n",
    "\n",
    "\n",
    "\n",
    "\n",
    "\n"
   ]
  },
  {
   "cell_type": "code",
   "execution_count": 34,
   "metadata": {
    "id": "9sr1xTkMGxx_"
   },
   "outputs": [
    {
     "name": "stdout",
     "output_type": "stream",
     "text": [
      "Enter the mark-2\n",
      "NO valid\n"
     ]
    }
   ],
   "source": [
    "#Todo\n",
    "mark=int(input(\"Enter the a student’s mark's \"))\n",
    "if(mark>=0 and mark<=100):\n",
    "    \n",
    "    if(mark<50):\n",
    "        print(\"F\")\n",
    "    elif(mark>=50 and mark<=59):\n",
    "        print(\"E\")\n",
    "    elif(mark>=60 and mark<=69):\n",
    "         print(\"D\")\n",
    "    elif(mark>=70 and mark<=79):\n",
    "         print(\"C\")\n",
    "    elif(mark>=80 and mark<=89):\n",
    "         print(\"B\")\n",
    "    elif(mark>=90):\n",
    "        print(\"A\")\n",
    "else:\n",
    "    print(\"NO valid\")\n"
   ]
  },
  {
   "cell_type": "code",
   "execution_count": 8,
   "metadata": {},
   "outputs": [
    {
     "name": "stdout",
     "output_type": "stream",
     "text": [
      "100\n",
      "26000\n"
     ]
    }
   ],
   "source": [
    "Hour =int(input(\"\"))\n",
    "print((60*300)+40*200)"
   ]
  },
  {
   "cell_type": "markdown",
   "metadata": {
    "id": "2LC9or6kGxyD"
   },
   "source": [
    "### Task 12\n",
    "\n",
    "Write Python code of a program to compute and display a person’s weekly salary as determined by the following conditions:\n",
    "If the hours worked are less than or equal to 40, the person receives Tk200.00 per hour, else the person receives Tk8000.00 plus Tk300.00 for each hour worked over 40 hours.\n",
    "The program should request the hours worked as input and should display the salary as output.\n",
    "\n",
    "==========================================================\n",
    "\n",
    "*hint: You can consider the hour(the user input) to be an integer* \n",
    "\n",
    "==========================================================\n",
    "\n",
    "**Example1:**\\\n",
    "Input: 100\\\n",
    "Output: 26000\n",
    "\n",
    "==========================================================\n",
    "\n",
    "**Example2:**\\\n",
    "Input: 30\\\n",
    "Output: 6000\n"
   ]
  },
  {
   "cell_type": "code",
   "execution_count": 39,
   "metadata": {
    "id": "L5JmB1bDGxyD"
   },
   "outputs": [
    {
     "name": "stdout",
     "output_type": "stream",
     "text": [
      "Enter the hour45\n",
      "salary=  9500\n"
     ]
    }
   ],
   "source": [
    "#Todo#Todo\n",
    "Hour=int(input(\"Enter the hour\"))\n",
    "if(Hour<=40):\n",
    "    salary=Hour*200\n",
    "    print(\"salary= \", salary)\n",
    "else:\n",
    "    salary=(8000+(Hour-40)*300)\n",
    "    print(\"salary= \",salary)"
   ]
  },
  {
   "cell_type": "markdown",
   "metadata": {
    "id": "_6lrd5lZGxyJ"
   },
   "source": [
    "### Task 13\n",
    "Write Python code of a program that finds the number of hours, minutes, and seconds in a **given number of seconds.** \n",
    "\n",
    "==========================================================\n",
    "\n",
    "*hint(1): The user input will be an integer value* \n",
    "\n",
    "*hint(2): 1 hour = 60 mins = 3600 seconds*\\\n",
    "*1min = 60 seconds* \n",
    "\n",
    "==========================================================\n",
    "\n",
    "\n",
    "**Example01:**\\\n",
    "Input: 10000\\\n",
    "Output: Hours: 2  Minutes: 46  Seconds: 40\n",
    "\n",
    "==========================================================\n",
    "\n",
    "**Example02:**\\\n",
    "Input: 500\\\n",
    "Output: Hours: 0  Minutes: 8  Seconds: 20\n",
    "\n",
    "\n"
   ]
  },
  {
   "cell_type": "code",
   "execution_count": 43,
   "metadata": {
    "id": "xd9l2gQvGxyN"
   },
   "outputs": [
    {
     "name": "stdout",
     "output_type": "stream",
     "text": [
      "Enter the given number 500\n",
      "Hours: 0 Minutes: 8 Seconds: 20\n"
     ]
    }
   ],
   "source": [
    "seconds=int(input(\"Enter the given number \"))\n",
    "Hour=seconds//3600\n",
    "left_seconds=seconds%3600\n",
    "mins=left_seconds//60\n",
    "seconds=left_seconds%60\n",
    "print( \"Hours:\",Hour, \"Minutes:\",mins, \"Seconds:\",seconds)"
   ]
  },
  {
   "cell_type": "code",
   "execution_count": 12,
   "metadata": {},
   "outputs": [
    {
     "name": "stdout",
     "output_type": "stream",
     "text": [
      "2\n"
     ]
    }
   ],
   "source": [
    "print(5//2)"
   ]
  },
  {
   "cell_type": "code",
   "execution_count": 13,
   "metadata": {},
   "outputs": [
    {
     "name": "stdout",
     "output_type": "stream",
     "text": [
      "120\n",
      "2416.2162162162163\n"
     ]
    }
   ],
   "source": [
    "s=int(input(\"\"))\n",
    "if s<100:\n",
    "    print(3000-125*(s**2))\n",
    "elif s>=100:\n",
    "    print(12000/(4+(s**2)/14900))"
   ]
  },
  {
   "cell_type": "markdown",
   "metadata": {
    "id": "NQZL_Wh-GxyW"
   },
   "source": [
    "### Task 14\n",
    "Suppose the following expressions are used to calculate the values of L for different values of S:\n",
    "\n",
    "$L =  3000-125S^2$ \n",
    "if     $S<100$\n",
    "\n",
    "$ L =  \\frac{12000}{4+S^2/14900}$\n",
    "if     $S\\geq100$\n",
    "\n",
    "Write a Python code of a program that reads a value of S and then calculates the value of L.\n",
    "\n",
    "==========================================================\n",
    "\n",
    "*hint(1): You can import math and use math function for making squares math.pow(number, power)   Or you can simply write S**2.*\n",
    "\n",
    "*hint(2): The value of S(user input) will be an integer* \n",
    "\n",
    "==========================================================\n",
    "\n",
    "**Example01:**\\\n",
    "Input: 120\\\n",
    "Output: 2416.2162162162163\n",
    "\n",
    "\n",
    "==========================================================\n",
    "\n",
    "**Example02:**\\\n",
    "Input: 3\\\n",
    "Output: 1875\n"
   ]
  },
  {
   "cell_type": "code",
   "execution_count": 4,
   "metadata": {
    "id": "nxgt9wlFGxyY"
   },
   "outputs": [
    {
     "name": "stdout",
     "output_type": "stream",
     "text": [
      "Enter the value: 120\n",
      "  2416.2162162162163\n"
     ]
    }
   ],
   "source": [
    "S=int(input(\"Enter the value: \"))\n",
    "if(S<100):\n",
    "    L=3000-125*S**2\n",
    "    print(\" \",L)\n",
    "else:\n",
    "    (S>=100)\n",
    "    L=12000/(4+S**2/14900)\n",
    "    print(\" \",L)"
   ]
  },
  {
   "cell_type": "markdown",
   "metadata": {
    "id": "WykwxxMBGxyd"
   },
   "source": [
    "### Task 15\n",
    "\n",
    "Take an hour from the user as input and tell it is time for which meal.\n",
    "\n",
    "•\tThe user will input the number in a 24-hour format. So, 14 means 2 pm, 3 means 3 am, 18 means 6 pm, etc.\\\n",
    "•\tValid inputs are 0 to 23. Inputs less than 0 or more than 23 are invalid in 24-hour clock.\\\n",
    "•\tAssume, Input will be whole numbers. For example, 3.5 will NOT be given as input.\n",
    "\n",
    "==========================================================\n",
    "\n",
    "Inputs: Message to be printed\\\n",
    "4 to 6: Breakfast\\\n",
    "12 to 13: Lunch\\\n",
    "16 to 17: Snacks\\\n",
    "19 to 20: Dinner\\\n",
    "For all other valid inputs, say \"Patience is a virtue\"\\\n",
    "For all other invalid inputs, say \"Wrong time\"\n",
    "\n",
    "==========================================================\n",
    "\n",
    "For example,\\\n",
    "If the user enters 4, your program should print the message \"Breakfast\".\\\n",
    "If the user enters 5, your program should print the message \"Breakfast\".\\\n",
    "If the user enters 6, your program should print the message \"Breakfast\".\\\n",
    "If the user enters 0, your program should print the message \"Patience is a virtue\".\\\n",
    "If the user enters 1, your program should print the message \"Patience is a virtue\".\\\n",
    "If the user enters 18, your program should print the message \"Patience is a virtue\".\\\n",
    "If the user enters 23, your program should print the message \"Patience is a virtue\".\\\n",
    "If the user enters 24, your program should print the message \"Wrong Time\".\\\n",
    "If the user enters -1, your program should print the message \"Wrong Time\".\\\n",
    "If the user enters 27, your program should print the message \"Wrong time\".\n",
    "\n",
    "==========================================================\n",
    "\n",
    "Hints:\\\n",
    "You can use nested conditionals (if-else) or chained conditions (if-elif-else) to solve this problem.\n",
    "\n"
   ]
  },
  {
   "cell_type": "code",
   "execution_count": null,
   "metadata": {
    "id": "0qbV5e33Gxye"
   },
   "outputs": [],
   "source": [
    "#Todo\n",
    "hour=int(input(\"Enter the hour\"))\n",
    "if(hour>=0 and hour<=23):\n",
    "    if(hour>=4 and hour<=6):\n",
    "        print(\"Breakfast\")\n",
    "    elif(hour>=12 and hour<=13):\n",
    "        print(\"Lunch\")\n",
    "    elif(hour>=16 and hour<=17):\n",
    "        print(\"snacks\")\n",
    "    elif(hour>=19 and hour<=20):\n",
    "        print(\"Dinar\")\n",
    "    else:\n",
    "        print(\"Patience is a virtue\")\n",
    "else:\n",
    "    print(\"Wrong time\")"
   ]
  }
 ],
 "metadata": {
  "colab": {
   "collapsed_sections": [],
   "name": "CSE110 Lab Assignment 1.ipynb",
   "provenance": []
  },
  "kernelspec": {
   "display_name": "Python 3",
   "language": "python",
   "name": "python3"
  },
  "language_info": {
   "codemirror_mode": {
    "name": "ipython",
    "version": 3
   },
   "file_extension": ".py",
   "mimetype": "text/x-python",
   "name": "python",
   "nbconvert_exporter": "python",
   "pygments_lexer": "ipython3",
   "version": "3.8.8"
  }
 },
 "nbformat": 4,
 "nbformat_minor": 1
}
