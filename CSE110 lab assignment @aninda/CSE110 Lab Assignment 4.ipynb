{
 "cells": [
  {
   "cell_type": "markdown",
   "metadata": {
    "id": "xDNsncrtU1yM"
   },
   "source": [
    "# CSE110 Lab Assignment 4\n",
    "\n",
    "This Assignment is to help you develop your concept of Lists in Python."
   ]
  },
  {
   "cell_type": "markdown",
   "metadata": {
    "id": "gh4GUDaIU1yO"
   },
   "source": [
    "\n",
    "\n",
    "\n",
    "\n",
    "\n",
    "\n",
    "##Write your name, student ID and CSE110 theory section number below:\n",
    "\n",
    "\n",
    "\n",
    "\n",
    "\n"
   ]
  },
  {
   "cell_type": "code",
   "execution_count": null,
   "metadata": {
    "id": "OAYfzLIqgqyE"
   },
   "outputs": [],
   "source": [
    "#STUDENT NAME:vaskor debnath \n",
    "#STUDENT ID:21301211\n",
    "#CSE110 THEORY SECTION: 10"
   ]
  },
  {
   "cell_type": "markdown",
   "metadata": {
    "id": "KD4EKJf6U1yQ"
   },
   "source": [
    "## Write the code in Python to do the following tasks:\n",
    "\n",
    "**<font color='red'>[MUST MAINTAIN VARIABLE NAMING CONVENTIONS FOR ALL THE TASKS]</font>**"
   ]
  },
  {
   "cell_type": "markdown",
   "metadata": {
    "id": "pbdeIVcyU1yi"
   },
   "source": [
    "### Task 1\n",
    "Write a Python program that reads 10 numbers from the user into a list. After reading each number, print all the numbers that have been entered so far in the list. \n",
    "\n",
    "**Example:**\\\n",
    "After the user enters 3, prints “Numbers in the list: [3]”\\\n",
    "After the user enters 5, prints “Numbers in the list: [3, 5]”\\\n",
    "After the user enters 34, prints “Numbers in the list: [3, 5, 34]”\\\n",
    ".... and so on"
   ]
  },
  {
   "cell_type": "code",
   "execution_count": 13,
   "metadata": {
    "id": "A5df9pmJU1yj"
   },
   "outputs": [
    {
     "name": "stdout",
     "output_type": "stream",
     "text": [
      "Enter the number: 1\n",
      "Numbers in the list:  [1]\n",
      "Enter the number: 2\n",
      "Numbers in the list:  [1, 2]\n",
      "Enter the number: 3\n",
      "Numbers in the list:  [1, 2, 3]\n",
      "Enter the number: 4\n",
      "Numbers in the list:  [1, 2, 3, 4]\n",
      "Enter the number: 5\n",
      "Numbers in the list:  [1, 2, 3, 4, 5]\n",
      "Enter the number: 6\n",
      "Numbers in the list:  [1, 2, 3, 4, 5, 6]\n",
      "Enter the number: 7\n",
      "Numbers in the list:  [1, 2, 3, 4, 5, 6, 7]\n",
      "Enter the number: 8\n",
      "Numbers in the list:  [1, 2, 3, 4, 5, 6, 7, 8]\n",
      "Enter the number: 9\n",
      "Numbers in the list:  [1, 2, 3, 4, 5, 6, 7, 8, 9]\n",
      "Enter the number: 0\n",
      "Numbers in the list:  [1, 2, 3, 4, 5, 6, 7, 8, 9, 0]\n"
     ]
    }
   ],
   "source": [
    "list=[]\n",
    "for x in range(10):\n",
    "    n=int(input(\"Enter the number: \"))\n",
    "    list.append(n)\n",
    "    print(\"Numbers in the list: \", list)\n",
    "\n"
   ]
  },
  {
   "cell_type": "markdown",
   "metadata": {
    "id": "ZrjtT-I_U1zD"
   },
   "source": [
    "### Task 2\n",
    "\n",
    "Write a Python program that takes a list as an input from the user.Then creates a new list excluding the first and last two elements of the given list and prints the new list. If there are not enough elements in the list to do the task, the print \"Not possible\".\n",
    "\n",
    "**Note:** You may use list slicing.\n",
    "\n",
    "===================================================================\n",
    "\n",
    "**Sample Input 1:**<br/>\n",
    "[10, 20, 24, 25, 26, 35, 70]<br/>\n",
    "**Sample Output 1:**<br/>\n",
    "[24, 25, 26]<br/>\n",
    "\n",
    "===================================================================\n",
    "\n",
    "**Sample Input 2:**<br/>\n",
    "[10, 20, 24, 25, 26]<br/>\n",
    "**Sample Output 2:**<br/>\n",
    "[24]<br/>\n",
    "\n",
    "===================================================================\n",
    "\n",
    "**Sample Input 3:**<br/>\n",
    "[10, 20, 24, 25]<br/>\n",
    "**Sample Output 3:**<br/>\n",
    "[]<br/>\n",
    "\n",
    "===================================================================\n",
    "\n",
    "**Sample Input 4:**<br/>\n",
    "[10, 20, 24]<br/>\n",
    "**Sample Output 4:**<br/>\n",
    "Not possible<br/>\n",
    "\n",
    "==================================================================="
   ]
  },
  {
   "cell_type": "code",
   "execution_count": 1,
   "metadata": {
    "id": "3r7Ripj7U1zE"
   },
   "outputs": [
    {
     "name": "stdout",
     "output_type": "stream",
     "text": [
      "enter the number: 3\n",
      "Enter the number: 10\n",
      "Enter the number: 20\n",
      "Enter the number: 24\n",
      "Not possible\n"
     ]
    }
   ],
   "source": [
    "#to do\n",
    "num=int(input(\"enter the number: \"))\n",
    "list1=[]\n",
    "for i in range(num):\n",
    "    number=int(input(\"Enter the number: \"))\n",
    "    list1.append(number)\n",
    "if len(list1)>4:\n",
    "    print(list1[2:-2])\n",
    "else:\n",
    "    if len(list1)<4:\n",
    "        print(\"Not possible\")"
   ]
  },
  {
   "cell_type": "markdown",
   "metadata": {
    "id": "AWgZaBZCzmaM"
   },
   "source": [
    "### Task 3\n",
    "\n",
    "Write a python program that reads 5 numbers from the user into a list, and then prints them in the reverse order.\n",
    "\n",
    "*Hint: You may create a list to store the input numbers and then use loop to print them in reverse order*\n",
    "\n",
    "===================================================================\n",
    "\n",
    "**Sample Input:**\\\n",
    "5\\\n",
    "-5\\\n",
    "100\\\n",
    "1\\\n",
    "0\n",
    "\n",
    "**Sample Output:**\\\n",
    "0\\\n",
    "1\\\n",
    "100\\\n",
    "-5\\\n",
    "5\n",
    "\n",
    "==================================================================="
   ]
  },
  {
   "cell_type": "code",
   "execution_count": 4,
   "metadata": {
    "id": "ICW-03YOznTp"
   },
   "outputs": [
    {
     "name": "stdout",
     "output_type": "stream",
     "text": [
      "[50, 40, 30, 20]\n"
     ]
    }
   ],
   "source": [
    "#to do\n",
    "number=[20,30,40,50]\n",
    "list1=[]\n",
    "for i in range(len(number)-1,-1,-1):\n",
    "   \n",
    "    list1.append(number[i])\n",
    "print(list1)\n"
   ]
  },
  {
   "cell_type": "markdown",
   "metadata": {
    "id": "7a_1pYjfU1zI"
   },
   "source": [
    "### Task 4\n",
    "Assume, you have been given two lists. [Your program should work for any two given lists; change the following lists and check whether your program works correctly for the code you have written]\n",
    "\n",
    "list_one = [1, 2, 3, 4, 5, 6, 7, 8, 9]\\\n",
    "list_two = [10, 11, 12, -13, -14, -15, -16]\n",
    "\n",
    "Write a Python program that creates a new list with all the **even elements** of both of the given lists and prints the new list.\n",
    "\n",
    "**Hint:** You may create a third list to store the even elements of the given lists.\n",
    "\n",
    "===================================================================\n",
    "\n",
    "**Output for the above lists:** [2, 4, 6, 8, 10, 12, -14, -16]\n",
    "\n",
    "==================================================================="
   ]
  },
  {
   "cell_type": "code",
   "execution_count": 5,
   "metadata": {
    "id": "vToa7yazU1zI"
   },
   "outputs": [
    {
     "name": "stdout",
     "output_type": "stream",
     "text": [
      "[2, 4, 6, 8, 10, 12, -14, -16]\n"
     ]
    }
   ],
   "source": [
    "#to do\n",
    "list1=[1, 2, 3, 4, 5, 6, 7, 8, 9]\n",
    "list2=[10, 11, 12, -13, -14, -15, -16]\n",
    "new=[]\n",
    "for i in range(len(list1)):\n",
    "    if(list1[i]%2==0):\n",
    "        new.append(list1[i])\n",
    "for j in range(len(list2)):\n",
    "    if(list2[j]%2==0):\n",
    "        new.append(list2[j])\n",
    "        \n",
    "print(new)"
   ]
  },
  {
   "cell_type": "markdown",
   "metadata": {
    "id": "QaD4hLn92EKT"
   },
   "source": [
    "### Task 5\n",
    "\n",
    "Write a Python program that takes numbers as input into a list, removes multiple occurences of any number and then finally prints a list **without duplicate values**.\n",
    "\n",
    "*Hint: You may create a third list to store the results. You can use membership operators (in, not in) to make sure no duplicates are added.*\n",
    "\n",
    "===================================================================\n",
    "\n",
    "**Sample Input 1:**<br/>\n",
    "0, 0, 1, 2, 3, 4, 4, 5, 6, 6, 6, 7, 8, 9, 4, 4<br/>\n",
    "\n",
    "\n",
    "**Sample Output 1:**<br/>\n",
    "[0, 1, 2, 3, 4, 5, 6, 7, 8, 9]<br/>\n",
    "\n",
    "===================================================================\n",
    "\n",
    "**Sample Input 2:**<br/>\n",
    "7, 7, 7, 1, 0, 3, 3, 55, 9<br/>\n",
    "\n",
    "\n",
    "**Sample Output 2:**<br/>\n",
    "[7, 1, 0, 3, 55, 9]<br/>\n",
    "\n",
    "==================================================================="
   ]
  },
  {
   "cell_type": "code",
   "execution_count": 7,
   "metadata": {
    "id": "EUbQbz5hU1zP"
   },
   "outputs": [
    {
     "name": "stdout",
     "output_type": "stream",
     "text": [
      "[0, 1, 2, 3, 4, 5, 6, 7, 8, 9]\n"
     ]
    }
   ],
   "source": [
    "#to do\n",
    "number=[0, 0, 1, 2, 3, 4, 4, 5, 6, 6, 6, 7, 8, 9, 4, 4]\n",
    "new_list=[]\n",
    "\n",
    "for i in range(len(number)):\n",
    "    if(number[i]not in new_list):\n",
    "        new_list.append(number[i])\n",
    "    else:\n",
    "        pass\n",
    "print(new_list)\n",
    "\n",
    "\n",
    "\n"
   ]
  },
  {
   "cell_type": "markdown",
   "metadata": {
    "id": "wfcSytFVU1zU"
   },
   "source": [
    "### Task 6\n",
    "\n",
    "Write a Python program that reads 5 numbers into a list and prints the largest number and its location or index position on the list. <font color='red'>[You are not allowed to use the max(), sort(), sorted() function here]</font>\n",
    "\n",
    "**Hint:** Assume the first input to be the largest value initially and the largest value’s location to be 0.\n",
    "\n",
    "**Note:** You may need to be careful while printing the output. Depending on your code, you might need data conversion.\n",
    "\n",
    "===================================================================\n",
    "\n",
    "**Sample Input:**\\\n",
    " 7, 13, 2, 10, 6\n",
    "\n",
    "**Sample Output:**\\\n",
    "My list: [7, 13, 2, 10, 6]\\\n",
    "Largest number in the list is 13 which was found at index 1.\n",
    "\n",
    "==================================================================="
   ]
  },
  {
   "cell_type": "code",
   "execution_count": 15,
   "metadata": {
    "id": "kXbEh1t3U1zV"
   },
   "outputs": [
    {
     "name": "stdout",
     "output_type": "stream",
     "text": [
      "My list [7, 13, 2, 10, 6]\n",
      "Largest number in the list is 13 which was found at index 1\n"
     ]
    }
   ],
   "source": [
    "#to do\n",
    "number=[7, 13, 2, 10, 6]\n",
    "max_number=0\n",
    "\n",
    "\n",
    "for i in range(len(number)):    \n",
    "    if (number[i]>number[max_number]):\n",
    "        max_number=i\n",
    "        \n",
    "    else:\n",
    "        pass\n",
    "print(\"My list\",number)\n",
    "print(\"Largest number in the list is\",number[max_number],  \"which was found at index\" ,max_number)"
   ]
  },
  {
   "cell_type": "markdown",
   "metadata": {
    "id": "nwRZ3_0tC3fq"
   },
   "source": [
    "### Task 7\n",
    "\n",
    "\n",
    "Assume, you have been given two lists. [Your program should work for any two given lists; make changes to the lists below and check whether your program works correctly]\n",
    "\n",
    "list_one = [1, 2 , 2, 4, 5, 5, 7, 99, 200, 303, 70]\\\n",
    "list_two = [1, 1, 2, 3, 3, 3, 4, 5, 200, 500, -5]\n",
    "\n",
    "Write a Python program that creates a new list with all the **unique elements** of both the given lists. \n",
    "<font color='red'> **You need to make sure that there are no duplicates in the resulting list.**</font> Finally, print the updated list.\n",
    "\n",
    "**Hint:** You may create a third list to store the results. You can use membership operators (in, not in) to make sure no duplicates are added.\n",
    "\n",
    "===================================================================\n",
    "\n",
    "**Output for the above two lists**: \n",
    "[1, 2, 4, 5, 7, 99, 200, 303, 70, 3, 500, -5]\n",
    "\n",
    "===================================================================\n",
    "\n"
   ]
  },
  {
   "cell_type": "code",
   "execution_count": 2,
   "metadata": {
    "id": "LEnaTlyoMJdS"
   },
   "outputs": [
    {
     "name": "stdout",
     "output_type": "stream",
     "text": [
      "[1, 2, 4, 5, 7, 99, 200, 303, 70, 500000, 3, 500, -5]\n"
     ]
    }
   ],
   "source": [
    "#to do\n",
    "list1 = [1, 2 , 2, 4, 5, 5, 7, 99, 200, 303, 70,500000]\n",
    "list2 = [1, 1, 2, 3, 3, 3, 4, 5, 200, 500, -5]\n",
    "new_list1=[]\n",
    "new_list2=[]\n",
    "\n",
    "for i in range(len(list1)):\n",
    "    if (list1[i]not in new_list1):\n",
    "        new_list1.append(list1[i])\n",
    "for j in range(len(list2)):\n",
    "    if(list2[j]not in list1):\n",
    "        if(list2[j]not in new_list2):\n",
    "            new_list2.append(list2[j])\n",
    "new_list3=new_list1+new_list2\n",
    "                \n",
    "               \n",
    "print(new_list3)\n",
    "        \n",
    "\n"
   ]
  },
  {
   "cell_type": "markdown",
   "metadata": {
    "id": "bvF30RQlemBW"
   },
   "source": [
    "### Task 8\n",
    "\n",
    "Write a Python program that takes two lists and prints True if they have at least one common member.\n",
    "\n",
    "===================================================================\n",
    "\n",
    "**Sample Input 1:**\\\n",
    "List_one : [1, 4, 3, 2, 6]\\\n",
    "List_two : [5, 6, 9, 8, 7]\n",
    "\n",
    "**Sample Output 1:**\\\n",
    "True\n",
    "\n",
    "===================================================================\n",
    "\n",
    "**Sample Input 2:**\\\n",
    "List_one : [1, 4, 3, 2, 5]\\\n",
    "List_two : [8, 7, 6, 9]\n",
    "\n",
    "**Sample Output 2:**\\\n",
    "False\n",
    "\n",
    "===================================================================\n"
   ]
  },
  {
   "cell_type": "code",
   "execution_count": 7,
   "metadata": {
    "id": "yIlAlqlGe7IA"
   },
   "outputs": [
    {
     "name": "stdout",
     "output_type": "stream",
     "text": [
      "True\n"
     ]
    }
   ],
   "source": [
    "list1 = [1, 4, 3, 2, 0]\n",
    "list2= [5, 1, 9, 8, 7]\n",
    "count=False \n",
    "\n",
    "\n",
    "for num in list1:\n",
    "    if num in list2:\n",
    "        count=True\n",
    "        break\n",
    "    else:\n",
    "        count=False\n",
    "print(count)\n",
    "        \n",
    " \n"
   ]
  },
  {
   "cell_type": "markdown",
   "metadata": {
    "id": "vyFt-Ra5erR4"
   },
   "source": [
    "### Task 9\n",
    "\n",
    "Write a Python program that reads 10 numbers into a list and prints the numbers of that specified list after removing **even numbers** from it.\n",
    "\n",
    "=========================================================================\n",
    "\n",
    "**Sample Input:**\n",
    "\n",
    "7,12,4,55,96,2,11,61,33,42\n",
    "\n",
    "**Sample Output:**\n",
    "\n",
    "[7, 55, 11, 61, 33]\n",
    "\n",
    "=========================================================================\n",
    "\n",
    "\n",
    "\n"
   ]
  },
  {
   "cell_type": "code",
   "execution_count": 12,
   "metadata": {
    "id": "1U3bswq9e9B3"
   },
   "outputs": [
    {
     "name": "stdout",
     "output_type": "stream",
     "text": [
      "[7, 55, 11, 61, 33]\n"
     ]
    }
   ],
   "source": [
    "#to do\n",
    "list1=[7,12,4,55,96,2,11,61,33,42]\n",
    "new_list=[]\n",
    "for i in range(len(list1)):\n",
    "    if (list1[i]%2!=0):\n",
    "        new_list.append(list1[i])\n",
    "print(new_list)\n"
   ]
  },
  {
   "cell_type": "code",
   "execution_count": 4,
   "metadata": {},
   "outputs": [
    {
     "name": "stdout",
     "output_type": "stream",
     "text": [
      "[10, 20, 30, 10, 20, 30, 40, 53]\n"
     ]
    }
   ],
   "source": [
    "string_1=\"1,10 20 30 10 20 30 40 53\"\n",
    "list1=[]\n",
    "for i in range(len(string_1)-1):\n",
    "    x=\"\"\n",
    "    if string_1[i]==\" \":\n",
    "        continue\n",
    "    elif 0<=int(string_1[i])<=9 and string_1[i+1]==\" \":\n",
    "        if int(string_1[i])==0:\n",
    "               pass\n",
    "        else:\n",
    "            list1.append(int(string_1[i]))\n",
    "        # print(string_1[i])\n",
    "\n",
    "    elif 0<=int(string_1[i])<=9 and 0<=int(string_1[i+1])<=9:\n",
    "        x=string_1[i]+string_1[i+1]\n",
    "        \n",
    "\n",
    "        list1.append(int(x))\n",
    "print(list1)"
   ]
  },
  {
   "cell_type": "markdown",
   "metadata": {
    "id": "G9jPuLWOetqd"
   },
   "source": [
    "### Task 10\n",
    "\n",
    "Write a Python program that removes all Empty strings from a given list and print the new list.\n",
    "\n",
    "=========================================================================\n",
    "\n",
    "**Sample Input:**\n",
    "\n",
    "[\"hey\", \"there\", \" \", \"what's\", \" \", \"up\", \" \", \"?\"]\n",
    "\n",
    "**Sample Output:**\n",
    "\n",
    "Original List:\n",
    "[\"hey\", \"there\", \" \", \"what's\", \" \", \"up\", \" \", \"?\"]\n",
    "\n",
    "Modified List:\n",
    "[\"hey\", \"there\", \"what's\", \"up\", \"?\"]\n",
    "\n",
    "==========================================================================\n",
    "\n",
    "\n"
   ]
  },
  {
   "cell_type": "code",
   "execution_count": 1,
   "metadata": {
    "id": "OlrhifBge-TA"
   },
   "outputs": [
    {
     "name": "stdout",
     "output_type": "stream",
     "text": [
      "Modified list ['hey', 'there', \"what's\", 'up', '?']\n"
     ]
    }
   ],
   "source": [
    "#to do\n",
    "list1=[\"hey\", \"there\", \" \", \"what's\", \" \", \"up\", \" \", \"?\"]\n",
    "list2=[\"hey\", \"there\", \"what's\", \"up\", \"?\"]\n",
    "new_list=[]\n",
    "\n",
    "for i in range(len(list1)):\n",
    "    if(list1[i]in list2):\n",
    "        new_list.append(list1[i])\n",
    "print(\"Modified list: \",new_list)\n",
    "    \n"
   ]
  },
  {
   "cell_type": "markdown",
   "metadata": {
    "id": "UjTy79X6ewce"
   },
   "source": [
    "## Task 11\n",
    "\n",
    "Write a Python program that replaces the last element of first list with second list.\n",
    "\n",
    "===================================================================\n",
    "\n",
    "**Sample Input 1:**\\\n",
    "List_one : [1, 4, 7, 5]\\\n",
    "List_two : [6, 1, 3, 9]\n",
    "\n",
    "**Sample Output 1:**\\\n",
    "[1, 4, 7, 6, 1, 3, 9]\n",
    "\n",
    "===================================================================\n",
    "\n",
    "**Sample Input 2:**\\\n",
    "List_one : [1, 3, 5, 7, 9, 10]\\\n",
    "List_two : [2, 4, 6, 8]\n",
    "\n",
    "**Sample Output 2:**\\\n",
    "[1, 3, 5, 7, 9, 2, 4, 6, 8]\n",
    "\n",
    "===================================================================\n",
    "\n",
    "\n",
    "\n"
   ]
  },
  {
   "cell_type": "code",
   "execution_count": 1,
   "metadata": {
    "id": "bBseKJuse_bX"
   },
   "outputs": [
    {
     "name": "stdout",
     "output_type": "stream",
     "text": [
      "[1, 3, 5, 7, 9, 2, 4, 6, 8]\n"
     ]
    }
   ],
   "source": [
    "#to do\n",
    "list1 = [1, 3, 5, 7, 9, 10]\n",
    "list2=[2, 4, 6, 8]\n",
    "\n",
    "new_list=(list1[0:-1])\n",
    "\n",
    "print(new_list+list2)\n",
    "\n",
    "\n",
    "\n",
    "\n",
    "\n",
    "\n",
    "\n",
    "\n",
    "\n",
    "\n",
    "\n",
    "    \n",
    "    "
   ]
  },
  {
   "cell_type": "markdown",
   "metadata": {
    "id": "4pBLPmvre0jv"
   },
   "source": [
    "### Task 12\n",
    "\n",
    "Write a Python program that turns every item of a list into its square.\n",
    "\n",
    "===================================================================\n",
    "\n",
    "**Sample Input 1:**\\\n",
    "[1, 2, 3, 4, 5, 6, 7]\n",
    "\n",
    "**Sample Output 1:**\\\n",
    "[1, 4, 9, 16, 25, 36, 49]\n",
    "\n",
    "===================================================================\n",
    "\n",
    "**Sample Input 2:**\\\n",
    "[3, 5, 1, 6]\n",
    "\n",
    "**Sample Output 2:**\\\n",
    "[9, 25, 1, 36]\n",
    "\n",
    "\n",
    "===================================================================\n",
    "\n",
    "\n",
    "\n",
    "\n",
    "\n"
   ]
  },
  {
   "cell_type": "code",
   "execution_count": 8,
   "metadata": {
    "id": "5NDg0odDfANt"
   },
   "outputs": [
    {
     "name": "stdout",
     "output_type": "stream",
     "text": [
      "[1, 4, 9, 16, 25, 36, 49]\n"
     ]
    }
   ],
   "source": [
    "#to do\n",
    "list1=[1, 2, 3, 4, 5, 6, 7]\n",
    "new_list=[]\n",
    "\n",
    "for i in range(1,len(list1)+1):\n",
    "    i=i**2\n",
    "    \n",
    "    new_list.append(i)\n",
    "print(new_list)\n",
    "    \n"
   ]
  },
  {
   "cell_type": "markdown",
   "metadata": {
    "id": "WZXnxHTdGrMC"
   },
   "source": [
    "## Optional Tasks (13-15) [Ungraded]"
   ]
  },
  {
   "cell_type": "markdown",
   "metadata": {
    "id": "lvSiLaobU1zY"
   },
   "source": [
    "### Task 13\n",
    "\n",
    "Write a Python program that reads 5 numbers into a list and prints the smallest and largest number and their locations in the list. <font color='red'>[You are not allowed to use the max(), min(), sort(), sorted() functions here]</font>\n",
    "\n",
    "**Hint:** You may assume the first input to be the largest value initially and the largest value’s location to be 0. Similarly, you can assume the first input to be the smallest value initially and the smallest value’s location to be 0. \n",
    "\n",
    "**Note:** You may need to be careful while printing the output. Depending on your code, you might need data conversion.\n",
    "\n",
    "===================================================================\n",
    "\n",
    "**Sample Input:**\\\n",
    "7, 13, -5, 10, 6\n",
    "\n",
    "**Sample Output:**\\\n",
    "My list: [7, 13, -5, 10, 6]\\\n",
    "Smallest number in the list is -5 which was found at index 2\\\n",
    "Largest number in the list is 13 which was found at index 1\n",
    "\n",
    "==================================================================="
   ]
  },
  {
   "cell_type": "code",
   "execution_count": 7,
   "metadata": {
    "id": "yiS5TWSDU1zY"
   },
   "outputs": [
    {
     "name": "stdout",
     "output_type": "stream",
     "text": [
      "smallest number in the list is -5 wgich was found at index 2\n",
      "Largest number in the list is 13 which was found at index 1\n"
     ]
    }
   ],
   "source": [
    "list1=[7, 13, -5, 10, 6]\n",
    "min_val=None\n",
    "max_val=None\n",
    "max_location=None\n",
    "min_location=None\n",
    "\n",
    "for i in range(len(list1)):\n",
    "    if max_val==None and min_val==None:\n",
    "        min_val=list1[i]\n",
    "        max_val=list1[i]\n",
    "        max_location=i\n",
    "        min_location=i\n",
    "    else:\n",
    "        if max_val<list1[i]:\n",
    "            max_val=list1[i]\n",
    "            max_location=i\n",
    "        elif min_val>list1[i]:\n",
    "            min_val=list1[i]\n",
    "            min_location=i\n",
    "print(\"smallest number in the list is\",min_val,\"wgich was found at index\",min_location)\n",
    "print(\"Largest number in the list is\",max_val,\"which was found at index\",max_location)\n",
    "  "
   ]
  },
  {
   "cell_type": "code",
   "execution_count": null,
   "metadata": {},
   "outputs": [],
   "source": []
  },
  {
   "cell_type": "code",
   "execution_count": null,
   "metadata": {},
   "outputs": [],
   "source": []
  },
  {
   "cell_type": "code",
   "execution_count": null,
   "metadata": {},
   "outputs": [],
   "source": []
  },
  {
   "cell_type": "markdown",
   "metadata": {
    "id": "rguDZ8SBCHD8"
   },
   "source": [
    "### Task 14\n",
    "Write a Python program that takes two lists as an input from the user. Then print a new list with the **common elements** of both the input lists. \n",
    "\n",
    "*Hint: You may need to create a third list to store the results. You can use membership operators (in, not in) to make sure similar elements are added.*\n",
    "\n",
    "===================================================================\n",
    "\n",
    "**Sample Input 1:**<br/>\n",
    "A, B, C, D\n",
    "\n",
    "\n",
    "C, E , F, B\n",
    "\n",
    "\n",
    "**Sample Output 1:**<br/>\n",
    "['C', 'B']\n",
    "\n",
    "===================================================================\n",
    "\n",
    "**Sample Input 2:**<br/>\n",
    "1, 3, A, H, P\n",
    "\n",
    "\n",
    "A, G, 1, P, O\n",
    "\n",
    "\n",
    "**Sample Output 2:**<br/>\n",
    "['1', 'A', 'P']\n",
    "\n",
    "===================================================================\n"
   ]
  },
  {
   "cell_type": "code",
   "execution_count": 10,
   "metadata": {
    "id": "3iueGiPPGG66"
   },
   "outputs": [
    {
     "name": "stdout",
     "output_type": "stream",
     "text": [
      "['B', 'C']\n"
     ]
    }
   ],
   "source": [
    "list1=[\"A\", \"B\", \"C\", \"D\"]\n",
    "list2=[\"C\", \"E\" , \"F\", \"B\"]\n",
    "list3=[]\n",
    "for i in list1:\n",
    "    if i in list2:\n",
    "        list3.append(i)\n",
    "print(list3)"
   ]
  },
  {
   "cell_type": "markdown",
   "metadata": {
    "id": "tjcE5oitCM2s"
   },
   "source": [
    "### Task 15\n",
    "\n",
    "\n",
    "Write a Python program that reads 5 numbers into a list and prints the second largest number and its location or index position on the list. <font color='red'>[You are not allowed to use the max(), sort(), sorted() function here]</font>\n",
    "\n",
    "===================================================================\n",
    "\n",
    "**Sample Input:**\\\n",
    " 7, 13, 2, 10, 6\n",
    "\n",
    "**Sample Output:**\\\n",
    "My list: [7, 13, 2, 10, 6]\\\n",
    "Second largest number in the list is 10 which was found at index 3.\n",
    "\n",
    "==================================================================="
   ]
  },
  {
   "cell_type": "code",
   "execution_count": 23,
   "metadata": {
    "id": "b2TwkUqnGZU-"
   },
   "outputs": [
    {
     "name": "stdout",
     "output_type": "stream",
     "text": [
      "first largest number in the list is 13 which was found at insex 1 .\n",
      "Second largest number in the list is 10 which was found at index 3 .\n",
      "third largest number in the list is 7 which was found at index 0 .\n"
     ]
    }
   ],
   "source": [
    "list1=[7, 13, 2, 10, 6]\n",
    "\n",
    "max_val1 = None\n",
    "max_location1 = None\n",
    "max_val2 = None\n",
    "max_location2 = None\n",
    "max_location3=None\n",
    "max_val3=None\n",
    "\n",
    "for i in range(len(list1)):\n",
    "    if max_val1 == None and max_location1 == None:\n",
    "        max_val1 = list1[i]\n",
    "        max_location1 = i\n",
    "\n",
    "    else:\n",
    "        if max_val1 < list1[i]:\n",
    "            max_val1 = list1[i]\n",
    "            max_location1 = i\n",
    "for i in range(len(list1)):\n",
    "    if max_val1==list1[i] :\n",
    "        pass\n",
    "    else:\n",
    "        if max_val2==None:\n",
    "            max_val2=list1[i]\n",
    "            max_location2=i\n",
    "        else:\n",
    "            if max_val2<list1[i]:\n",
    "                max_val2=list1[i]\n",
    "                max_location2=i\n",
    "for i in range(len(list1)):\n",
    "    if max_val1==list1[i] or max_val2==list1[i]:\n",
    "        pass\n",
    "    else:\n",
    "        if max_val3==None:\n",
    "            max_val3=list1[i]\n",
    "            max_location3=i\n",
    "\n",
    "        else:\n",
    "            if max_val3<list1[i]:\n",
    "                max_val3=list1[i]\n",
    "                max_location3=i\n",
    "                \n",
    "print(\"first largest number in the list is\",max_val1,\"which was found at insex\",max_location1,\".\")\n",
    "print(\"Second largest number in the list is\",max_val2, \"which was found at index\",max_location2,\".\")\n",
    "print(\"third largest number in the list is\",max_val3,'which was found at index',max_location3,\".\")\n"
   ]
  },
  {
   "cell_type": "code",
   "execution_count": null,
   "metadata": {},
   "outputs": [],
   "source": []
  }
 ],
 "metadata": {
  "colab": {
   "collapsed_sections": [],
   "name": "CSE110 Lab Assignment 4.ipynb",
   "provenance": []
  },
  "kernelspec": {
   "display_name": "Python 3",
   "language": "python",
   "name": "python3"
  },
  "language_info": {
   "codemirror_mode": {
    "name": "ipython",
    "version": 3
   },
   "file_extension": ".py",
   "mimetype": "text/x-python",
   "name": "python",
   "nbconvert_exporter": "python",
   "pygments_lexer": "ipython3",
   "version": "3.8.8"
  }
 },
 "nbformat": 4,
 "nbformat_minor": 1
}
