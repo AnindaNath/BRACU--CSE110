{
 "cells": [
  {
   "cell_type": "markdown",
   "metadata": {
    "id": "oMYzsTcnHEll"
   },
   "source": [
    "# CSE110 Lab Assignment 7 on Sorting and Searching\n",
    "\n",
    "Write your name, student id and CSE110 section below:\n"
   ]
  },
  {
   "cell_type": "code",
   "execution_count": null,
   "metadata": {
    "id": "ljd7OxU2gvWb"
   },
   "outputs": [],
   "source": [
    "#STUDENT NAME: aninda  debnath\n",
    "#STUDENT ID: 21301211\n",
    "#CSE110 SECTION:  10"
   ]
  },
  {
   "cell_type": "markdown",
   "metadata": {
    "id": "jT-t2zlnHEll"
   },
   "source": [
    "## Write the Python code for the following problems:\n",
    "**<font color='red'>[MUST MAINTAIN VARIABLE NAMING CONVENTIONS FOR ALL THE TASKS]</font>**\n",
    "\n",
    "### Task 1\n",
    "\n",
    "Suppose you have a list named my_list as given below. <br/>\n",
    "my_list = [10,1,20,3,6,2,5,11,15,2,12,14,17,18,29] <br/>\n",
    "Now use bubble sort to sort my_list into ascending order.\n",
    "\n",
    "**Output**<br/>\n",
    "[1, 2, 2, 3, 5, 6, 10, 11, 12, 14, 15, 17, 18, 20, 29]"
   ]
  },
  {
   "cell_type": "code",
   "execution_count": 13,
   "metadata": {
    "id": "7qXVakLgHElm",
    "scrolled": false
   },
   "outputs": [
    {
     "name": "stdout",
     "output_type": "stream",
     "text": [
      "[1, 2, 3, 5, 6, 10, 11, 20, 100]\n"
     ]
    }
   ],
   "source": [
    "#todo - Bubble sort starts arranging the elements from the top\n",
    "list1= [100,10,1,20,3,6,2,5,11]\n",
    "for i in range(0,len(list1)): \n",
    "    #100\n",
    "    for j in range(i+1,len(list1)):  #10,  1,20,3,6,2,5,11\n",
    "        \n",
    "        if list1[j]<list1[i]:   #10,100,1,20,3,6,2,5,11\n",
    "            list1[i],list1[j]=list1[j],list1[i]\n",
    "#             temp=list1[j]\n",
    "#             list1[j]=list1[j+1]\n",
    "#             list1[j+1]=temp\n",
    "print(list1)"
   ]
  },
  {
   "cell_type": "markdown",
   "metadata": {
    "id": "w1QgeWd2HElp"
   },
   "source": [
    "### Task 2\n",
    "\n",
    "Suppose you have a list named my_list as given below. <br/>\n",
    "my_list = [10,1,20,3,6,2,5,11,15,2,12,14,17,18,29] <br/>\n",
    "Now use selection sort to sort my_list into ascending order.\n",
    "\n",
    "**Output**<br/>\n",
    "[1, 2, 2, 3, 5, 6, 10, 11, 12, 14, 15, 17, 18, 20, 29]\n",
    "\n"
   ]
  },
  {
   "cell_type": "code",
   "execution_count": 23,
   "metadata": {
    "id": "am0B_8ICHElq"
   },
   "outputs": [
    {
     "name": "stdout",
     "output_type": "stream",
     "text": [
      "0\n",
      "0\n",
      "0\n",
      "[10, 1, 20, 3, 6, 2, 5, 11, 15, 2, 12, 14, 17, 18, 29]\n",
      "============\n",
      "1\n",
      "1\n",
      "1\n",
      "[10, 1, 20, 3, 6, 2, 5, 11, 15, 2, 12, 14, 17, 18, 29]\n",
      "============\n",
      "2\n",
      "2\n",
      "2\n",
      "[10, 1, 20, 3, 6, 2, 5, 11, 15, 2, 12, 14, 17, 18, 29]\n",
      "============\n",
      "2\n",
      "3\n",
      "3\n",
      "[10, 1, 20, 3, 6, 2, 5, 11, 15, 2, 12, 14, 17, 18, 29]\n",
      "============\n",
      "3\n",
      "4\n",
      "4\n",
      "[10, 1, 20, 3, 6, 2, 5, 11, 15, 2, 12, 14, 17, 18, 29]\n",
      "============\n",
      "5\n",
      "5\n",
      "5\n",
      "[10, 1, 20, 3, 6, 2, 5, 11, 15, 2, 12, 14, 17, 18, 29]\n",
      "============\n",
      "6\n",
      "6\n",
      "6\n",
      "[10, 1, 20, 3, 6, 2, 5, 11, 15, 2, 12, 14, 17, 18, 29]\n",
      "============\n",
      "10\n",
      "7\n",
      "7\n",
      "[10, 1, 20, 3, 6, 2, 5, 11, 15, 2, 12, 14, 17, 18, 29]\n",
      "============\n",
      "11\n",
      "8\n",
      "8\n",
      "[10, 1, 20, 3, 6, 2, 5, 11, 15, 2, 12, 14, 17, 18, 29]\n",
      "============\n",
      "12\n",
      "9\n",
      "9\n",
      "[10, 1, 20, 3, 6, 2, 5, 11, 15, 2, 12, 14, 17, 18, 29]\n",
      "============\n",
      "14\n",
      "10\n",
      "10\n",
      "[10, 1, 20, 3, 6, 2, 5, 11, 15, 2, 12, 14, 17, 18, 29]\n",
      "============\n",
      "15\n",
      "11\n",
      "11\n",
      "[10, 1, 20, 3, 6, 2, 5, 11, 15, 2, 12, 14, 17, 18, 29]\n",
      "============\n",
      "17\n",
      "12\n",
      "12\n",
      "[10, 1, 20, 3, 6, 2, 5, 11, 15, 2, 12, 14, 17, 18, 29]\n",
      "============\n",
      "18\n",
      "13\n",
      "13\n",
      "[10, 1, 20, 3, 6, 2, 5, 11, 15, 2, 12, 14, 17, 18, 29]\n",
      "============\n",
      "20\n",
      "14\n",
      "14\n",
      "[10, 1, 20, 3, 6, 2, 5, 11, 15, 2, 12, 14, 17, 18, 29]\n",
      "============\n",
      "[0, 1, 2, 2, 3, 5, 6, 10, 11, 12, 14, 15, 17, 18, 20, 29]\n"
     ]
    }
   ],
   "source": [
    "#todo Selection sort starts arranging the elements from the bottom\n",
    "list1=[10,1,20,3,6,2,5,11,15,2,12,14,17,18,29]\n",
    "\n",
    "for i in range(0,len(list_1)-1):\n",
    "    min_val=list_1[i]  #10\n",
    "    min_index=i  #0\n",
    "    for j in range(i+1,len(list_1)):   #1,10,20,3,6,2,5,11,15,2,12,14,17,18,29\n",
    "        if min_val>list_1[j]:   # 10 > 1\n",
    "            min_val=list_1[j]   #  10=1\n",
    "            min_index=j         # 0=1\n",
    "    print(min_val)\n",
    "    print(min_index)\n",
    "    print(i)\n",
    "    \n",
    "    \n",
    "    temp=min_val  #1\n",
    "    list_1[min_index]=list_1[i]   #list1[1]=list1[0]\n",
    "    list_1[i]=temp                    #list1[0]=1                   \n",
    "    print(list1)\n",
    "    print(\"============\")\n",
    "print(list_1)\n",
    "        \n"
   ]
  },
  {
   "cell_type": "markdown",
   "metadata": {
    "id": "j4ffr2CAHElt"
   },
   "source": [
    "### Task  3\n",
    "\n",
    "Suppose you have a list named my_list as given below <br/>\n",
    "my_list=[10,1,20,3,6,2,5,11,15,2,12,14,17,18,29] <br/>\n",
    "Now use any of the two sorting techniques you have used above to sort the list in descending order.\n",
    "\n",
    "**Output**<br/>\n",
    "[29, 20, 18, 17, 15, 14, 12, 11, 10, 6, 5, 3, 2, 2, 1]\n"
   ]
  },
  {
   "cell_type": "code",
   "execution_count": 2,
   "metadata": {
    "id": "n2X3YR-_HElt"
   },
   "outputs": [
    {
     "name": "stdout",
     "output_type": "stream",
     "text": [
      "[1, 2, 2, 3, 5, 6, 10, 11, 12, 14, 15, 17, 18, 20, 29, 30, 54]\n"
     ]
    }
   ],
   "source": [
    "#todo\n",
    "list_1=[10,1,20,3,6,2,5,11,15,2,12,14,17,18,29,30,54]\n",
    "for i in range(0,len(list_1)-1):\n",
    "    max_val=list_1[i]\n",
    "    max_index=i\n",
    "    for j in range(i+1,len(list_1)):\n",
    "        if max_val>list_1[j]:\n",
    "            max_val=list_1[j]\n",
    "            max_index=j\n",
    "    temp=max_val\n",
    "    list_1[max_index]=list_1[i]\n",
    "    list_1[i]=temp\n",
    "print(list_1)\n"
   ]
  },
  {
   "cell_type": "markdown",
   "metadata": {
    "id": "9iYiiTWWHElw"
   },
   "source": [
    "### Task 4\n",
    "\n",
    "Suppose you have a sitting arrangement of the students who will give the final exam in a list. The list contains the last two digits of their student ID as given below.<br/>\n",
    "\n",
    "sitting_list = [10,30,20,70,11,15,22,16,58,100,12,56,70,80] <br/>\n",
    "\n",
    "Now you want to organize the sitting arrangement of the students in your own way. You decide to sort all the students in the even indices of the list in ascending order and all the students in the odd indices of the list in descending order.  <br/>\n",
    "\n",
    "So, write a python program that organizes the list for you in this way.<br/>\n",
    "\n",
    "\n",
    "**Sample Output**<br/>\n",
    "[10, 100, 11, 80, 12, 70, 20, 56, 22, 30, 58, 16, 70, 15]"
   ]
  },
  {
   "cell_type": "code",
   "execution_count": 7,
   "metadata": {
    "id": "nPdUAKDJHElw"
   },
   "outputs": [
    {
     "name": "stdout",
     "output_type": "stream",
     "text": [
      "[10, 30, 20, 70, 11, 15, 16, 22, 58, 100, 12, 56, 70, 80]\n"
     ]
    }
   ],
   "source": [
    "#todo\n",
    "sitting_list = [10,30,20,70,11,15,22,16,58,100,12,56,70,80]\n",
    "for i in range(0,len(sitting_list),2):\n",
    "    for j in range(0,len(sitting_list)-2,2):\n",
    "        if sitting_list[j]>sitting_list[j+2]:\n",
    "            temp=sitting_list[j]\n",
    "            sitting_list[j]=sitting_list[j+2]\n",
    "            sitting_list[j+2]=temp\n",
    "for i in range(1,len(sitting_list),2):\n",
    "     for j in range(1,len(sitting_list)-2,2):\n",
    "\n",
    "        if sitting_list[j]<sitting_list[j+2]:\n",
    "            temp=sitting_list[j]\n",
    "            sitting_list[j]=sitting_list[j+2]\n",
    "            sitting_list[j+2]=temp\n",
    "print(sitting_list)\n"
   ]
  },
  {
   "cell_type": "code",
   "execution_count": null,
   "metadata": {},
   "outputs": [],
   "source": [
    "#another soluation\n",
    "list1=[10,30,20,70,11,15,22,16,58,100,12,56,70,80]\n",
    "pos=0\n",
    "list2=[]\n",
    "list3=[]\n",
    "for i in range(len(list1)):\n",
    "    if pos%2==0:\n",
    "        list2.append(list1[i])\n",
    "    else:\n",
    "        list3.append(list1[i])\n",
    "    pos+=1\n",
    "list4=[]\n",
    "for i in range(len(list2)-1):\n",
    "    for j in range(i+1,len(list2)):\n",
    "        if list2[i]>list2[j]:\n",
    "            temp=list2[i]\n",
    "            list2[i]=list2[j]\n",
    "            list2[j]=temp\n",
    "for i in range(len(list3)-1):\n",
    "    for j in range(i+1,len(list3)):\n",
    "        if list3[i]<list3[j]:\n",
    "            temp=list3[i]\n",
    "            list3[i]=list3[j]\n",
    "            list3[j]=temp\n",
    "for i in range(len(list2)):\n",
    "    list4.append(list2[i])\n",
    "    list4.append(list3[i])\n",
    "print(list4)\n"
   ]
  },
  {
   "cell_type": "markdown",
   "metadata": {
    "id": "oVR1Tsa0HElz"
   },
   "source": [
    "### Task 5\n",
    "\n",
    "Suppose a list contains marks earned in the courses CSE110, PHY111, and MAT110 of each student consecutively in a nested list form. Your task is to take a course name as input from the user and sort the list based on the marks obtained in that course in order to finally print the names of the students in descending order of marks obtained i.e. from the student who earned the highest marks to the student who earned the lowest. <br/>\n",
    "\n",
    "For example, the list may look like <br/>\n",
    "lst = [ [\"Alan\", 95, 87, 91], [\"Turing\", 92, 90, 83], [\"Elon\", 87, 92, 80], [\"Musk\", 85, 94, 90] ] <br/>\n",
    "where for each nested list, 1st index holds the name of the student, 2nd index is total marks earned in the CSE110 course, 3rd index is PHY111 marks and 4th index is MAT110 marks. \n",
    "\n",
    "=====================================================\n",
    "\n",
    "**Hint:**<br/>\n",
    "You may create a function for sorting, then call it every time when needed instead of rewriting the code.\n",
    "\n",
    "You may get the data in the individual lists from the given nested list.\n",
    "\n",
    "=====================================================\n",
    "\n",
    "**Sample Input 1**<br/>\n",
    "MAT110\n",
    "\n",
    "**Sample Output 1**<br/>\n",
    "Alan <br/>\n",
    "Musk <br/>\n",
    "Turing <br/>\n",
    "Elon\n",
    "\n",
    "**Explanation:**<br/>\n",
    "Here the user gives us \"MAT110\" as the course name. Now, the students Alan, Turing, Elon and Musk earned 91, 83, 80 and 90 marks respectively in this course. If we sort it, Alan got the highest marks of 91 followed by Musk with 90 marks and Turing with 83 marks. Among these 4 students, Elon obtained the lowest marks in the MAT110 course with 80 marks. All of these has been illustrated in our sample output.\n",
    "\n",
    "=====================================================\n",
    "\n",
    "**Sample Input 2**<br/>\n",
    "PHY111\n",
    "\n",
    "**Sample Output 2**<br/>\n",
    "Musk <br/>\n",
    "Elon <br/>\n",
    "Turing <br/>\n",
    "Alan"
   ]
  },
  {
   "cell_type": "code",
   "execution_count": 2,
   "metadata": {
    "id": "539b2P1NHElz"
   },
   "outputs": [
    {
     "name": "stdout",
     "output_type": "stream",
     "text": [
      "Enter the  course name: CSE110\n",
      "Alan\n",
      "Turing\n",
      "Elon\n",
      "Musk\n"
     ]
    }
   ],
   "source": [
    "#todo\n",
    "list1= [ [\"Alan\", 95, 87, 91], [\"Turing\", 92, 90, 83], [\"Elon\", 87, 92, 80], [\"Musk\", 85, 94, 90] ]\n",
    "Name=[]\n",
    "CSE110_marks=[]\n",
    "MAT110_marks=[]\n",
    "PHY111_marks=[]\n",
    "for char in range(len(list1)):\n",
    "    Name.append(list1[char][0])\n",
    "    CSE110_marks.append(list1[char][1])\n",
    "    PHY111_marks.append(list1[char][2])\n",
    "    MAT110_marks.append((list1)[char][3])\n",
    "\n",
    "\n",
    "course_name=input(\"Enter the  course name: \")\n",
    "\n",
    "\n",
    "if course_name==\"CSE110\":\n",
    "    for index1 in range(len(CSE110_marks)):\n",
    "        max_number=CSE110_marks[index1]\n",
    "        max_index=index1\n",
    "        students_name=Name[index1]\n",
    "        for index2 in range(index1+1,len(CSE110_marks)):\n",
    "            if max_number<CSE110_marks[index2]:\n",
    "                max_number=CSE110_marks[index2]\n",
    "                max_index=index2\n",
    "                students_name=Name[index2]\n",
    "        temp=max_number\n",
    "        CSE110_marks[max_index]=CSE110_marks[index1]\n",
    "        CSE110_marks[index1]=temp\n",
    "        temp2=students_name\n",
    "        Name[max_index]=Name[index1]\n",
    "        Name[index1]=temp2\n",
    "    for i in Name:\n",
    "        print(i)\n",
    "elif course_name==\"PHY111\":\n",
    "    for index1 in range(len(PHY111_marks)):\n",
    "        max_number=PHY111_marks[index1]\n",
    "        max_index=index1\n",
    "        students_name=Name[index1]\n",
    "        for index2 in range(index1+1,len(PHY111_marks)):\n",
    "            if max_number<PHY111_marks[index2]:\n",
    "                max_number=PHY111_marks[index2]\n",
    "                max_index=index2\n",
    "                students_name=Name[index2]\n",
    "        temp=max_number\n",
    "        PHY111_marks[max_index]=PHY111_marks[index1]\n",
    "        PHY111_marks[index1]=temp\n",
    "        temp2=students_name\n",
    "        Name[max_index]=Name[index1]\n",
    "        Name[index1]=temp2\n",
    "    for i in Name:\n",
    "        print(i)\n",
    "elif course_name==\"MAT110\":\n",
    "    for index1 in range(len(MAT110_marks)):\n",
    "        max_number=MAT110_marks[index1]\n",
    "        max_index=index1\n",
    "        students_name=Name[index1]\n",
    "        for index2 in range(index1+1,len(MAT110_marks)):\n",
    "            if max_number<MAT110_marks[index2]:\n",
    "                max_number=MAT110_marks[index2]\n",
    "                max_index=index2\n",
    "                students_name=Name[index2]\n",
    "        temp=max_number\n",
    "        MAT110_marks[max_index]=MAT110_marks[index1]\n",
    "        MAT110_marks[index1]=temp\n",
    "        temp2=students_name\n",
    "        Name[max_index]=Name[index1]\n",
    "        Name[index1]=temp2\n",
    "    for i in Name:\n",
    "        print(i)\n",
    "    \n",
    "    \n",
    "    "
   ]
  },
  {
   "cell_type": "code",
   "execution_count": 1,
   "metadata": {},
   "outputs": [
    {
     "name": "stdout",
     "output_type": "stream",
     "text": [
      "enter the course name: MAT110\n",
      "None\n"
     ]
    }
   ],
   "source": [
    "#also follow this aprroch or bubble sorting\n",
    "list1= [ [\"Alan\", 95, 87, 91], [\"Turing\", 92, 90, 83], [\"Elon\", 87, 92, 80], [\"Musk\", 85, 94, 90] ]\n",
    "Name_list = []\n",
    "Math_number = []\n",
    "Phy_number = []\n",
    "Cse_number = []\n",
    "\n",
    "for i in range(len(list1)):\n",
    "    Name_list.append(list1[i][0])\n",
    "    Cse_number.append(list1[i][1])\n",
    "    Phy_number.append(list1[i][2])\n",
    "    Math_number.append(list1[i][3])\n",
    "course_name=input(\"enter the course name: \")\n",
    "def mark_name(list1):\n",
    "    if course_name==\"CSE111\":\n",
    "        for index1 in range(0,len(Cse_number)):\n",
    "            for j in range(index1+1,len(Cse_number)-1):\n",
    "                if Cse_number[index1]<Cse_number[j]:\n",
    "                    Cse_number[index1],Cse_number[j]=Cse_number[j],Cse_number[index1]\n",
    "                temp=Name_list[index1]\n",
    "                Name_list[index1]=Name_list[j]\n",
    "                Name_list[j]=temp\n",
    "    \n",
    "        for i in Name_list:\n",
    "            return i\n",
    "    \n",
    "list1= [ [\"Alan\", 95, 87, 91], [\"Turing\", 92, 90, 83], [\"Elon\", 87, 92, 80], [\"Musk\", 85, 94, 90] ]  \n",
    "print(mark_name(list1))"
   ]
  },
  {
   "cell_type": "markdown",
   "metadata": {
    "id": "B0Rqbyi4HEl2"
   },
   "source": [
    "### Task 6\n",
    "\n",
    "Suppose you have a list named my_list as given below. Your task is to sort the list in ascending order and print the count of numbers that have changed their positions in the process of sorting. <br/>\n",
    "\n",
    "my_list = [4, 2, 3, 1, 6, 5] <br/>\n",
    "\n",
    "Sorted list would be [1, 2, 3, 4, 5, 6] where 4 numbers (4, 1, 6 and 5) have changed their positions. Therefore our sample output here would be 4. Please check if your code is working correctly by changing the above list and using the knowledge given here to verify whether your code gives correct output for all different lists.\n",
    "\n",
    "\n",
    "**Sample Output for the above list**<br/>\n",
    "4"
   ]
  },
  {
   "cell_type": "code",
   "execution_count": 4,
   "metadata": {
    "id": "AMc8jAa7HEl2"
   },
   "outputs": [
    {
     "name": "stdout",
     "output_type": "stream",
     "text": [
      "[4, 2, 3, 1, 6, 5]\n",
      "[4, 2, 3, 1, 6, 5]\n",
      "[4, 2, 3, 1, 6, 5]\n",
      "[4, 2, 3, 1, 6, 5]\n",
      "[4, 2, 3, 1, 6, 5]\n",
      "4\n"
     ]
    }
   ],
   "source": [
    "#todo\n",
    "my_list = [4, 2, 3, 1, 6, 5]\n",
    "\n",
    "count=0\n",
    "for i in range(0,len(my_list)-1):\n",
    "    min_val=my_list[i]\n",
    "    min_index=i\n",
    "    for j in range(i+1,len(my_list)):\n",
    "        if min_val>my_list[j]:\n",
    "            min_val=my_list[j]\n",
    "            min_index=j\n",
    "           \n",
    "    if my_list[i]!=my_list[min_index]:\n",
    "        count+=1\n",
    "print(count)"
   ]
  },
  {
   "cell_type": "markdown",
   "metadata": {
    "id": "iIH5n0sJHEl5"
   },
   "source": [
    "### Task 7\n",
    "\n",
    "Write a python program that takes two lists from the user, merges the two lists, sorts the resulting list, and then finds the median of the elements in the two lists.\n",
    "\n",
    "=====================================================\n",
    "\n",
    "\n",
    "**Sample Input 1**<br/>\n",
    "list_one = [1, 2, 1, 4] <br/>\n",
    "list_two = [5, 4, 1]\n",
    "\n",
    "\n",
    "**Sample Output 1**<br/>\n",
    "Sorted list = [1, 1, 1, 2, 4, 4, 5] <br/>\n",
    "Median = 2\n",
    "\n",
    "=====================================================\n",
    "\n",
    "\n",
    "**Sample Input 2**<br/>\n",
    "list_one = [1, 7, 9, 10] <br/>\n",
    "list_two = [2, 7, 6, 5]\n",
    "\n",
    "\n",
    "**Sample Output 2**<br/>\n",
    "Sorted list = [1, 2, 5, 6, 7, 7, 9, 10] <br/>\n",
    "Median = 6.5\n",
    "\n"
   ]
  },
  {
   "cell_type": "code",
   "execution_count": 3,
   "metadata": {
    "id": "KsFxC7XbHEl6"
   },
   "outputs": [
    {
     "name": "stdout",
     "output_type": "stream",
     "text": [
      "enter the number: 1, 2, 1, 4\n",
      "enter the number: 5, 4, 1\n",
      "2\n"
     ]
    }
   ],
   "source": [
    "#todo\n",
    "list_one = input(\"enter the number: \").split(',')\n",
    "list_two=input(\"enter the number: \").split(',')\n",
    "\n",
    "\n",
    "\n",
    "list3=[]\n",
    "for i in range(len((list_one))):\n",
    "    list3.append(int(list_one[i]))\n",
    "for j in range(len(list_two)):\n",
    "    list3.append(int(list_two[j]))\n",
    "\n",
    "for i in range(0,len(list3)-1):\n",
    "    min_val=list3[i]\n",
    "    min_index=i\n",
    "    for j in range(i+1,len(list3)):\n",
    "\n",
    "        if min_val>list3[j]:\n",
    "            min_val=list3[j]\n",
    "            min_index=j\n",
    "    temp=min_val\n",
    "    list3[min_index]=list3[i]\n",
    "    list3[i]=temp\n",
    "medium=0\n",
    "if len(list3)%2==0:\n",
    "    index=len(list3)//2\n",
    "    sum=list3[index]+list3[index-1]\n",
    "    medium=sum/2\n",
    "\n",
    "elif len(list3)%2!=0:\n",
    "    index=len(list3)//2\n",
    "    medium=list3[index]\n",
    "print(\"Median =\",medium)"
   ]
  },
  {
   "cell_type": "code",
   "execution_count": 2,
   "metadata": {},
   "outputs": [
    {
     "name": "stdout",
     "output_type": "stream",
     "text": [
      "enter the number: 1, 2, 1, 4\n",
      "enter the number: 5, 4, 1\n",
      "2\n"
     ]
    }
   ],
   "source": [
    "list1 = input(\"enter the number: \").split(',')\n",
    "list2=input(\"enter the number: \").split(',')\n",
    "\n",
    "\n",
    "\n",
    "list_val=[]\n",
    "for i in range(len((list1))):\n",
    "    list_val.append(int(list1[i]))\n",
    "for j in range(len(list2)):\n",
    "    list_val.append(int(list2[j]))\n",
    "\n",
    "for i in range(0,len(list_val)-1):\n",
    "    min_val=list_val[i]\n",
    "    min_index=i\n",
    "    for j in range(i+1,len(list_val)):\n",
    "\n",
    "        if min_val>list_val[j]:\n",
    "            min_val=list_val[j]\n",
    "            min_index=j\n",
    "    temp=min_val\n",
    "    list_val[min_index]=list_val[i]\n",
    "    list_val[i]=temp\n",
    "medium=0\n",
    "\n",
    "if len(list_val)%2==0:\n",
    "    index=len(list_val)//2\n",
    "    sum=list_val[index]+list_val[index-1]\n",
    "    medium=sum/2\n",
    "\n",
    "elif len(list_val)%2!=0:\n",
    "    index=len(list_val)//2\n",
    "    medium=list_val[index]\n",
    "print(\"Medium\",medium)"
   ]
  },
  {
   "cell_type": "markdown",
   "metadata": {
    "id": "-XKiwBR1HEl8"
   },
   "source": [
    "### Task 8\n",
    "\n",
    "\n",
    "Write a python program that takes a list from user containing both positive and negative numbers. The program then finds two pairs of values whose summation is closest to zero.\n",
    "\n",
    "=====================================================\n",
    "\n",
    "**Sample Input 1**<br/>\n",
    "list_one = [-10, 15, 2, 4, -4, 7, -8] \n",
    "\n",
    "\n",
    "**Sample Output 1**<br/>\n",
    "Two pairs which have the smallest sum = 4 and -4\n",
    "\n",
    "=====================================================\n",
    "\n",
    "\n",
    "**Sample Input 2**<br/>\n",
    "list_one = [1, -8, 4, -7, -20, 26, 70, -85]\n",
    "\n",
    "\n",
    "**Sample Output 2**<br/>\n",
    "Two pairs which have the smallest sum = 4 and -7"
   ]
  },
  {
   "cell_type": "code",
   "execution_count": 7,
   "metadata": {
    "id": "5ORSGa5GHEl9"
   },
   "outputs": [
    {
     "name": "stdout",
     "output_type": "stream",
     "text": [
      "Two pairs which have the smallest sum = 4 and -7\n"
     ]
    }
   ],
   "source": [
    "#todo\n",
    "list_one = [1, -8, 4, -7, -20, 26, 70, -85]\n",
    "min_sum1=None\n",
    "min_num1=None\n",
    "min_num2=None\n",
    "\n",
    "for idx in range(len(list_one)-1):\n",
    "    \n",
    "    num1=list_one[idx]\n",
    "    total_sum=0\n",
    "    for i in range(idx+1,len(list_one)):\n",
    "        num2=list_one[i]\n",
    "        total_sum=abs(num1+num2)\n",
    "        if min_sum1==None :\n",
    "            min_sum1=total_sum\n",
    "            min_num1=num1\n",
    "            min_num2=num2\n",
    "        elif total_sum<min_sum1:\n",
    "            min_sum1=total_sum\n",
    "            min_num1=num1\n",
    "            min_num2=num2\n",
    "print(\"Two pairs which have the smallest sum =\",min_num1,\"and\",min_num2)\n",
    "\n",
    "            \n",
    "           \n",
    "           \n"
   ]
  },
  {
   "cell_type": "code",
   "execution_count": null,
   "metadata": {},
   "outputs": [],
   "source": []
  }
 ],
 "metadata": {
  "colab": {
   "collapsed_sections": [],
   "name": "CSE110 Lab Assignment 7 (Sorting and Searching).ipynb",
   "provenance": []
  },
  "kernelspec": {
   "display_name": "Python 3",
   "language": "python",
   "name": "python3"
  },
  "language_info": {
   "codemirror_mode": {
    "name": "ipython",
    "version": 3
   },
   "file_extension": ".py",
   "mimetype": "text/x-python",
   "name": "python",
   "nbconvert_exporter": "python",
   "pygments_lexer": "ipython3",
   "version": "3.8.8"
  }
 },
 "nbformat": 4,
 "nbformat_minor": 1
}
