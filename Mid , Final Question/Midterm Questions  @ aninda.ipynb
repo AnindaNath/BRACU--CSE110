{
 "cells": [
  {
   "cell_type": "markdown",
   "id": "3b1fbddb",
   "metadata": {},
   "source": [
    "## 𝗤𝘂𝗲𝘀𝘁𝗶𝗼𝗻 1\n",
    "\n",
    "As you are a student of university now, you need to ensure your assignments\\\n",
    "are plagiarism-free. To do this, you decide to design a simple plagiarism\\\n",
    "checker. Your checker will take 2 strings as input. Then it will compare\\\n",
    "the 2 strings and check how many words they have in common. Then, print the\\\n",
    "percentage in common, by calculating:\n",
    "\n",
    "(No. of words in common / (No of words in string 1 + No of words in string 2)) * 100.\n",
    "\n",
    "If the calculated plagiarism is greater than or equal to 30%,\\\n",
    "print “Plagiarism detected.” Otherwise, print “Good job!”.\n",
    "\n",
    "Note: you need to compare “words” not individual characters. You can\\\n",
    "consider that all characters in both inputs will be in only lowercase or\\\n",
    "uppercase.\n",
    "\n",
    "=====================================================\n",
    "\n",
    "**Sample Input 1:**\\\n",
    "my dog’s name is bob\\\n",
    "bob is my dog’s name\n",
    "\n",
    "**Sample Output 1:**\\\n",
    "Common percentage: 50%\\\n",
    "Plagiarism detected.\n",
    "\n",
    "**Explanation 1:**\\\n",
    "Length of string1= 5, Length of string2= 5, number of common words= 5.\\\n",
    "Hence, common percentage= (5/(5+5))*100 = 50\n",
    "\n",
    "=====================================================\n",
    "\n",
    "**Sample Input 2:**\\\n",
    "my dog’s name is bob\\\n",
    "my dog is a canine\n",
    "\n",
    "**Sample Output 2:**\\\n",
    "Common percentage: 20%\\\n",
    "Good Job!\n",
    "\n",
    "**Explanation 2:**\\\n",
    "Length of string1= 5, Length of string2= 5, number of common words= 2.\\\n",
    "Hence, common percentage= (2/(5+5))*100 = 20"
   ]
  },
  {
   "cell_type": "code",
   "execution_count": 5,
   "id": "d88888e4",
   "metadata": {},
   "outputs": [
    {
     "name": "stdout",
     "output_type": "stream",
     "text": [
      "Common percentage:  20.0 %\n",
      "Good job1\n"
     ]
    }
   ],
   "source": [
    "#Todo\n"
   ]
  },
  {
   "cell_type": "markdown",
   "id": "af9f2986",
   "metadata": {},
   "source": [
    "## 𝗤𝘂𝗲𝘀𝘁𝗶𝗼𝗻 2\n",
    "\n",
    "Suppose you are standing in the origin (0,0) position. You’ll be given a\\\n",
    "string as input consisting of only the letters R, L, U, D respectively\\\n",
    "meaning Right, Left, Up, and Down. You need to keep moving following the\\\n",
    "instruction of the string. Then, print out your final position in the\\\n",
    "coordinate system.\n",
    "\n",
    "=========================================================\n",
    "\n",
    "**Sample Input 1:**\\\n",
    "LDDRDRDRUU\\\n",
    "**Sample Output 1:**\\\n",
    "Final position at (2, -2)\n",
    "\n",
    "**Explanation 1:**\\\n",
    "After starting from (0,0)\\\n",
    "First, go left. So you’ll be at (-1,0)\\\n",
    "Then go down to (-1,-1)\\\n",
    "Again down to (-1,-2)\\\n",
    "Go right to (0,-2)\\\n",
    "Go down to (0,-3)\\\n",
    "Go right to (1,-3)\\\n",
    "Go down to (1,-4)\\\n",
    "Go right to (2,-4)\\\n",
    "Go up to (2,-3)\\\n",
    "Go up to (2,-2)\n",
    "\n",
    "=========================================================\n",
    "\n",
    "**Sample Input 2:**\\\n",
    "RRRRRRU\\\n",
    "**Sample Output 2:**\\\n",
    "Final position at (6, 1)\n",
    "\n",
    "**Explanation 2:**\\\n",
    "After starting from (0,0) you have to go to the right 6 times so basically\\\n",
    "you’ll reach at (6,0). Then go up to (6,1). That’s your final position."
   ]
  },
  {
   "cell_type": "code",
   "execution_count": 6,
   "id": "77e0143f",
   "metadata": {},
   "outputs": [
    {
     "name": "stdout",
     "output_type": "stream",
     "text": [
      "Enter the string: RRRRRRU\n",
      "Final position at (6, 1)\n"
     ]
    }
   ],
   "source": [
    "\n"
   ]
  },
  {
   "cell_type": "markdown",
   "id": "4edbd43c",
   "metadata": {},
   "source": [
    "## 𝗤𝘂𝗲𝘀𝘁𝗶𝗼𝗻 3\n",
    "Write a python program that takes a string as an input from the user. Then\\\n",
    "check which email domain the user is using and print it. For this question\\\n",
    "assume you have only 4 email domains available and they are gmail, yahoo,\\\n",
    "outlook, and bracu.\n",
    "\n",
    "**<font color='red'>[You are NOT allowed to use split() and sting slicing for this task]</font>**\n",
    "\n",
    "================================\n",
    "\n",
    "**Sample Input 1:**\\\n",
    "tom@gmail.com\\\n",
    "**Sample Output 1:**\\\n",
    "The user is using gmail as a mailing domain.\\\n",
    "**Explanation 1:**\\\n",
    "Since gmail domain is being used by the user.\n",
    "\n",
    "==============================================================\n",
    "\n",
    "**Sample Input 2:**\\\n",
    "kelvin@yahoo.com\\\n",
    "**Sample Output 2:**\\\n",
    "The user is using yahoo as a mailing domain.\\\n",
    "**Explanation 2:**\\\n",
    "Since yahoo domain is being used by the user.\n",
    "\n",
    "=============================================================="
   ]
  },
  {
   "cell_type": "code",
   "execution_count": 2,
   "id": "2c954106",
   "metadata": {},
   "outputs": [
    {
     "name": "stdout",
     "output_type": "stream",
     "text": [
      "yahoo\n"
     ]
    }
   ],
   "source": [
    "#Todo\n",
    "\n",
    "\n"
   ]
  },
  {
   "cell_type": "code",
   "execution_count": null,
   "id": "51f8e03b",
   "metadata": {},
   "outputs": [],
   "source": []
  },
  {
   "cell_type": "markdown",
   "id": "e883f0b6",
   "metadata": {},
   "source": [
    "## 𝗤𝘂𝗲𝘀𝘁𝗶𝗼𝗻 4\n",
    "\n",
    "Write a python program that will take a string as input from the user and\\\n",
    "will print the UPPERCASE letters only, if 3 consecutive UPPERCASE letters\\\n",
    "are found, otherwise it will print all the lowercase letters only. We can\\\n",
    "assume that the string will always contain both UPPERCASE and lowercase\\\n",
    "letters.\n",
    "\n",
    "**<font color='red'>[You cannot use any built in functions except input(), print(),\\\n",
    "len(String), ord(String), chr(int)]</font>**\n",
    "\n",
    "=============================================================\n",
    "\n",
    "**Sample Input 1:**\\\n",
    "This is CSE110\\\n",
    "**Sample Output 1:**\\\n",
    "TCSE\n",
    "\n",
    "**Explanation 1:**\n",
    "\n",
    "The string that the user has given as input here ‘This is CSE110’ does have\\\n",
    "3 consecutive UPPERCASE letters ‘CSE’ as we can see. Thus our program\\\n",
    "prints the UPPERCASE letters only which are ‘TCSE’.\n",
    "\n",
    "=============================================================\n",
    "\n",
    "**Sample Input 2:**\\\n",
    "thisIsAVariableName\\\n",
    "**Sample Output 2:**\\\n",
    "thissariableame\n",
    "\n",
    "**Explanation 2:**\n",
    "\n",
    "Our user input this time ‘thisIsAVariableName’ does not have 3 consecutive\\\n",
    "UPPERCASE letters. Hence only the lowercase letters are printed which\\\n",
    "concatenate to ‘thissariableame’.\n"
   ]
  },
  {
   "cell_type": "code",
   "execution_count": 4,
   "id": "04f11f92",
   "metadata": {},
   "outputs": [
    {
     "name": "stdout",
     "output_type": "stream",
     "text": [
      "Enter the string: thisIsAVariableName\n",
      "thissariableame\n"
     ]
    }
   ],
   "source": [
    "#Todo\n",
    "\n",
    "\n",
    "        \n"
   ]
  },
  {
   "cell_type": "code",
   "execution_count": 6,
   "id": "158b6294",
   "metadata": {},
   "outputs": [
    {
     "name": "stdout",
     "output_type": "stream",
     "text": [
      "Enter the string: This is CSE110\n",
      "TCSE\n"
     ]
    }
   ],
   "source": []
  },
  {
   "cell_type": "markdown",
   "id": "caafc607",
   "metadata": {},
   "source": [
    "## 𝗤𝘂𝗲𝘀𝘁𝗶𝗼𝗻 5\n",
    "\n",
    "Write a python program that will run a loop until the user gives the input\\\n",
    "“STOP”. Then based on the user inputs , print the pattern as shown in the\\\n",
    "examples. The output should be printed AFTER the END OF GIVING INPUT.\n",
    "\n",
    "**<font color='red'>[You are not allowed to use String multiplication for this task]</font>**\n",
    "\n",
    "================================\n",
    "\n",
    "**Sample Input 1:**\\\n",
    "a\\\n",
    "b\\\n",
    "c\\\n",
    "d\\\n",
    "STOP\n",
    "\n",
    "**Sample Output 1:**\\\n",
    "a\\\n",
    "bb\\\n",
    "ccc\\\n",
    "dddd\n",
    "\n",
    "**Explanation of Output 1:**\n",
    "\n",
    "Here use gives 4 inputs before “STOP”. So the output consists of 4 lines.\\\n",
    "The first input was ‘a’ so the program prints ‘a’ in the first line. The\\\n",
    "second input was ‘b’ so the program prints ‘bb’ in the second line. The\\\n",
    "third input was ‘c’ so the program prints ‘ccc’ in the third line. The\\\n",
    "fourth input was ‘d’ so the program prints ‘dddd’\n",
    "\n",
    "================================\n",
    "\n",
    "**Sample Input 2:**\\\n",
    "a\\\n",
    "b\\\n",
    "c\\\n",
    "STOP\n",
    "\n",
    "**Sample Output 2:**\\\n",
    "a\\\n",
    "bb\\\n",
    "ccc\n",
    "\n",
    "**Explanation of Output 2:**\n",
    "\n",
    "Here use gives 3 inputs before “STOP”. So the output consists of 3 lines.\\\n",
    "The first input was ‘a’ so the program prints ‘a’ in the first line. The\\\n",
    "second input was ‘b’ so the program prints ‘bb’ in the second line. The\\\n",
    "third input was ‘c’ so the program prints ‘ccc’ in the third line.\n"
   ]
  },
  {
   "cell_type": "code",
   "execution_count": 3,
   "id": "6869e42f",
   "metadata": {},
   "outputs": [
    {
     "name": "stdout",
     "output_type": "stream",
     "text": [
      "enter the string: a\n",
      "enter the string: b\n",
      "enter the string: c\n",
      "enter the string: d\n",
      "enter the string: STOP\n",
      "a\n",
      "bb\n",
      "ccc\n",
      "dddd\n"
     ]
    }
   ],
   "source": [
    "\n",
    "    \n"
   ]
  },
  {
   "cell_type": "markdown",
   "id": "03a38bc7",
   "metadata": {},
   "source": [
    "## 𝗤𝘂𝗲𝘀𝘁𝗶𝗼𝗻 6\n",
    "Write a program in python that will check if a password is valid or not.\\\n",
    "The user will give a string p, then a number n, and another string s. All\\\n",
    "the strings will be in lower case. The password p will be valid if all the\\\n",
    "points below are true:\n",
    "\n",
    "If p’s length is >= n\\\n",
    "If the password contains all the characters of the given string s\\\n",
    "If the password doesn’t have any space\n",
    "\n",
    "**<font color='red'>[You can’t use any built-in functions like len(), find(), replace() , \n",
    "sort().]</font>**\n",
    "  \n",
    "  =========================================================\n",
    "\n",
    "**Sample Input1:**\\\n",
    "hello_there!\\\n",
    "3\\\n",
    "he!\\\n",
    "**Sample Output1:**\\\n",
    "“hello_there!” is a valid password.\n",
    "\n",
    "**Explanation 1:**\\\n",
    "The length of “hello_there!” is greater than 3 and it doesn’t have any\\\n",
    "space and it has all the characters from “he!”. So it is valid.\n",
    "  \n",
    "=========================================================\n",
    "\n",
    "**Sample Input2:**\\\n",
    "hello_there;\\\n",
    "3\\\n",
    "he!\\\n",
    "**Sample Output2:**\\\n",
    "“hello_there!” is an invalid password.\n",
    "\n",
    "**Explanation 2:**\\\n",
    "The length of “hello_there!” is greater than 3 and it doesn’t have any\\\n",
    "space but it does not have “!” character from “he!”. So it is invalid.\n",
    "\n",
    "  =========================================================\n",
    "\n",
    "**Sample Input3:**\\\n",
    "hello_there!\\\n",
    "12\\\n",
    "h_e\\\n",
    "**Sample Output3:**\\\n",
    "“hello_there!” Is a valid password.\n",
    "\n",
    "**Explanation 3:**\\\n",
    "The length of “hello_there!” is equal to 12, it doesn’t have any space and\\\n",
    "it has all the characters from “h_e”. So it is valid.\n",
    "  \n",
    "=========================================================\n",
    "\n",
    "**Sample Input4:**\\\n",
    "hello_   there!\\\n",
    "12\\\n",
    "h_e\\\n",
    "**Sample Output4:**\\\n",
    "“hello_   there!” Is an invalid password.\n",
    "\n",
    "**Explanation 4:**\\\n",
    "The length of “hello_   there!” is equal to 12 and it has all the\\\n",
    "characters from “h_e”. But it has space. So it is invalid."
   ]
  },
  {
   "cell_type": "code",
   "execution_count": null,
   "id": "5a68e622",
   "metadata": {},
   "outputs": [],
   "source": [
    "\n"
   ]
  },
  {
   "cell_type": "markdown",
   "id": "eb1ebfbe",
   "metadata": {},
   "source": [
    "## 𝗤𝘂𝗲𝘀𝘁𝗶𝗼𝗻 7\n",
    "\n",
    "Write a python program that takes a number(Integer) as an input from the\\\n",
    "user. Then print a square and a right angle triangle alternatively till the\\\n",
    "given number.\n",
    "\n",
    "================================\n",
    "\n",
    "**Sample Input 1:**\\\n",
    "5\n",
    "\n",
    "**Sample Output 1:**\\\n",
    "=== Iteration 1 ===\\\n",
    "1\\\n",
    "=== Iteration 2 ===\\\n",
    "X\\\n",
    "XX\\\n",
    "=== Iteration 3 ===\\\n",
    "123\\\n",
    "123\\\n",
    "123\\\n",
    "=== Iteration 4 ===\\\n",
    "X\\\n",
    "XX\\\n",
    "XXX\\\n",
    "XXXX\\\n",
    "=== Iteration 5 ===\\\n",
    "12345\\\n",
    "12345\\\n",
    "12345\\\n",
    "12345\\\n",
    "12345\n",
    "\n",
    "**Explanation 01:**\n",
    "\n",
    "Since the input is 5, a total of 5 patterns have been printed.\\\n",
    "In iteration-1, a square with height and width 1 has been printed.  In\\\n",
    "iteration-2, a right-angle triangle with height 2, has been printed. In\\\n",
    "iteration-3, a square with height and width 3 has been printed. In\\\n",
    "iteration-4, a right-angle triangle with height 4, has been printed.  In\\\n",
    "iteration-5, a square with height and width 5 has been printed.\n",
    "\n",
    "**Sample Input 2:**\\\n",
    "3\n",
    "\n",
    "**Sample Output 2:**\\\n",
    "=== Iteration 1 ===\\\n",
    "1\\\n",
    "=== Iteration 2 ===\\\n",
    "X\\\n",
    "XX\\\n",
    "=== Iteration 3 ===\\\n",
    "123\\\n",
    "123\\\n",
    "123\n",
    "\n",
    "**Explanation 02:**\n",
    "\n",
    "Since the input is 3, a total of 3 patterns have been printed.\\\n",
    "In iteration-1, a square with height and width 1 has been printed.  In\\\n",
    "iteration-2, a right-angle triangle with height 2, has been printed. In\\\n",
    "iteration-3, a square with height and width 3 has been printed."
   ]
  },
  {
   "cell_type": "code",
   "execution_count": 47,
   "id": "af854796",
   "metadata": {},
   "outputs": [
    {
     "name": "stdout",
     "output_type": "stream",
     "text": [
      "Enter the number: 5\n",
      "=== Iteration 1 ===\n",
      "1\n",
      "=== Iteration 2===\n",
      "\n",
      "x\n",
      "xx\n",
      "=== Iteration 3===\n",
      "123\n",
      "123\n",
      "123\n",
      "=== Iteration 4 ===\n",
      "\n",
      "x\n",
      "xx\n",
      "xxx\n",
      "xxxx\n",
      "=== Iteration 5 ===\n",
      "12345\n",
      "12345\n",
      "12345\n",
      "12345\n",
      "12345\n"
     ]
    }
   ],
   "source": [
    "\n",
    "        \n"
   ]
  },
  {
   "cell_type": "markdown",
   "id": "5a4f763b",
   "metadata": {},
   "source": [
    "## 𝗤𝘂𝗲𝘀𝘁𝗶𝗼𝗻 8\n",
    "\n",
    "Write a Python program that reads a string and a number(integer) from the user.\n",
    "\n",
    "If the user enters an EVEN number, then the ASCII value of the EVEN\\\n",
    "positioned letters are incremented by one and prints the character of that\\\n",
    "ASCII value in upper case.\\\n",
    "If the user enters an ODD number,  then the ASCII value of the odd\\\n",
    "positioned letters are incremented by one and prints only the character of\\\n",
    "that ASCII value in uppercase.\n",
    "\n",
    "==================================================\n",
    "\n",
    "**Sample Input 1:**\\\n",
    "hello\\\n",
    "2\\\n",
    "**Sample Output 1:**\\\n",
    "IMP\\\n",
    "**Explanation 1:**\n",
    "\n",
    "Since 2 is an even number then the ASCII values of the even position\\\n",
    "letters are incremented by 1. Here, h, l, o are at even positions.\\\n",
    "‘h’ ASCII is 104 which is incremented by 1 becomes 105. 105 is ASCII of ‘i’\\\n",
    "which is converted to uppercase “I”.\\\n",
    "‘l’ ASCII is 108 which is incremented by 1 becomes 109. 109 is ASCII of ‘m’\\\n",
    "which is converted to uppercase “M”.\\\n",
    "‘o’ ASCII is 111 which is incremented by 1 becomes 112. 112 is ASCII of ‘p’\\\n",
    "which is converted to uppercase “P”.\n",
    "  \n",
    "=========================================================\n",
    "\n",
    "**Sample Input 2:**\\\n",
    "salt\\\n",
    "5\\\n",
    "**Sample Output 2:**\\\n",
    "BU\\\n",
    "**Explanation 2:**\n",
    "\n",
    "Since 5 is an ODD number then the ASCII values of the ODD position letters\\\n",
    "are incremented by 1. Here, ‘a’ and ‘t’ are at ODD positions.\\\n",
    "‘a’ ASCII is 97 which is incremented by 1 becomes 98. 98 is ASCII of ‘b’\\\n",
    "which is converted to uppercase “B”.\\\n",
    "‘t’ ASCII is 116 which is incremented by 1 becomes 117. 117 is ASCII of ‘t’\\\n",
    "which is converted to uppercase “U”."
   ]
  },
  {
   "cell_type": "code",
   "execution_count": 37,
   "id": "9e131f7b",
   "metadata": {},
   "outputs": [
    {
     "name": "stdout",
     "output_type": "stream",
     "text": [
      "Enter the string: hello\n",
      "Enter the number: 2\n",
      "IMP\n"
     ]
    }
   ],
   "source": [
    "#Todo\n",
    "\n"
   ]
  },
  {
   "cell_type": "markdown",
   "id": "0fee3b46",
   "metadata": {},
   "source": [
    "## 𝗤𝘂𝗲𝘀𝘁𝗶𝗼𝗻 9\n",
    "\n",
    "Write a python program that takes an INTEGER number as an input from the\\\n",
    "user. WITHOUT converting it to String, find the reverse of the number, but\\\n",
    "keep only the EVEN digits (you need to calculate the number).\n",
    "\n",
    "**<font color='red'>[You cannot use any String operation\\\n",
    "(including string concat) or built-in methods here.\\\n",
    "You have to reverse the integer number keeping it integer the\n",
    "whole time.]</font>**\n",
    "\n",
    "=======================================================\n",
    "\n",
    "**Sample Input 1:**\\\n",
    "4356\\\n",
    "**Sample Output 1:**\\\n",
    "64\\\n",
    "**Explanation 01:**\n",
    "\n",
    "The even digits of 4356 are 4, 6. If you reverse the order,\\\n",
    "the number becomes 64.\n",
    "\n",
    "=======================================================\n",
    "\n",
    "**Sample Input 2:**\\\n",
    "12345984\\\n",
    "**Sample Output 2:**\\\n",
    "4842\\\n",
    "**Explanation 02:**\n",
    "\n",
    "The even digits of 12345984 are 4, 8, 4, 2. If you reverse the order,\\\n",
    "the number becomes 4842\n"
   ]
  },
  {
   "cell_type": "code",
   "execution_count": 33,
   "id": "eda83694",
   "metadata": {},
   "outputs": [
    {
     "name": "stdout",
     "output_type": "stream",
     "text": [
      "Enter the numbe: 12345984\n",
      "4842"
     ]
    }
   ],
   "source": []
  },
  {
   "cell_type": "markdown",
   "id": "a2e61251",
   "metadata": {},
   "source": [
    "## 𝗤𝘂𝗲𝘀𝘁𝗶𝗼𝗻 10\n",
    "\n",
    "Assume you are at war and need to send a message to your team leader.\\\n",
    "There's a chance that your enemy might read your message, so you should\\\n",
    "encrypt it.\n",
    "\n",
    "Write a python program that takes a sentence as input from the user and\\\n",
    "prints the encrypted message ACCORDING TO the GIVEN EXPLANATION. (You can keep ‘space’ as it is)\n",
    "\n",
    "=============================================================\n",
    "\n",
    "**Sample Input 1:**\\\n",
    "go attack\\\n",
    "**Sample Output 1:**\\\n",
    "hp cvvcdl\n",
    "\n",
    "**Explanation of output 1:**\n",
    "\n",
    "Here, we have to count the appearance of a character. In this example,\\\n",
    "‘g’ has appeared 1 time, so it is converted to ‘h’ because g+1=h.\\\n",
    "‘o’ has appeared 1 time, so it is converted to ‘p’ because o+1=p.\\\n",
    "‘a’ has appeared 2 times, so it is converted to ‘c’ because a+2=c.\\\n",
    "‘t’ has appeared 2 times, so it is converted to ‘v’ because t+2=v  and so on.\n",
    "\n",
    "=============================================================\n",
    "\n",
    "**Sample Input 2:**\\\n",
    "soldiers take cover\\\n",
    "**Sample Output 2:**\\\n",
    "uqmejhtu ublh dqwht\n",
    "\n",
    "**Explanation of output 2:**\n",
    "\n",
    "‘s’ has appeared 2 times, that's why we converted it to ‘u’ because s+2=u.\\\n",
    "‘o’ has appeared 2 times, that's why we converted it to ‘q’ because o+2=q.\\\n",
    "‘l’ has appeared 1 time, that's why we converted it to ‘m’ because l+1=m.\\\n",
    "‘d’ has appeared 1 time, that's why we converted it to ‘e’ because d+1=e.\\\n",
    "‘e’ has appeared 3 times, that's why we converted it to ‘h’ because e+3=h. And so on.\n"
   ]
  },
  {
   "cell_type": "code",
   "execution_count": 24,
   "id": "bf96762c",
   "metadata": {},
   "outputs": [
    {
     "name": "stdout",
     "output_type": "stream",
     "text": [
      "uqmejhtu ublh dqwht\n"
     ]
    }
   ],
   "source": []
  },
  {
   "cell_type": "markdown",
   "id": "56f33ebc",
   "metadata": {},
   "source": [
    "## 𝗤𝘂𝗲𝘀𝘁𝗶𝗼𝗻 11\n",
    "\n",
    "Write a python program that takes two numbers (Integer) as inputs from the\\\n",
    "user. Consider the 1st number to be the total number of rows and the 2nd\\\n",
    "number to be the total number of columns of a rectangle.\\\n",
    "<font color='darkcyan'>[For this question, you can assume the second input is always greater than the first\\\n",
    "input. So, no checking is needed for ensuring this condition.]</font>\n",
    "\n",
    "Finally, print a rectangle as shown in the output.\n",
    "\n",
    "=============================================================\n",
    "\n",
    "**Sample Input 1:**\\\n",
    "3\\\n",
    "6\\\n",
    "**Sample Output 1:**\\\n",
    "1=====\\\n",
    "12====\\\n",
    "123===\n",
    "\n",
    "**Explanation 01:**\n",
    "\n",
    "3 is the total number of rows and  6 is the total number of columns. For\\\n",
    "each row, numbers starting from 1 to that row number are printed and the\\\n",
    "rest of the columns are filled by equal 😊) to sign.\n",
    "\n",
    "=============================================================\n",
    "\n",
    "**Sample Input 2:**\\\n",
    "6\\\n",
    "7\\\n",
    "**Sample Output 2:**\\\n",
    "1======\\\n",
    "12=====\\\n",
    "123====\\\n",
    "1234===\\\n",
    "12345==\\\n",
    "123456=\n",
    "\n",
    "**Explanation 02:**\n",
    "\n",
    "6, is the total number of rows, and 7 is the total number of columns. For\\\n",
    "each row, numbers starting from 1 to that row number are printed and the\\\n",
    "rest of the columns are filled by equal 😊) to sign.\n"
   ]
  },
  {
   "cell_type": "code",
   "execution_count": 22,
   "id": "346ef148",
   "metadata": {},
   "outputs": [
    {
     "name": "stdout",
     "output_type": "stream",
     "text": [
      "1 = = = = = = \n",
      "1 2 = = = = = \n",
      "1 2 3 = = = = \n",
      "1 2 3 4 = = = \n",
      "1 2 3 4 5 = = \n",
      "1 2 3 4 5 6 = \n"
     ]
    }
   ],
   "source": [
    "\n"
   ]
  },
  {
   "cell_type": "markdown",
   "id": "8ca7bcb6",
   "metadata": {},
   "source": [
    "## 𝗤𝘂𝗲𝘀𝘁𝗶𝗼𝗻 12\n",
    "\n",
    "Take a lowercase word as an input from the user. Modify the word in such a\\\n",
    "way that the letters in the multiple of 3 positions become uppercase except\\\n",
    "position 0. Lastly, print the newly modified word.\n",
    "\n",
    "**<font color='red'>[You are not allowed to use upper() method]</font>**\n",
    "\n",
    "=============================================================\n",
    "\n",
    "**Sample Input1:**\\\n",
    "jupyter\\\n",
    "**Sample Output1:**\\\n",
    "jupYteR\n",
    "\n",
    "**Explanation 1:**\n",
    "\n",
    "The characters ‘y’ and ‘r’ are in positions 3 and 6 respectively. So, these\\\n",
    "two characters will be converted to uppercase in the modified string.\n",
    "\n",
    "=============================================================\n",
    "\n",
    "**Sample Input2:**\\\n",
    "python notebook\\\n",
    "**Sample Output2:**\\\n",
    "pytHon noTebOok\n",
    "\n",
    "**Explanation 2:**\n",
    "\n",
    "The characters ‘h’, ‘t’, and ‘o’ are in positions 3, 9, and 12\\\n",
    "respectively. So, these three characters will be converted to uppercase in\\\n",
    "the modified string."
   ]
  },
  {
   "cell_type": "code",
   "execution_count": 23,
   "id": "26f9a341",
   "metadata": {},
   "outputs": [
    {
     "name": "stdout",
     "output_type": "stream",
     "text": [
      "PytHon\u0000noTebOok\n"
     ]
    }
   ],
   "source": []
  },
  {
   "cell_type": "markdown",
   "id": "ca413187",
   "metadata": {},
   "source": [
    "## 𝗤𝘂𝗲𝘀𝘁𝗶𝗼𝗻 13\n",
    "\n",
    "Take a word and a single character as user inputs. Print “Yes” if and only\\\n",
    "if the word starts and ends with the character and the character is not\\\n",
    "present anywhere in the rest of the word. Otherwise, print “No”.\n",
    "\n",
    "**<font color='red'>[You are not allowed to use any built-in function including count() for\\\n",
    "string except len(). Cannot use string slicing]</font>**\n",
    "\n",
    "=============================================================\n",
    "\n",
    "**Sample Input 1:**\\\n",
    "hello\\\n",
    "o\\\n",
    "**Sample Output 1:**\\\n",
    "No\\\n",
    "**Explanation 1:**\\\n",
    "The word doesn’t start with ‘o’.\n",
    "\n",
    "=============================================================\n",
    "\n",
    "**Sample Input 2:**\\\n",
    "lol\\\n",
    "l\\\n",
    "**Sample Output 2:**\\\n",
    "Yes\\\n",
    "**Explanation 2:**\\\n",
    "The word starts and ends with ‘l’. Also, ‘l’ doesn’t appear anywhere in the\\\n",
    "rest of the substring.\n",
    "\n",
    "=============================================================\n",
    "\n",
    "**Sample Input 3:**\\\n",
    "astrazeneca\\\n",
    "a\\\n",
    "**Sample Output 3:**\\\n",
    "No\\\n",
    "**Explanation 3:**\\\n",
    "The word starts and ends with ‘a’ but ‘a’ is present in the substring\\\n",
    "“strazenec”.\n"
   ]
  },
  {
   "cell_type": "code",
   "execution_count": 16,
   "id": "92866fc3",
   "metadata": {},
   "outputs": [
    {
     "name": "stdout",
     "output_type": "stream",
     "text": [
      "yes\n"
     ]
    }
   ],
   "source": []
  },
  {
   "cell_type": "code",
   "execution_count": null,
   "id": "b190d2dd",
   "metadata": {},
   "outputs": [],
   "source": []
  }
 ],
 "metadata": {
  "kernelspec": {
   "display_name": "Python 3",
   "language": "python",
   "name": "python3"
  },
  "language_info": {
   "codemirror_mode": {
    "name": "ipython",
    "version": 3
   },
   "file_extension": ".py",
   "mimetype": "text/x-python",
   "name": "python",
   "nbconvert_exporter": "python",
   "pygments_lexer": "ipython3",
   "version": "3.8.8"
  }
 },
 "nbformat": 4,
 "nbformat_minor": 5
}
