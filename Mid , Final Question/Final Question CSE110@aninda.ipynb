{
 "cells": [
  {
   "cell_type": "markdown",
   "metadata": {
    "id": "y1OxALe74ONI"
   },
   "source": [
    "# Task 01\n",
    "\n",
    "Take an input from the user, N,  and that input signifies the number of inputs to be taken further from the user. Then take N number of integer inputs from the user. Then you have to calculate the following of these from the N integer inputs.\n",
    "\n",
    "<font color='red'> [You are not allowed to use the sum(), max(), min(), mean() functions]</font>\n",
    "\n",
    "<font color='red'> [You are allowed to use the count() function]</font>\n",
    "\n",
    "* Range (Highest Value - Lowest Value)\n",
    "* Mean (Sum of all values/Number of Values)\n",
    "* Mode (Highest occurring number in the N integer inputs )\n",
    "\n",
    "\n",
    "===========================================================\n",
    "\n",
    "**Sample Input 1 :**\\\n",
    "5\\\n",
    "1 2 2 3 4 \n",
    "\n",
    "**Sample Output**\\\n",
    "Range = 3 \n",
    "\n",
    "Mean = 2.4\n",
    "\n",
    "Mode = 2\n",
    "\n",
    "**Explanation:** \n",
    "Here, the maximum number is 4, minimum number is 1. Range = max-min=4-1=3. Mean = (sum of all the numbers)/total count of numbers = (1+2+2+3+4)/5 = 12/5 = 2.4. Lastly, 2 has occured maximum of 2 times. Hence, the mode is 2.\n",
    "\n",
    "\n",
    "=============================================================\n",
    "\n",
    "\n",
    "\n",
    "**Sample Input 1 :**\\\n",
    "1\n",
    "1 \n",
    "\n",
    "**Sample Output**\\\n",
    "Range = 0\n",
    "\n",
    "Mean = 1.0\n",
    "\n",
    "Mode = 2\n",
    "\n",
    "**Explanation:** \n",
    "Here, the maximum number is 1, minimum number is 1. Range = max-min=1-1=0. Mean = (sum of all the numbers)/total count of numbers = (2)/2 = 1.0 . Lastly, 1 has occured maximum of 2 times. Hence, the mode is 2.\n",
    "\n",
    "\n",
    "\n",
    "\n",
    "\n",
    "\n",
    "\n"
   ]
  },
  {
   "cell_type": "code",
   "execution_count": null,
   "metadata": {
    "id": "3MZdDln-7ngl"
   },
   "outputs": [],
   "source": []
  },
  {
   "cell_type": "markdown",
   "metadata": {
    "id": "VOjcZp3h6N7Z"
   },
   "source": [
    "# Task 02\n",
    "\n",
    "Write a Python program that takes a string as an input from the user. Then, counts the sum of the frequency of only three characters (‘C’, ‘S’, ‘E’) and counts the sum of the frequency all the characters excluding 'C', 'S', 'E', and any white spaces. Then prints the ratio of these two sums. \\\n",
    "<font color='red'> [You are not allowed to use the count() function]</font>\n",
    "\n",
    "\n",
    "*Hint: The case is ignored (P and p are considered the same).* \n",
    "\n",
    "\n",
    "===========================================================\n",
    "\n",
    "**Example1:**\n",
    "\n",
    "**Input:**\\\n",
    "\"This is my CSE110 final exam\"\n",
    "\n",
    "**Output:**\\\n",
    "The sum of the frequency of 'C', 'S', 'E': 6\\\n",
    "Letters excluding 'C', 'S', 'E' and space is: 17\\\n",
    "The ratio is: 2.8333333333333335\n",
    "\n",
    "**Explanation:** \\\n",
    "Here in the input string, ‘c’ has appeared 1 times, ‘e’ has appeared 2 times and ‘s’ has appeared 3 times. So, the sum of the frequency of 'C', 'S', 'E': 1+2+3= 6. Letters excluding 'C','S','E', and space are: 17.\\\n",
    "So the ratio is (sum of letters excluding 'C','S','E' and space)/( sum of the frequency of 'C','S','E')= 17/6= 2.8333333333333335\n",
    "\n",
    "==============================================================================\n",
    "\n",
    "**Example2:** \\\n",
    "Input:   \"There is no courage without the fear.\"\n",
    "\n",
    "**Output:** \\\n",
    "The sum of the frequency of 'C', 'S', 'E': 7\\\n",
    "Letters excluding 'C', 'S', 'E' and space is: 24\\\n",
    "The ratio is: 3.4285714285714284\n",
    "\n",
    "**Explanation:** \\\n",
    "Here in the input string, ‘c’ has appeared 1 time, ‘e’ has appeared 5 times and ‘s’ has appeared 1 time. So, the sum of the frequency of 'C', 'S', 'E': 1+5+1=7. Letters excluding 'C','S','E', and space are: 24. So the ratio is (sum of letters excluding 'C','S','E' and space)/( sum of the frequency of 'C','S','E')= 24/7= 3.4285714285714284\n",
    "\n"
   ]
  },
  {
   "cell_type": "code",
   "execution_count": 1,
   "metadata": {
    "id": "9uJmC_di7mql"
   },
   "outputs": [
    {
     "name": "stdout",
     "output_type": "stream",
     "text": [
      "This is my CSE110 final exam\n",
      "The sum of the frequency of 'C', 'S', 'E':' 6\n",
      "Letters excluding 'C', 'S', 'E' and space is: 17\n",
      "2.8333333333333335\n"
     ]
    }
   ],
   "source": []
  },
  {
   "cell_type": "markdown",
   "metadata": {
    "id": "punAKiNF87E8"
   },
   "source": [
    "# Task 03\n",
    "\n",
    "\n",
    "Write a function which takes in a dictionary as an input. The keys will be the name of the courses that you had taken in the previous semester. It can be any number of courses but it will always be more than 3. And the corresponding values will be the total marks that you had got out of 100. The values can never be negative. Now calculate the average mark that you had achieved in the last semester. Your function will **return** the string “Highest distinction” or “High Distinction” or “No Distinction” based on the calculated average mark. What string will be returned will be based on the following criteria:\n",
    "\n",
    "* Condition 1 : If  80 <= average marks <= 100 , return \"Highest Distinction\"\n",
    "* Condition 2 : If  50 <= average marks <= 79 , return \"High Distinction\"\n",
    "* Condition 3 : If  0 <= average marks <= 49 , return \"No Distinction\"\n",
    "\n",
    "\n",
    "===========================================================\n",
    "\n",
    "\n",
    "**Example1:** \n",
    "\n",
    "**Input1:**<br>\n",
    "{'Bangla' : 90, 'English' : 90, 'Mathematics' : 94, 'Science' : 96 }\n",
    "\n",
    "**Function Call1:**\n",
    "Avg_Marks( {'Bangla' : 90, 'English' : 90, 'Mathematics' : 96, 'Science' : 96 } )\n",
    "\n",
    "**Output1:** \\\n",
    "Highest Distinction\n",
    "\n",
    "**Explanation1:** <br> \n",
    "Here, you had taken 4 courses in the previous semester and they are Bangla, English, Mathematics and Science. Out of a total 100 in each subject, you scored 90 in Bangla, 90 in English, 96 in Mathematics and 96 in Science. So the average mark of these 4 courses is 93. As the average mark satisfies Condition 1, that is the average is greater than or equal to 80 and less than or equal to 100, so the function will return the string \"Highest Distinction\".     \n",
    "\n",
    "===========================================================\n",
    "\n",
    "**Example2:** \n",
    "\n",
    "**Input2:**<br>\n",
    "{'Bangla' : 20, 'English' : 30, 'Mathematics' : 50, 'Science' : 30 }\n",
    "\n",
    "**Function Call1:**   \n",
    "Avg_Marks( {'Bangla' : 20, 'English' : 30, 'Mathematics' : 50, 'Science' : 30 } )\n",
    "\n",
    "**Output2:** \\\n",
    "\"No Distinction\"\n",
    "\n",
    "**Explanation2:** <br> \n",
    "Here suppose you had taken 4 courses in the previous semester and they are Bangla, English, Mathematics and Science. Out of a total 100 in each subject, you scored 20 in Bangla, 30 in English, 50 in Mathematics and 30 in Science. So the average mark of these 4 courses is 32.5. As the average mark satisfies Condition 3, so the function will return the string \"No Distinction\". \n",
    "\n",
    "\n",
    "===========================================================\n",
    "\n",
    "**Hint:** Average = sum of all the course marks / total number of courses"
   ]
  },
  {
   "cell_type": "code",
   "execution_count": null,
   "metadata": {
    "id": "McGQ17wl4Q1-"
   },
   "outputs": [],
   "source": []
  },
  {
   "cell_type": "markdown",
   "metadata": {},
   "source": [
    "# Task 04\n",
    "\n",
    "\n",
    "Take a name as an input from the user.\n",
    "\n",
    "Your task is to ensure that the first letter of each word in a name must be in Uppercase and other letters in Lowercase.\n",
    "A person may have more than one words in the name like: Hugh Jackman.\n",
    "For this, you need to ensure that the first letter in each word of the names is in Uppercase.\n",
    "Here, the letters “H” and “J” should be in uppercase and the other letters must be in Lowercase.\n",
    "\n",
    "Now take a name as an input from the user and pass it as an argument to a function that takes a list as a parameter.\n",
    "\n",
    "If the first letters are not in Uppercase, return “First characters of each word of a name must be in Uppercase.”\n",
    "\n",
    "If any other characters are in uppercase, then return “Other than the first characters of each word of a name,\n",
    "all characters shall be in lowercase.”\n",
    "\n",
    "If the name was given as instructed, then simply print the name typed by the user.\n",
    "\n",
    "You can NOT use the built-in functions isupper() and islower(). However, you may use the ord() function.\n",
    "\n",
    "=============================================================\n",
    "\n",
    "Sample Input 1:\n",
    "Sam Thomas\n",
    "Function Call: function_name(\"Sam Thomas\")\n",
    "Sample Output 1:\n",
    "Name typed: Sam Thomas\n",
    "\n",
    "============================================================="
   ]
  },
  {
   "cell_type": "code",
   "execution_count": 2,
   "metadata": {},
   "outputs": [
    {
     "name": "stdout",
     "output_type": "stream",
     "text": [
      "Name typed: Sam Thomas\n"
     ]
    }
   ],
   "source": []
  },
  {
   "cell_type": "markdown",
   "metadata": {},
   "source": [
    "# Task 05\n",
    "\"\"\"\n",
    "Take an integer number from the user and then print the largest digit of that number.\n",
    "\n",
    "[You are not allowed to use the max(), min(), sort(), sorted() functions here]\n",
    "\n",
    "Hint :\n",
    "You may assume that the input number is a non negative number.\n",
    "\n",
    "================================\n",
    "\n",
    "Sample input 1:\n",
    "42375\n",
    "Sample output 1:\n",
    "7\n",
    "Exxplaination: 7 is the largest digit in 42375\n",
    "\n",
    "================================\n",
    "\n",
    "Sample input 2:\n",
    "60301\n",
    "Sample output 2:\n",
    "6\n",
    "Explaination: 6 is the largest digit in 60301\n"
   ]
  },
  {
   "cell_type": "code",
   "execution_count": null,
   "metadata": {},
   "outputs": [],
   "source": []
  },
  {
   "cell_type": "markdown",
   "metadata": {},
   "source": [
    "# Task 06\n",
    "\"\"\"\n",
    "𝐐𝐮𝐞𝐬𝐭𝐢𝐨𝐧 𝟑:\n",
    "Let's say every time you plan to go somewhere, you are confused about choosing a vehicle to your destination. You always have 3 choices and\n",
    "they are by bus, motorcycle or car. You know that taking a car would be the most comfortable choice for sure but it will cost a lot.\n",
    "You often fall under such situations and waste a lot of time calculating the fares and taking a decision. You know the per kilometer cost\n",
    "for each transport and the base fare that is given below:\n",
    "\n",
    "[Base fare is the minimum fare that you must give even if the cost calculated from the distance is less than it.\n",
    "For example, your destination is 4 km away from your location. So the bus fare will be 5* 4 = 20 taka.\n",
    "Although you should give only 20 taka, you have to pay the minimum base fare, which is 100 taka.]\n",
    "\n",
    "-----------------------------------------------------------------------------------------\n",
    "Vehicle                  Base Fare     Cost per Kilometer(Taka)\n",
    "-----------------------------------------------------------------------------------------\n",
    "Bus                          100                              5\n",
    "-----------------------------------------------------------------------------------------\n",
    "Motorcycle               60                              30\n",
    "----------------------------------------------------------------------------------------\n",
    "Car                            40                              50\n",
    "---------------------------------------------------------------------------------------\n",
    "Now write a function named “fareCalculator()” that will take the distance between your current location and destination as a parameter and\n",
    "return the best choice of vehicle based on the minimum cost of the trip and print it .\n",
    "You will take the distance in km as input and pass it as argument to your written function.\n",
    "\n",
    "𝐒𝐚𝐦𝐩𝐥𝐞 𝐢𝐧𝐩𝐮𝐭:\n",
    "2.2\n",
    "𝐒𝐚𝐦𝐩𝐥𝐞 𝐂𝐨𝐝𝐞:\n",
    "print(fareCalculator(2.2))\n",
    "𝐒𝐚𝐦𝐩𝐥𝐞 𝐎𝐮𝐭𝐩𝐮𝐭:\n",
    "Motorcycle\n",
    "\n",
    "\n",
    "𝐒𝐚𝐦𝐩𝐥𝐞 𝐢𝐧𝐩𝐮𝐭:\n",
    "5.6\n",
    "𝐒𝐚𝐦𝐩𝐥𝐞 𝐂𝐨𝐝𝐞:\n",
    "print(fareCalculator(5.6))\n",
    "𝐒𝐚𝐦𝐩𝐥𝐞 𝐎𝐮𝐭𝐩𝐮𝐭:\n",
    "Bus\n",
    "\"\"\""
   ]
  },
  {
   "cell_type": "code",
   "execution_count": 24,
   "metadata": {},
   "outputs": [
    {
     "name": "stdout",
     "output_type": "stream",
     "text": [
      "Enter the number: 5.6\n",
      "Bus\n"
     ]
    }
   ],
   "source": [
    "#try\n",
    "def fareCalculator(n):\n",
    "    dict_1={\"Bus\":[100,5],\"Motorcycle\":[60,30],\"Car\":[40,50]}\n",
    "\n",
    "    motor=0\n",
    "    bus=0\n",
    "    car=0\n",
    "    min_val=0\n",
    "    if min_val==0:\n",
    "        x=abs(dict_1[\"Bus\"][0]-(dict_1[\"Bus\"][1]*n))\n",
    "        y=abs(dict_1[\"Motorcycle\"][0]-(dict_1[\"Motorcycle\"][1]*n))\n",
    "        z=abs(dict_1[\"Car\"][0]+(dict_1[\"Car\"][1]*n))\n",
    "    #     print(x)\n",
    "    #     print(y)\n",
    "    #     print(z)\n",
    "        if x>y:\n",
    "            min_val=y\n",
    "            return \"Motorcycle\"\n",
    "        elif y>x:\n",
    "            min_val=x\n",
    "            return \"Bus\"\n",
    "        elif z>y:\n",
    "            min_val=y\n",
    "            return \"Motorcycle\"\n",
    "        elif z>x:\n",
    "            min_val=x\n",
    "            return \"Bus\"\n",
    "        else:\n",
    "            min_val=z\n",
    "            return \"Car\"\n",
    "n=float(input('Enter the number: '))\n",
    "val=fareCalculator(n)\n",
    "print(val)\n"
   ]
  },
  {
   "cell_type": "code",
   "execution_count": null,
   "metadata": {},
   "outputs": [],
   "source": []
  }
 ],
 "metadata": {
  "colab": {
   "collapsed_sections": [],
   "name": "20301011_Tanjim Hussain Sajin _10_CSE110_SET_3D7.ipynb",
   "provenance": []
  },
  "kernelspec": {
   "display_name": "Python 3",
   "language": "python",
   "name": "python3"
  },
  "language_info": {
   "codemirror_mode": {
    "name": "ipython",
    "version": 3
   },
   "file_extension": ".py",
   "mimetype": "text/x-python",
   "name": "python",
   "nbconvert_exporter": "python",
   "pygments_lexer": "ipython3",
   "version": "3.8.8"
  }
 },
 "nbformat": 4,
 "nbformat_minor": 1
}
