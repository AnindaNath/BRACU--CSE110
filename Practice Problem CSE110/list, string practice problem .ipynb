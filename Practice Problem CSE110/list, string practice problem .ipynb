{
 "cells": [
  {
   "cell_type": "markdown",
   "id": "ae9b1e5e",
   "metadata": {},
   "source": [
    "# 1**\n",
    "Write a Python program to find the list with maximum and minimum sum and also define length . Go to the editor\n",
    "**Original list:**\\\n",
    "[[0], [1, 3], [5, 7], [9, 11], [13, 15, 17]]\\\n",
    "**List with maximum length of lists:**\\\n",
    "(3, [13, 15, 17])\\\n",
    "**List with minimum length of lists:**\\\n",
    "(1, [0])\\\n",
    "**Original list:**\\\n",
    "[[0], [1, 3], [5, 7], [9, 11], [3, 5, 7,10]]\\\n",
    "**List with maximum length of lists:**\\\n",
    "(4, [3, 5, 10,7])\n",
    "**List with minimum length of lists:**\\\n",
    "(1, [0])\\\n",
    "**Original list:**\\\n",
    "[[12], [1, 3], [1, 34, 5, 7], [9, 11], [3, 5, 7]]\\\n",
    "**List with maximum length of lists:**\\\n",
    "(4, [1, 34, 5, 7])\\\n",
    "**List with minimum length of lists:**\\\n",
    "(1, [12])"
   ]
  },
  {
   "cell_type": "code",
   "execution_count": 1,
   "id": "3975d6d6",
   "metadata": {},
   "outputs": [
    {
     "name": "stdout",
     "output_type": "stream",
     "text": [
      "(4, [1, 34, 5, 7])\n",
      "(2, [1, 3])\n"
     ]
    }
   ],
   "source": [
    "#ans : \n",
    "list1=[[12], [1, 3], [1, 34, 5, 7], [9, 11], [3, 5, 7]]\n",
    "max_val = None\n",
    "min_val=None\n",
    "max_index=0\n",
    "min_index=0\n",
    "\n",
    "for i in range(len(list1)):\n",
    "\n",
    "    sum=0\n",
    "    for j in list1[i] :\n",
    "\n",
    "        sum+=j\n",
    "    if max_val==None and min_val==None:\n",
    "        max_val=sum\n",
    "        min_val=sum\n",
    "    else:\n",
    "        if max_val<sum:\n",
    "\n",
    "            max_val=sum\n",
    "            max_index=list1[i]\n",
    "        elif min_val>sum:\n",
    "            min_val=sum\n",
    "            min_index=list1[i]\n",
    "temp1=(len(max_index),max_index)\n",
    "temp2=(len(min_index),min_index)\n",
    "print(temp1)\n",
    "print(temp2)"
   ]
  },
  {
   "cell_type": "markdown",
   "id": "64be5c42",
   "metadata": {},
   "source": [
    "# 2 list,dictonary,tuple marge problem\\\n",
    "Write a Python program to count number of unique sublists within a given list. Go to the editor\\\n",
    "**Original list:**\\\n",
    "[[1, 3], [5, 7], [1, 3], [13, 15, 17], [5, 7], [9, 11]]\\\n",
    "**Number of unique lists of the said list:**\\\n",
    "{(1, 3): 2, (5, 7): 2, (13, 15, 17): 1, (9, 11): 1}\\\n",
    "**Original list:**\\\n",
    "[['green', 'orange'], ['black'], ['green', 'orange'], ['white']]\\\n",
    "**Number of unique lists of the said list:**\\\n",
    "{('green', 'orange'): 2, ('black',): 1, ('white',): 1}"
   ]
  },
  {
   "cell_type": "code",
   "execution_count": 11,
   "id": "c2bd6d26",
   "metadata": {},
   "outputs": [
    {
     "name": "stdout",
     "output_type": "stream",
     "text": [
      "{('green', 'orange'): 2, ('black',): 1, ('white',): 1}\n"
     ]
    }
   ],
   "source": [
    "# ans\n",
    "list1=[['green', 'orange'], ['black'], ['green', 'orange'], ['white']]\n",
    "dict_1={}\n",
    "string1=''\n",
    "for i in range(len(list1)-1):\n",
    "    for j in range(i+1,len(list1)):\n",
    "        if len(list1[i])==len(list1[j]):\n",
    "            for x in list1[i]:\n",
    "                if x in list1[j]:\n",
    "                    temp=tuple(list1[i])\n",
    "                    if temp not in dict_1:\n",
    "                        dict_1[temp]=1\n",
    "                    else:\n",
    "                        dict_1[temp]+=1\n",
    "for i in list1:\n",
    "    temp=tuple(i)\n",
    "    if temp not in dict_1:\n",
    "        dict_1[temp]=1\n",
    "print(dict_1)"
   ]
  },
  {
   "cell_type": "markdown",
   "id": "555cf043",
   "metadata": {},
   "source": [
    "# 3**\n",
    "\n",
    "Write a Python program to perform a deep flattens a list. Go to the editor\\\n",
    "**Sample Output:**\\\n",
    "**Original list elements:**\\\n",
    "[1, [2], [[3], [4], 5], 6]\\\n",
    "**Deep flatten the said list:**\\\n",
    "[1, 2, 3, 4, 5, 6]\\\n",
    "**Original list elements:**\\\n",
    "[[[1, 2, 3], [4, 5]], 6]\\\n",
    "**Deep flatten the said list:**\\\n",
    "[1, 2, 3, 4, 5, 6]"
   ]
  },
  {
   "cell_type": "code",
   "execution_count": null,
   "id": "38dd6597",
   "metadata": {},
   "outputs": [],
   "source": [
    "#ans\n",
    "list1='[1, [2], [[3], [4], 5], 6]'\n",
    "list2=[]\n",
    "for i in range(len(list1)):\n",
    "    if list1[i]=='[' or list1[i]==']' or list1[i]==' ' or list1[i]==',':\n",
    "        pass\n",
    "    else:\n",
    "        list2.append(list1[i])\n",
    "print(list2)"
   ]
  },
  {
   "cell_type": "markdown",
   "id": "bc216366",
   "metadata": {},
   "source": [
    "# 4**\n",
    "\n",
    "Write a Python program to get the cumulative sum of the elements of a given list. Go to the editor\\\n",
    "**Sample Output:**\\\n",
    "Original list elements:\\\n",
    "[1, 2, 3, 4]\\\n",
    "**Cumulative sum of the elements of the said list:**\\\n",
    "[1, 3, 6, 10]\\\n",
    "**Original list elements:**\\\n",
    "[-1, -2, -3, 4]\\\n",
    "**Cumulative sum of the elements of the said list:**\\\n",
    "[-1, -3, -6, -2]"
   ]
  },
  {
   "cell_type": "code",
   "execution_count": null,
   "id": "dab6434d",
   "metadata": {},
   "outputs": [],
   "source": [
    "list1=[1, 2, 3, 4]  #[1,3,6,10]\n",
    "list2=[]\n",
    "sum=0\n",
    "for i in list1:\n",
    "    sum+=i\n",
    "    list2.append(sum)\n",
    "print(list2)\n"
   ]
  },
  {
   "cell_type": "markdown",
   "id": "e54368c9",
   "metadata": {},
   "source": [
    "# 5**\n",
    "\n",
    "Write a Python program to create the smallest possible number using the elements of a given list of positive integers. Go to the editor\\\n",
    "**Original list:**\\\n",
    "[3, 40, 41, 43, 74, 9]\\\n",
    "**Smallest possible number using the elements of the said list of positive integers:**\\\n",
    "3940414374\\\n",
    "**Original list:**\\\n",
    "[10, 40, 20, 30, 50, 60]\\\n",
    "**Smallest possible number using the elements of the said list of positive integers:**\\\n",
    "102030405060\\\n",
    "**Original list:**\\\n",
    "[8, 4, 2, 9, 5, 6, 1, 0]\\\n",
    "**Smallest possible number using the elements of the said list of positive integers:**\\\n",
    "01245689"
   ]
  },
  {
   "cell_type": "code",
   "execution_count": 12,
   "id": "00e5c958",
   "metadata": {},
   "outputs": [
    {
     "name": "stdout",
     "output_type": "stream",
     "text": [
      "102030405060\n"
     ]
    }
   ],
   "source": [
    "#ans\n",
    "list1=[10, 40, 20, 30, 50, 60]\n",
    "\n",
    "for i in range(len(list1)-1):\n",
    "    for j in range(i+1,len(list1)):\n",
    "        if list1[i]>list1[j]:\n",
    "            list1[i],list1[j]=list1[j],list1[i]\n",
    "string_1=''\n",
    "for i in list1:\n",
    "    string_1+=str(i)\n",
    "print(string_1)\n"
   ]
  },
  {
   "cell_type": "code",
   "execution_count": null,
   "id": "97da4d9f",
   "metadata": {},
   "outputs": [],
   "source": []
  }
 ],
 "metadata": {
  "kernelspec": {
   "display_name": "Python 3",
   "language": "python",
   "name": "python3"
  },
  "language_info": {
   "codemirror_mode": {
    "name": "ipython",
    "version": 3
   },
   "file_extension": ".py",
   "mimetype": "text/x-python",
   "name": "python",
   "nbconvert_exporter": "python",
   "pygments_lexer": "ipython3",
   "version": "3.8.8"
  }
 },
 "nbformat": 4,
 "nbformat_minor": 5
}
