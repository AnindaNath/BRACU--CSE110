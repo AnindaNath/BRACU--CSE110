{
 "cells": [
  {
   "cell_type": "code",
   "execution_count": 1,
   "id": "41585456",
   "metadata": {},
   "outputs": [
    {
     "name": "stdout",
     "output_type": "stream",
     "text": [
      "magic number\n",
      "magic number\n",
      "Not magic number\n",
      "Not magic number\n",
      "magic number\n",
      "(('1232', '4455', '1111'), ('1234', '9876'))\n"
     ]
    }
   ],
   "source": [
    "# MSI sir practice problem\n",
    "number=\"1232,4455,1234,9876,1111\".split(\",\")\n",
    "list_1=[]\n",
    "list_2=[]\n",
    "for i in number:    # i is a part of the number\n",
    "    num=str(i)  #Now number is string\n",
    "    even_sum = 0\n",
    "    odd_sum = 0\n",
    "    for i in range(0,len(num)):\n",
    "        number=int(num[i]) #\n",
    "        if i%2==0:\n",
    "            even_sum+=number\n",
    "        else:\n",
    "            odd_sum+=number\n",
    "    if even_sum==odd_sum:\n",
    "        print(\"magic number\")\n",
    "        list_1.append(num)\n",
    "    else:\n",
    "        print(\"Not magic number\")\n",
    "        list_2.append(num)\n",
    "temp1=tuple(list_1)\n",
    "temp2=tuple(list_2)\n",
    "temp3=(temp1,temp2)\n",
    "print(temp3)\n"
   ]
  },
  {
   "cell_type": "code",
   "execution_count": 7,
   "id": "ab3d1344",
   "metadata": {},
   "outputs": [
    {
     "name": "stdout",
     "output_type": "stream",
     "text": [
      "(('Red', 4), ('Blue', 3))\n"
     ]
    }
   ],
   "source": [
    "#2 >> msi answer\n",
    "string_1=\"RBRRBBR\"  #R=4, G=2, B=3\n",
    "Red_list=[\"Red\",0]\n",
    "Green_list=[\"Green\",0]\n",
    "Blue_list=[\"Blue\",0]\n",
    "dict_1={}\n",
    "list_1=[]\n",
    "list_2=[]\n",
    "list_3=[]\n",
    "for i in range(len(string_1)):\n",
    "    if string_1[i] not in dict_1:\n",
    "        dict_1[string_1[i]]=1\n",
    "    else:\n",
    "        dict_1[string_1[i]] += 1\n",
    "for key,val in dict_1.items():\n",
    "    if \"R\" in dict_1.keys():\n",
    "        Red_list[1]=dict_1[\"R\"]\n",
    "    else:\n",
    "        pass\n",
    "for key,val in dict_1.items():\n",
    "    if \"G\" in dict_1.keys():\n",
    "        Green_list[1]=dict_1[\"G\"]\n",
    "    else:\n",
    "        pass\n",
    "for key,val in dict_1.items():\n",
    "    if \"B\" in dict_1.keys():\n",
    "        Blue_list[1]=dict_1[\"B\"]\n",
    "    else:\n",
    "        pass\n",
    "# # Red_list[1]!=0:\n",
    "# list_1.append((Red_list))\n",
    "# #  Green_list[1]!=0:\n",
    "# list_2.append(tuple(Green_list))\n",
    "   \n",
    "# #  Blue_list[1]!=0:\n",
    "# list_3.append(tuple(Blue_list))\n",
    "\n",
    "temp1=tuple(Red_list)\n",
    "temp2=tuple(Green_list)\n",
    "temp3=tuple(Blue_list)\n",
    "temp4=()\n",
    "if Red_list[1]!=0:\n",
    "    temp4+=(temp1,)\n",
    "if Green_list[1]!=0:\n",
    "    temp4+=(temp2,)\n",
    "if Blue_list[1]!=0:\n",
    "    temp4+=(temp3,)\n",
    "print(temp4)\n"
   ]
  },
  {
   "cell_type": "code",
   "execution_count": null,
   "id": "13290d51",
   "metadata": {},
   "outputs": [],
   "source": [
    "#3 No answer\n",
    "tups=((33, 22, 11), (30, 45, 56, 45,20), (81, 90, 39, 45), (1, 2, 3, 4,5,6))\n",
    "temp_2=int(input(\"len of main tuple: \"))\n",
    "tep=()\n",
    "\n",
    "for i in range(temp_2):\n",
    "    sub_tup=int(input(\"Enter the sub Tuple len: \"))\n",
    "    sub_tuple=()\n",
    "    for j in range(sub_tup):\n",
    "        tem_3=int(input(\"Enter the number: \"))\n",
    "        sub_tuple+=(tem_3,)\n",
    "\n",
    "    tep+=(sub_tuple,)\n",
    "\n",
    "list_2=[]\n",
    "max_sum=0\n",
    "max_tuple=()\n",
    "for i in tups:\n",
    "     sum=0\n",
    "\n",
    "     for j in i:\n",
    "        sum+=j\n",
    "\n",
    "\n",
    "     average=sum/len(i)\n",
    "     list_2.append(average)\n",
    "     if sum>max_sum:\n",
    "         max_sum=sum\n",
    "         max_tuple=i\n",
    "print(list_2)\n",
    "print(max_tuple)\n",
    "# for i in tups:\n",
    "#     if max_len==None:\n",
    "#         max_len=len(i)\n",
    "#     else:\n",
    "#         if max_len<len(i):\n",
    "#             max_len=len(i)\n",
    "# print(max_len)"
   ]
  },
  {
   "cell_type": "code",
   "execution_count": null,
   "id": "62ce82ed",
   "metadata": {},
   "outputs": [],
   "source": []
  }
 ],
 "metadata": {
  "kernelspec": {
   "display_name": "Python 3",
   "language": "python",
   "name": "python3"
  },
  "language_info": {
   "codemirror_mode": {
    "name": "ipython",
    "version": 3
   },
   "file_extension": ".py",
   "mimetype": "text/x-python",
   "name": "python",
   "nbconvert_exporter": "python",
   "pygments_lexer": "ipython3",
   "version": "3.8.8"
  }
 },
 "nbformat": 4,
 "nbformat_minor": 5
}
