{
 "cells": [
  {
   "cell_type": "code",
   "execution_count": 1,
   "id": "b3ce94e3",
   "metadata": {},
   "outputs": [
    {
     "name": "stdout",
     "output_type": "stream",
     "text": [
      "{'a': 400, 'b': 400, 'c': 300, 'd': 400}\n"
     ]
    }
   ],
   "source": [
    "#1 >>no add val in two dictionary \n",
    "\n",
    "d1 = {'a': 100, 'b': 200, 'c':300}\n",
    "d2 = {'a': 300, 'b': 200, 'd':400}\n",
    "dict_1={}\n",
    "\n",
    "for i in d1:\n",
    "    dict_1[i]=d1[i]\n",
    "for i in d2:\n",
    "    if i in dict_1:\n",
    "        dict_1[i]+=d2[i]\n",
    "    else:\n",
    "        dict_1[i]=d2[i]\n",
    "print(dict_1)"
   ]
  },
  {
   "cell_type": "code",
   "execution_count": 2,
   "id": "a03fb1c9",
   "metadata": {},
   "outputs": [
    {
     "name": "stdout",
     "output_type": "stream",
     "text": [
      "['a', 'b']\n",
      "['c', 'd']\n",
      "ac\n",
      "ad\n",
      "bc\n",
      "bd\n"
     ]
    }
   ],
   "source": [
    "#2 >>impotance problem\n",
    "sample = {'1':['a','b'], '2':['c','d']}\n",
    "dict_1=''\n",
    "list_1=sample[\"1\"]\n",
    "list_2=sample[\"2\"]\n",
    "print(list_1)\n",
    "print(list_2)\n",
    "for i in list_1:\n",
    "    for j in list_2:\n",
    "         dict_1=i+j\n",
    "         print(dict_1)\n"
   ]
  },
  {
   "cell_type": "code",
   "execution_count": 1,
   "id": "30968ba0",
   "metadata": {},
   "outputs": [
    {
     "name": "stdout",
     "output_type": "stream",
     "text": [
      "[20, 400, 500, 560, 5874, 5874]\n",
      "5874\n",
      "5874\n",
      "560\n"
     ]
    }
   ],
   "source": [
    "#3 >> max 3 values print 1 logic\n",
    "my_dict = {'a':500, 'b':5874, 'c': 560,'d':400, 'e':5874, 'f': 20}\n",
    "ksort=sorted(my_dict.values())\n",
    "print(ksort)\n",
    "temp=ksort[-1::-1]\n",
    "counter=1\n",
    "for i in temp:\n",
    "\n",
    "    if counter<=3:\n",
    "        print(i)\n",
    "    counter+=1\n",
    "# another process if say no use any function use like sorted\n",
    "\n",
    "# my_dict = {'a':500, 'b':5874, 'c': 560,'d':400, 'e':5874, 'f': 20}\n",
    "# max_val=None\n",
    "# max_key=None\n",
    "# max_val1=0\n",
    "# max_key1=''\n",
    "# max_val2=0\n",
    "# max_key2=''\n",
    "\n",
    "# for key,val in my_dict.items():\n",
    "#     if max_val==None and max_key==None:\n",
    "#         max_val=val\n",
    "#         max_key=key\n",
    "#     else:\n",
    "#         if max_val<val:\n",
    "#             max_val=val\n",
    "#             max_key=key\n",
    "# for key,val in my_dict.items():\n",
    "#     if key==max_key:\n",
    "#         pass\n",
    "#     else:\n",
    "#         if max_val1<val:\n",
    "#             max_val1=val\n",
    "#             max_key1=key\n",
    "# for key,val in my_dict.items():\n",
    "#     if val==max_val and val==max_val1:\n",
    "#         pass\n",
    "#     else:\n",
    "#         if max_val2<val:\n",
    "#             max_val2=val\n",
    "#             max_key2=key\n",
    "# print(max_key,max_val)\n",
    "# print(max_key1,max_val1)\n",
    "# print(max_key2,max_val2)"
   ]
  },
  {
   "cell_type": "code",
   "execution_count": 4,
   "id": "6d213ecc",
   "metadata": {},
   "outputs": [
    {
     "name": "stdout",
     "output_type": "stream",
     "text": [
      "[5874, 5874, 560]\n"
     ]
    }
   ],
   "source": [
    "#4>> another logic \n",
    "my_dict = {'a':500, 'b':5874, 'c': 560,'d':400, 'e':5874, 'f': 20}\n",
    "a=[]\n",
    "for values in my_dict.values():\n",
    "    a.append(values)\n",
    "    a.sort()\n",
    "    \n",
    "print(a[-1:-4:-1])"
   ]
  },
  {
   "cell_type": "code",
   "execution_count": 1,
   "id": "931a1de7",
   "metadata": {},
   "outputs": [
    {
     "name": "stdout",
     "output_type": "stream",
     "text": [
      "4\n",
      "[{'Science': 88, 'Language': 77}, {'Science': 89, 'Language': 78}, {'Science': 62, 'Language': 84}, {'Science': 95, 'Language': 80}]\n"
     ]
    }
   ],
   "source": [
    "#5 no answer>> online \n",
    "dict_1={'Science': [88, 89, 62, 95], 'Language': [77, 78, 84, 80]}\n",
    "list_2=[]\n",
    "list_1=len(dict_1[\"Science\"])\n",
    "print(list_1)\n",
    "\n",
    "for i in range(list_1):\n",
    "    dict_2={\"Science\":dict_1[\"Science\"][i],\"Language\":dict_1[\"Language\"][i]}\n",
    "    list_2.append(dict_2)\n",
    "print(list_2)\n"
   ]
  },
  {
   "cell_type": "code",
   "execution_count": 1,
   "id": "579617e6",
   "metadata": {},
   "outputs": [
    {
     "name": "stdout",
     "output_type": "stream",
     "text": [
      "Aex\n",
      "class : V\n",
      "rolld_id : 2\n",
      "Puja\n",
      "class : V\n",
      "roll_id : 3\n"
     ]
    }
   ],
   "source": [
    "#6 >> all key val line by line\n",
    "students = {'Aex':{'class':'V',\n",
    "        'rolld_id':2},\n",
    "        'Puja':{'class':'V',\n",
    "        'roll_id':3}}\n",
    "for i in students:\n",
    "    print(i)\n",
    "    for j in students[i]:\n",
    "        print(j,\":\",students[i][j])"
   ]
  },
  {
   "cell_type": "code",
   "execution_count": 2,
   "id": "38428a43",
   "metadata": {},
   "outputs": [
    {
     "name": "stdout",
     "output_type": "stream",
     "text": [
      "[81, 83, 87]\n",
      "87\n",
      "83\n",
      "81\n",
      "[('Chemistry', 87), ('Physics', 83), ('Math', 81)]\n"
     ]
    }
   ],
   "source": [
    "#7 >> val upper to lower\n",
    "data= {'Math':81, 'Physics':83, 'Chemistry':87}\n",
    "ksort=sorted(data.values())\n",
    "result=[]\n",
    "print(ksort)\n",
    "for nums in ksort[::-1]:\n",
    "    print(nums)\n",
    "    for key,val in data.items():\n",
    "        if nums==val:\n",
    "            result.append((key,val))\n",
    "print(result)"
   ]
  },
  {
   "cell_type": "code",
   "execution_count": 3,
   "id": "08bfe1b6",
   "metadata": {},
   "outputs": [
    {
     "name": "stdout",
     "output_type": "stream",
     "text": [
      "{'Class-V': 1}\n",
      "{'Class-V': 1, 'Class-VI': 2}\n",
      "{'Class-V': 1, 'Class-VI': 2, 'Class-VII': 2}\n",
      "{'Class-V': 1, 'Class-VI': 2, 'Class-VII': 2, 'Class-VIII': 3}\n",
      "{'Class-V': 1, 'Class-VI': 2, 'Class-VII': 2, 'Class-VIII': 3}\n"
     ]
    }
   ],
   "source": [
    "#8>> two list create a dictonary\n",
    "list_1=['Class-V', 'Class-VI', 'Class-VII', 'Class-VIII']\n",
    "list_2= [1, 2, 2, 3]\n",
    "dict_1={}\n",
    "for i in range(len(list_1)):\n",
    "    if list_1[i] not in dict_1:\n",
    "        dict_1[list_1[i]]=list_2[i]\n",
    "        print(dict_1)\n",
    "print(dict_1)"
   ]
  },
  {
   "cell_type": "code",
   "execution_count": 7,
   "id": "96e93740",
   "metadata": {},
   "outputs": [
    {
     "name": "stdout",
     "output_type": "stream",
     "text": [
      "key1 : 1\n",
      "key2 : 2\n"
     ]
    }
   ],
   "source": [
    "#9>> find  two common dictonary key and values \n",
    "dict_1={'key1': 1, 'key2': 2, 'key3': 3}\n",
    "dict_2={'key1': 1, 'key2': 2}\n",
    "for items1 in dict_1.items():\n",
    "    key1,val1=items1\n",
    "    for items2 in dict_2.items():\n",
    "        key2,val2=items2\n",
    "        if val1==val2 and key1==key2:\n",
    "            print(items1[0],\":\",items1[1])    "
   ]
  },
  {
   "cell_type": "code",
   "execution_count": 8,
   "id": "0ab969cc",
   "metadata": {},
   "outputs": [
    {
     "name": "stdout",
     "output_type": "stream",
     "text": [
      "15\n",
      "25\n",
      "35\n",
      "x Has value [11, 12, 13, 14, 15, 16, 17, 18, 19]\n",
      "y Has value [21, 22, 23, 24, 25, 26, 27, 28, 29]\n",
      "z Has value [31, 32, 33, 34, 35, 36, 37, 38, 39]\n"
     ]
    }
   ],
   "source": [
    "#10 >> find 4 index value in list \n",
    "dict_1={'x': [11, 12, 13, 14, 15, 16, 17, 18, 19],\n",
    "'y': [21, 22, 23, 24, 25, 26, 27, 28, 29],\n",
    "'z': [31, 32, 33, 34, 35, 36, 37, 38, 39]}\n",
    "for key,val in dict_1.items():\n",
    "    print(val[4])\n",
    "for key,val in dict_1.items():\n",
    "    print(key,\"Has value\",val)"
   ]
  },
  {
   "cell_type": "code",
   "execution_count": 2,
   "id": "b4a9d590",
   "metadata": {},
   "outputs": [
    {
     "name": "stdout",
     "output_type": "stream",
     "text": [
      "(6.2, 70)\n",
      "(5.9, 65)\n",
      "(6.0, 68)\n",
      "(5.8, 66)\n",
      "{'Cierra Vega': (6.2, 70)}\n"
     ]
    }
   ],
   "source": [
    "#11 no >> online \n",
    "dict_1={'Cierra Vega': (6.2, 70), 'Alden Cantrell': (5.9, 65), 'Kierra Gentry': (6.0, 68), 'Pierre Cox': (5.8, 66)}\n",
    "#Height > 6ft and Weight> 70kg:\n",
    "dict_2={}\n",
    "for key,val in dict_1.items():\n",
    "    Height,Weight=val\n",
    "    print(val)\n",
    "    if Height>=6 and Weight>=70:\n",
    "        dict_2[key]=val\n",
    "print(dict_2)"
   ]
  },
  {
   "cell_type": "code",
   "execution_count": 2,
   "id": "b2967bb6",
   "metadata": {},
   "outputs": [
    {
     "name": "stdout",
     "output_type": "stream",
     "text": [
      "val1 55 key1 item4\n",
      "val2 45.5 key2 item1\n",
      "val3 41.3 key3 item3\n"
     ]
    }
   ],
   "source": [
    "#12 >> \n",
    "data= {'item1': 45.50, 'item2':35, 'item3': 41.30, 'item4':55, 'item5': 24}\n",
    "max_val=0 #45\n",
    "max_val1=0\n",
    "max_val2=0\n",
    "max_key=''\n",
    "max_key1=''\n",
    "max_key2=''\n",
    "for key,val in data.items():\n",
    "\n",
    "    if val>max_val:\n",
    "        max_val=val\n",
    "        max_key=key\n",
    "\n",
    "for key1,val1 in data.items():\n",
    "    if max_val==val1:\n",
    "        pass\n",
    "    elif val1>max_val1:\n",
    "        max_val1=val1\n",
    "        max_key1=key1\n",
    "for key2,val2 in data.items():\n",
    "    if max_val1 == val2 or max_val==val2:\n",
    "            pass\n",
    "    elif val2 > max_val2:\n",
    "           max_val2= val2\n",
    "           max_key2=key2\n",
    "print(\"val1\",max_val,\"key1\",max_key)\n",
    "print(\"val2\",max_val1,\"key2\",max_key1)\n",
    "print(\"val3\",max_val2,\"key3\",max_key2)"
   ]
  },
  {
   "cell_type": "code",
   "execution_count": 3,
   "id": "11c92272",
   "metadata": {},
   "outputs": [
    {
     "name": "stdout",
     "output_type": "stream",
     "text": [
      "{'Saim Richards': {'Saim Richards': 92}}\n"
     ]
    }
   ],
   "source": [
    "#113>> \n",
    "list_1=['S001', 'S002', 'S003', 'S004']\n",
    "list_2=['Adina Park', 'Leyton Marsh', 'Duncan Boyle', 'Saim Richards']\n",
    "list_3=[85, 98, 89, 92]\n",
    "dict_1={}\n",
    "\n",
    "new_val=0\n",
    "for i in range(len(list_1)):\n",
    "    dict_1[list_1[i]]=list_2[i]\n",
    "i=0\n",
    "for key,val in dict_1.items():\n",
    "    new_val={val:list_3[i]}\n",
    "    i+=1\n",
    "    dict_2={dict_1[key]: new_val}\n",
    "\n",
    "print(dict_2)\n"
   ]
  },
  {
   "cell_type": "code",
   "execution_count": 1,
   "id": "101d82e8",
   "metadata": {},
   "outputs": [
    {
     "name": "stdout",
     "output_type": "stream",
     "text": [
      "1\n",
      "2\n",
      "3\n",
      "4\n",
      "5\n",
      "[[1, 'red'], [2, 'green'], [3, 'black'], [4, 'white'], [5, 'black']]\n"
     ]
    }
   ],
   "source": [
    "#14 >> online\n",
    "dict_1={1: 'red', 2: 'green', 3: 'black', 4: 'white', 5: 'black'}\n",
    "list_1=[]\n",
    "\n",
    "#[[1, 'red'], [2, 'green'], [3, 'black'], [4, 'white'], [5, 'black']]\n",
    "for key,val in dict_1.items():\n",
    "    print(key)\n",
    "    dict_2=[key,val]\n",
    "    list_1.append(dict_2)\n",
    "    \n",
    "print(list_1)"
   ]
  },
  {
   "cell_type": "code",
   "execution_count": 1,
   "id": "06a3e0f6",
   "metadata": {},
   "outputs": [
    {
     "name": "stdout",
     "output_type": "stream",
     "text": [
      "{'w': [50], 'x': [100, 300], 'y': ['Green', 'Red'], 'z': [400, 600]}\n"
     ]
    }
   ],
   "source": [
    "#14>> MSI sir practice problem dictonary\n",
    "dict_1={'w': 50, 'x': 100, 'y': 'Green', 'z': 400}\n",
    "dict_2={'x': 300, 'y': 'Red', 'z': 600}\n",
    "dict_3={}\n",
    "for key,val in dict_1.items():\n",
    "    if key not in dict_3:\n",
    "        dict_3[key]=[]\n",
    "        dict_3[key].append(val)\n",
    "for key1,val1 in dict_2.items():\n",
    "    if key1 in dict_3:\n",
    "            # dict_3[key1]=[]\n",
    "        dict_3[key1].append(val1)\n",
    "    else:\n",
    "        dict_3[key1]=val\n",
    "print(dict_3)"
   ]
  },
  {
   "cell_type": "code",
   "execution_count": 3,
   "id": "c1215941",
   "metadata": {},
   "outputs": [
    {
     "name": "stdout",
     "output_type": "stream",
     "text": [
      "{'a': [5, 2, 17], 'P': [11], 'B': [37, 53, 71], 'c': []}\n"
     ]
    }
   ],
   "source": [
    "#15>> MSI sir practice problem \n",
    "dict_1 = {\"a\":[5,2,55,17],\"P\":(11,121,222),\"B\":(37,53,71),\"c\":[45,92,50]}\n",
    "dict_2={}\n",
    "# list_1=\n",
    "# tuple_1=dict_1[\"2\"]\n",
    "# print(list_1)\n",
    "for key,val in dict_1.items():\n",
    "    # print(val)\n",
    "    i=0\n",
    "    val1=len(val)\n",
    "    for i in range(val1):\n",
    "\n",
    "        counter=0\n",
    "        for x in range(1,val[i]+1):\n",
    "            if val[i]%x==0:\n",
    "                counter+=1\n",
    "                i+=0\n",
    "\n",
    "        if counter<=2:\n",
    "            # print(val[i])\n",
    "            # dict_2[key]=val[i]\n",
    "            if key not in dict_2.keys():\n",
    "                dict_2[key]=[val[i]]\n",
    "            else:\n",
    "                dict_2[key].append(val[i])\n",
    "    if key not in dict_2.keys():\n",
    "        dict_2[key]=[]\n",
    "print(dict_2)"
   ]
  },
  {
   "cell_type": "code",
   "execution_count": 2,
   "id": "26c527ac",
   "metadata": {},
   "outputs": [
    {
     "name": "stdout",
     "output_type": "stream",
     "text": [
      "Additive Damage Score is 60\n",
      "The agent's name is Rage\n"
     ]
    }
   ],
   "source": [
    "#3 Msi sir practice problem\n",
    "given_dict ={ \"Normal Skills\":[10,10,10], \"Ultimate Skill\":30 }\n",
    "list_1=given_dict[\"Normal Skills\"]\n",
    "list_2=given_dict[\"Ultimate Skill\"]\n",
    "Normal_skill=0\n",
    "for i in list_1:\n",
    "    Normal_skill+=i\n",
    "addive_damage_skill=Normal_skill+list_2\n",
    "print(\"Additive Damage Score is\",addive_damage_skill)\n",
    "if addive_damage_skill<=70:\n",
    "    print(\"The agent's name is Rage\")\n",
    "elif addive_damage_skill<=100:\n",
    "    print(\"The agent's name is Jctt\")\n",
    "else:\n",
    "    print(\"The agent's name is Sage\")\n"
   ]
  },
  {
   "cell_type": "code",
   "execution_count": null,
   "id": "1fef84f3",
   "metadata": {},
   "outputs": [],
   "source": [
    "#msi sir tuple practice\n",
    "tups=((33, 22, 11), (30, 45, 56, 45,20), (81, 90, 39, 45), (1, 2, 3, 4,5,6))\n",
    "temp_2=int(input(\"len of main tuple: \"))\n",
    "tep=()\n",
    "\n",
    "for i in range(temp_2):\n",
    "    sub_tup=int(input(\"Enter the sub Tuple len: \"))\n",
    "    sub_tuple=()\n",
    "    for j in range(sub_tup):\n",
    "        tem_3=int(input(\"Enter the number: \"))\n",
    "        sub_tuple+=(tem_3,)\n",
    "\n",
    "    tep+=(sub_tuple,)\n",
    "\n",
    "list_2=[]\n",
    "max_sum=0\n",
    "max_tuple=()\n",
    "for i in tups:\n",
    "     sum=0\n",
    "\n",
    "     for j in i:\n",
    "        sum+=j\n",
    "\n",
    "\n",
    "     average=sum/len(i)\n",
    "     list_2.append(average)\n",
    "     if sum>max_sum:\n",
    "         max_sum=sum\n",
    "         max_tuple=i\n",
    "print(list_2)\n",
    "print(max_tuple)\n",
    "# for i in tups:\n",
    "#     if max_len==None:\n",
    "#         max_len=len(i)\n",
    "#     else:\n",
    "#         if max_len<len(i):\n",
    "#             max_len=len(i)\n",
    "# print(max_len)"
   ]
  },
  {
   "cell_type": "markdown",
   "id": "7336136a",
   "metadata": {},
   "source": [
    "# problem\n",
    "\n",
    "Write a Python program to group the elements of a given list based on the given function. Go to the editor\\\n",
    "**Sample Output:**\\\n",
    "**Original list & function:**\\\n",
    "[7, 23, 3.2, 3.3, 8.4] Function name: floor:\\\n",
    "Group the elements of the said list based on the given function:\\\n",
    "{7: [7], 23: [23], 3: [3.2, 3.3], 8: [8.4]}"
   ]
  },
  {
   "cell_type": "code",
   "execution_count": 1,
   "id": "2c8c2d2f",
   "metadata": {},
   "outputs": [
    {
     "name": "stdout",
     "output_type": "stream",
     "text": [
      "{7: [7], 23: [23], 3: [3.2, 3.3], 2: [2.3, 2.6], 8: [8.4], 33: [33]}\n"
     ]
    }
   ],
   "source": [
    "#ans solution\n",
    "list1=[7, 23, 3.2, 3.3,2.3,2.6, 8.4,33]\n",
    "\n",
    "dict_1={}\n",
    "\n",
    "for i in list1:\n",
    "\n",
    "    temp=str(i)\n",
    "    if len(temp)==1:\n",
    "        dict_1[int(temp)]=[]\n",
    "        dict_1[int(temp)].append(int(temp))\n",
    "    elif temp[1]==\".\":\n",
    "\n",
    "        if temp[0] ==temp[0]:\n",
    "            if int(temp[0]) not in dict_1 :\n",
    "\n",
    "                dict_1[int(temp[0])] = []\n",
    "                dict_1[int(temp[0])].append(float(temp))\n",
    "            else:\n",
    "                dict_1[int(temp[0])].append(float(temp))\n",
    "    else:\n",
    "        dict_1[int(temp)]=[]\n",
    "        dict_1[int(temp)].append(int(temp))\n",
    "\n",
    "print(dict_1)\n"
   ]
  },
  {
   "cell_type": "code",
   "execution_count": null,
   "id": "2b8c173c",
   "metadata": {},
   "outputs": [],
   "source": []
  }
 ],
 "metadata": {
  "kernelspec": {
   "display_name": "Python 3",
   "language": "python",
   "name": "python3"
  },
  "language_info": {
   "codemirror_mode": {
    "name": "ipython",
    "version": 3
   },
   "file_extension": ".py",
   "mimetype": "text/x-python",
   "name": "python",
   "nbconvert_exporter": "python",
   "pygments_lexer": "ipython3",
   "version": "3.8.8"
  }
 },
 "nbformat": 4,
 "nbformat_minor": 5
}
