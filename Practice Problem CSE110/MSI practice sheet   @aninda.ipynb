{
 "cells": [
  {
   "cell_type": "code",
   "execution_count": null,
   "id": "419101b9",
   "metadata": {},
   "outputs": [],
   "source": [
    "#1 no question\n",
    "\n",
    "x=int(input(\"Enter the number :\"))\n",
    "y=int(input(\"Enter the number: \"))\n",
    "z=int(input(\"Enter the number: \"))\n",
    "s=(x+y+z)/2\n",
    "product=(s-x)*(s-y)*(s-z)\n",
    "root=pow(product,0.5)\n",
    "area=s*root\n",
    "print(area)\n"
   ]
  },
  {
   "cell_type": "code",
   "execution_count": null,
   "id": "10563d20",
   "metadata": {},
   "outputs": [],
   "source": [
    "# 2 no answer \n",
    "\n",
    "a=int(input(\"enter the number: \"))\n",
    "b=int(input(\"ENter the number : \"))\n",
    "c=int(input(\"Enter the number: \"))\n",
    "\n",
    "if b<a+c and a<b+c and c<a+b:\n",
    "    print(\"valid triangle\")\n",
    "    # if a>b+c:\n",
    "    #     if c>a+b:\n",
    "    #         print(\"valid triangel\")\n",
    "else:\n",
    "    print(\"NOt valid Triangle \")"
   ]
  },
  {
   "cell_type": "code",
   "execution_count": 4,
   "id": "6f5c6312",
   "metadata": {},
   "outputs": [
    {
     "name": "stdout",
     "output_type": "stream",
     "text": [
      "Enter the number: 2004\n",
      "Leap year\n"
     ]
    }
   ],
   "source": [
    "# 3 no answer\n",
    "\n",
    "year=int(input(\"Enter the number: \"))\n",
    "\n",
    "if year%4==0:\n",
    "    if year%100==0:\n",
    "        if  year%400==0:\n",
    "            print(\"leap year\")\n",
    "        else:\n",
    "            print((\"Not leap year \"))\n",
    "    else:\n",
    "        print(\"Leap year\")\n",
    "else:\n",
    "    print(\"Not Leap  year\")"
   ]
  },
  {
   "cell_type": "code",
   "execution_count": null,
   "id": "256bcc8f",
   "metadata": {},
   "outputs": [],
   "source": [
    "# 4 no answer\n",
    "\n",
    "n=int(input(\"Enter the number: \"))\n",
    "initial=1\n",
    "sum=1\n",
    "for i in range(n):\n",
    "    initial=initial*10+1\n",
    "    print(initial)\n",
    "    sum+=initial\n",
    "print(sum)\n"
   ]
  },
  {
   "cell_type": "code",
   "execution_count": null,
   "id": "bde682ec",
   "metadata": {},
   "outputs": [],
   "source": [
    "# 5 No answer\n",
    "n=int(input(\"enter the number: \"))\n",
    "\n",
    "for i in range(1,11):\n",
    "   product=n*i\n",
    "   print(n,\"x\",i,\"=\",product)"
   ]
  },
  {
   "cell_type": "code",
   "execution_count": null,
   "id": "18ff0383",
   "metadata": {},
   "outputs": [],
   "source": [
    "#6 no asnwer \n",
    "n=0\n",
    "sum=0\n",
    "product=1\n",
    "while n<1:\n",
    "    num=input(\"Enter the number: \")\n",
    "    if num ==\"stop\":\n",
    "        break\n",
    "    sum+=int(num)\n",
    "    product*=int(num)\n",
    "print(sum)\n",
    "print(product)"
   ]
  },
  {
   "cell_type": "code",
   "execution_count": null,
   "id": "d8f310e8",
   "metadata": {},
   "outputs": [],
   "source": [
    "#7 no answer \n",
    "string1=\"Welcome to geeksforgeeks.com1\"\n",
    "alphabate=0\n",
    "digit=0\n",
    "mixed=0\n",
    "\n",
    "\n",
    "for i in range(len(string1)):\n",
    "    # print(string1[i])\n",
    "    if (string1[i]>=\"A\" and string1[i]<=\"Z\") or( string1[i]>=\"a\" and string1[i]<=\"z\"):\n",
    "\n",
    "        alphabate+=1\n",
    "\n",
    "    elif (string1[i]>=\"1\" and string1[i]<=\"9\"):\n",
    "\n",
    "        digit+=1\n",
    "\n",
    "    else:\n",
    "        # print(\"space or other symbol\",string1[i])\n",
    "        mixed+=1\n",
    "print(alphabate,\"alphabate\")\n",
    "print(digit,\"digit\")\n",
    "print(mixed,\"mixed\")"
   ]
  },
  {
   "cell_type": "code",
   "execution_count": 1,
   "id": "cca455a1",
   "metadata": {},
   "outputs": [
    {
     "name": "stdout",
     "output_type": "stream",
     "text": [
      "The largest word is smallest and The smallest word is a\n"
     ]
    }
   ],
   "source": [
    "#8 no answer\n",
    "string1=(\"It is a string with the smallest\").split()\n",
    "max_string=\"\"\n",
    "min_string=string1[0]\n",
    "for i in string1:\n",
    "    if len(i)> len( max_string):\n",
    "        max_string=i\n",
    "    if len(i)<len(min_string):\n",
    "        min_string=i\n",
    "# print(max_string)\n",
    "# print(min_string)\n",
    "print(\"The largest word is\",max_string,\"and\",\"The smallest word is\",min_string)\n"
   ]
  },
  {
   "cell_type": "code",
   "execution_count": null,
   "id": "3cb33827",
   "metadata": {},
   "outputs": [],
   "source": []
  },
  {
   "cell_type": "code",
   "execution_count": 2,
   "id": "f53acf7b",
   "metadata": {},
   "outputs": [
    {
     "name": "stdout",
     "output_type": "stream",
     "text": [
      "nda  great"
     ]
    }
   ],
   "source": [
    "# 10 no answer\n",
    "\n",
    "string1=\"India is great\"\n",
    "string2=\"is\"\n",
    "string3=\"\"\n",
    "\n",
    "for i in string1:\n",
    "    if i.lower() in string2.lower():\n",
    "        continue\n",
    "\n",
    "    else:\n",
    "        print(i,end=\"\")"
   ]
  },
  {
   "cell_type": "code",
   "execution_count": 3,
   "id": "f047ceff",
   "metadata": {},
   "outputs": [
    {
     "name": "stdout",
     "output_type": "stream",
     "text": [
      "Enter number: aninda\n"
     ]
    },
    {
     "ename": "ValueError",
     "evalue": "invalid literal for int() with base 10: 'aninda'",
     "output_type": "error",
     "traceback": [
      "\u001b[1;31m---------------------------------------------------------------------------\u001b[0m",
      "\u001b[1;31mValueError\u001b[0m                                Traceback (most recent call last)",
      "\u001b[1;32m<ipython-input-3-2fec04bf4f1b>\u001b[0m in \u001b[0;36m<module>\u001b[1;34m\u001b[0m\n\u001b[0;32m      4\u001b[0m \u001b[0mstring1\u001b[0m\u001b[1;33m=\u001b[0m\u001b[0minput\u001b[0m\u001b[1;33m(\u001b[0m\u001b[1;34m\"Enter number: \"\u001b[0m\u001b[1;33m)\u001b[0m\u001b[1;33m.\u001b[0m\u001b[0msplit\u001b[0m\u001b[1;33m(\u001b[0m\u001b[1;34m\",\"\u001b[0m\u001b[1;33m)\u001b[0m\u001b[1;33m\u001b[0m\u001b[1;33m\u001b[0m\u001b[0m\n\u001b[0;32m      5\u001b[0m \u001b[1;32mfor\u001b[0m \u001b[0mi\u001b[0m \u001b[1;32min\u001b[0m \u001b[0mstring1\u001b[0m\u001b[1;33m:\u001b[0m\u001b[1;33m\u001b[0m\u001b[1;33m\u001b[0m\u001b[0m\n\u001b[1;32m----> 6\u001b[1;33m     \u001b[0mproduct\u001b[0m\u001b[1;33m=\u001b[0m\u001b[0mproduct\u001b[0m\u001b[1;33m*\u001b[0m\u001b[0mint\u001b[0m\u001b[1;33m(\u001b[0m\u001b[0mi\u001b[0m\u001b[1;33m)\u001b[0m\u001b[1;33m\u001b[0m\u001b[1;33m\u001b[0m\u001b[0m\n\u001b[0m\u001b[0;32m      7\u001b[0m \u001b[1;33m\u001b[0m\u001b[0m\n\u001b[0;32m      8\u001b[0m \u001b[1;33m\u001b[0m\u001b[0m\n",
      "\u001b[1;31mValueError\u001b[0m: invalid literal for int() with base 10: 'aninda'"
     ]
    }
   ],
   "source": [
    "#12 No answer\n",
    "product=1\n",
    "sum=0\n",
    "string1=input(\"Enter number: \").split(\",\")\n",
    "for i in string1:\n",
    "    product=product*int(i)\n",
    "\n",
    "\n",
    "\n",
    "print(product)"
   ]
  },
  {
   "cell_type": "code",
   "execution_count": null,
   "id": "2e9905f8",
   "metadata": {},
   "outputs": [],
   "source": [
    "#14 no answer \n",
    "\n",
    "string1=['Red','Green','Blue','White','Black']\n",
    "list1=[]\n",
    "print(string1)\n",
    "for i in string1:\n",
    "\n",
    "    list1.append(i[::-1])\n",
    "print(list1)"
   ]
  },
  {
   "cell_type": "code",
   "execution_count": 4,
   "id": "f5afd2a5",
   "metadata": {},
   "outputs": [
    {
     "name": "stdout",
     "output_type": "stream",
     "text": [
      "First even:  4\n",
      "First odd:  1\n"
     ]
    }
   ],
   "source": [
    "#15 no answer\n",
    "list1=[1, 3, 5, 7, 4, 1, 6, 8]\n",
    "for i in list1:\n",
    "    if (i%2==0):\n",
    "        print(\"First even: \",i)\n",
    "        break \n",
    "for j in list1:\n",
    "    if(j%2!=0):\n",
    "        print(\"First odd: \",j)\n",
    "        break"
   ]
  },
  {
   "cell_type": "code",
   "execution_count": 8,
   "id": "6196b9f6",
   "metadata": {},
   "outputs": [
    {
     "name": "stdout",
     "output_type": "stream",
     "text": [
      "\u0000\n",
      "\u0000I\n",
      "\u0000I L\n",
      "\u0000I Love P\n",
      "\u0000I Love Python P\n",
      "\u0000I Love Python Programming \n"
     ]
    }
   ],
   "source": [
    "#16 no answer \n",
    "string=\" I love python programming \"\n",
    "\n",
    "output=''\n",
    "ans=''\n",
    "for i in range(len(string)):\n",
    "    if \"A\"<=string[i]<=\"Z\":\n",
    "        output+=chr(ord(string[i])+32)\n",
    "\n",
    "    else:\n",
    "        output+=string[i]\n",
    "\n",
    "for j in range(len(output)):\n",
    "    \n",
    "\n",
    "    if output[j-1]==\" \":\n",
    "        ans+=chr(ord(output[j])-32)\n",
    "        print(ans)\n",
    "    else:\n",
    "        ans+=output[j]\n",
    "print(ans)"
   ]
  },
  {
   "cell_type": "code",
   "execution_count": 1,
   "id": "98352d1b",
   "metadata": {},
   "outputs": [
    {
     "name": "stdout",
     "output_type": "stream",
     "text": [
      "t 2\n",
      "h 2\n",
      "e 3\n",
      "u 2\n",
      "r 2\n",
      "o 4\n"
     ]
    }
   ],
   "source": [
    "# 1 online practice problem\n",
    "string=\"thequickbrownfoxjumpsoverthelazydog\"\n",
    "dict_1={}\n",
    "for i in range(len(string)):\n",
    "    if string[i] not in dict_1:\n",
    "        dict_1[string[i]]=1\n",
    "    elif string[i] in dict_1:\n",
    "        dict_1[string[i]] += 1\n",
    "for key,val in dict_1.items():\n",
    "    if val>=2:\n",
    "        print(key,val)"
   ]
  },
  {
   "cell_type": "code",
   "execution_count": null,
   "id": "b77ddcfb",
   "metadata": {},
   "outputs": [],
   "source": []
  }
 ],
 "metadata": {
  "kernelspec": {
   "display_name": "Python 3",
   "language": "python",
   "name": "python3"
  },
  "language_info": {
   "codemirror_mode": {
    "name": "ipython",
    "version": 3
   },
   "file_extension": ".py",
   "mimetype": "text/x-python",
   "name": "python",
   "nbconvert_exporter": "python",
   "pygments_lexer": "ipython3",
   "version": "3.8.8"
  }
 },
 "nbformat": 4,
 "nbformat_minor": 5
}
